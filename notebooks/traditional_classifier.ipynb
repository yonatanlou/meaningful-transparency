{
 "cells": [
  {
   "cell_type": "markdown",
   "id": "c1686756-542e-4bee-a8d5-853cd856da1d",
   "metadata": {},
   "source": [
    "# Imports"
   ]
  },
  {
   "cell_type": "code",
   "execution_count": 2,
   "id": "a80554bb-2109-4c67-ad73-eb083a06f21b",
   "metadata": {},
   "outputs": [
    {
     "name": "stdout",
     "output_type": "stream",
     "text": [
      "Adding /Users/yonatanlou/dev/meaningful-transparency/src to sys.path\n"
     ]
    }
   ],
   "source": [
    "# for importing code\n",
    "import sys, os\n",
    "\n",
    "module_path = os.path.abspath(os.path.join(\"..\", \"src\"))\n",
    "if module_path not in sys.path:\n",
    "    print(f\"Adding {module_path} to sys.path\")\n",
    "    sys.path.append(module_path)"
   ]
  },
  {
   "cell_type": "code",
   "execution_count": 8,
   "id": "b75032f2-d3fd-49c5-8046-4e4127edc3a0",
   "metadata": {},
   "outputs": [
    {
     "data": {
      "text/plain": [
       "(3443, 20)"
      ]
     },
     "execution_count": 8,
     "metadata": {},
     "output_type": "execute_result"
    }
   ],
   "source": [
    "import pandas as pd\n",
    "from constants import PROJECT_ROOT\n",
    "\n",
    "# created by: uv run python src/classify_twitter_posts.py --model anthropic/claude-sonnet-4 --temperature 0.1 --n-samples 750 --min-chars 50 --results_filename twitter_posts_classified\n",
    "path = (\n",
    "    f\"{PROJECT_ROOT}/datasets/train_test_datasets/train.csv\"\n",
    ")\n",
    "df = pd.read_csv(path)\n",
    "df.shape\n"
   ]
  },
  {
   "cell_type": "code",
   "execution_count": 14,
   "id": "0d101e4c",
   "metadata": {},
   "outputs": [
    {
     "name": "stdout",
     "output_type": "stream",
     "text": [
      "Train size: 2410, Test size: 1033\n",
      "Confusion matrix (rows true, cols pred):\n",
      "        pred_0  pred_1\n",
      "true_0     888       0\n",
      "true_1     127      18\n",
      "\n",
      "Accuracy: 0.8770571151984511\n",
      "\n",
      "Classification report:\n",
      "              precision    recall  f1-score   support\n",
      "\n",
      "           0      0.875     1.000     0.933       888\n",
      "           1      1.000     0.124     0.221       145\n",
      "\n",
      "    accuracy                          0.877      1033\n",
      "   macro avg      0.937     0.562     0.577      1033\n",
      "weighted avg      0.892     0.877     0.833      1033\n",
      "\n"
     ]
    },
    {
     "data": {
      "text/plain": [
       "Text(70.7222222222222, 0.5, 'Actual')"
      ]
     },
     "execution_count": 14,
     "metadata": {},
     "output_type": "execute_result"
    },
    {
     "data": {
      "image/png": "[encoded data removed]",
      "text/plain": [
       "<Figure size 800x600 with 1 Axes>"
      ]
     },
     "metadata": {},
     "output_type": "display_data"
    }
   ],
   "source": [
    "# Minimal TF-IDF + Logistic Regression on df[Text, Biased]\n",
    "\n",
    "import pandas as pd\n",
    "from sklearn.model_selection import train_test_split\n",
    "from sklearn.pipeline import make_pipeline\n",
    "from sklearn.feature_extraction.text import TfidfVectorizer\n",
    "from sklearn.linear_model import LogisticRegression\n",
    "from sklearn.metrics import confusion_matrix, classification_report, accuracy_score\n",
    "\n",
    "# Assume you already have a DataFrame `df` with columns: \"Text\" (str), \"Biased\" (0 or 1)\n",
    "# Light hygiene in case there are NaNs\n",
    "df_use = df[['Text', 'Biased']].dropna()\n",
    "X = df_use['Text'].astype(str)\n",
    "y = df_use['Biased'].astype(int)\n",
    "\n",
    "# Train test split\n",
    "X_train, X_test, y_train, y_test = train_test_split(\n",
    "    X, y,\n",
    "    test_size=0.3,\n",
    "    random_state=42,\n",
    "    stratify=y\n",
    ")\n",
    "print(f\"Train size: {len(X_train)}, Test size: {len(X_test)}\")\n",
    "# Build pipeline\n",
    "clf = make_pipeline(\n",
    "    TfidfVectorizer(),                 # default settings, no extra preprocessing\n",
    "    LogisticRegression(max_iter=1000)  # simple baseline\n",
    ")\n",
    "\n",
    "# Train\n",
    "clf.fit(X_train, y_train)\n",
    "\n",
    "# Predict on test\n",
    "y_pred = clf.predict(X_test)\n",
    "\n",
    "# Confusion matrix\n",
    "cm = confusion_matrix(y_test, y_pred, labels=[0, 1])\n",
    "cm_df = pd.DataFrame(cm, index=['true_0', 'true_1'], columns=['pred_0', 'pred_1'])\n",
    "print(\"Confusion matrix (rows true, cols pred):\")\n",
    "print(cm_df)\n",
    "\n",
    "# Simple scores\n",
    "print(\"\\nAccuracy:\", accuracy_score(y_test, y_pred))\n",
    "print(\"\\nClassification report:\")\n",
    "print(classification_report(y_test, y_pred, digits=3))\n",
    "import seaborn as sns\n",
    "import matplotlib.pyplot as plt\n",
    "fig, ax = plt.subplots(1, 1, figsize=(8, 6))\n",
    "sns.heatmap(\n",
    "    cm,\n",
    "    annot=True,\n",
    "    fmt=\"d\",\n",
    "    cmap=\"Blues\",\n",
    "    cbar=False,\n",
    "    xticklabels=[\"Predicted Non-antisemitic\", \"Predicted Antisemitic\"],\n",
    "    yticklabels=[\"Actual Non-antisemitic\", \"Actual Antisemitic\"],\n",
    "    ax=ax,\n",
    ")\n",
    "\n",
    "\n",
    "ax.set_xlabel(\"Predicted\", fontsize=12)\n",
    "ax.set_ylabel(\"Actual\", fontsize=12)\n",
    "\n"
   ]
  },
  {
   "cell_type": "code",
   "execution_count": 27,
   "id": "6a46b9c1",
   "metadata": {},
   "outputs": [
    {
     "data": {
      "application/vnd.plotly.v1+json": {
       "config": {
        "plotlyServerURL": "https://plot.ly"
       },
       "data": [
        {
         "customdata": [
          [
           "The Democrats who skip AIPAC are not friends to Israel or Jews. https://t.co/IpOa5sJioX",
           "2"
          ],
          [
           "David Friedman and his wife Tammy donate $50,000 to Leket Israel, Israel's largest food aid<br>organization. \\nThank you @USAmbIsrael, your generousity is boundless. \\nhttps://t.co/MWQBsNpFKh",
           "2"
          ],
          [
           "RT @misir_cerezi: Palestine is not alone. Occupier Israel is not a real state. We are<br>with our Palestinian brothers and sisters. HasbinAllah ve niÄŸmel vekil! #IsraeliTerrorism #HearGaza #GazaUnderAttack https://t.co/NywRgSweUC",
           "2"
          ],
          [
           "RT @mtprospectcardr: �You can�t reduce such complex situations to �it�s the jews� Oh but you<br>can� https://t.co/bbFMnfz0cd",
           "2"
          ],
          [
           "India is not only a place where Jews never faced anti-semitism or persecution, it is<br>also a county that provided a safe haven to Jews escaping the #Holocaust. #NeverForget #UnitedinMemory75<br>https://t.co/cBFLE9an6z",
           "2"
          ],
          [
           "You left out the words \"except the Jews\" from your tweet. Or did you just<br>not bother to ask him about the institutionalised antisemitism that has taken told of his<br>party since he took over as leader? https://t.co/aiNWrrwJJG",
           "2"
          ],
          [
           "NYC: Black bloc person who punches a �Jews for Trump� caravan participant gets knocked to<br>the ground when he tries to run away. https://t.co/WbPpFWEu2o",
           "2"
          ],
          [
           "This lie keeps being spread. Jews are understandably sensitive to antisemitic propaganda because we know<br>where it can and will lead. The Nazi dictatorship had 12 years to institutionalize antisemitism<br>into the fabric of life in Germany. The Palestinian leadership has had decades. https://t.co/nN92oHMFbZ",
           "2"
          ],
          [
           "This is the third high-rise building to be destroyed since the escalation began on Monday.<br>Not immediately clear if there were any casualties. #Gaza #Israel https://t.co/hsx43UstmA",
           "2"
          ],
          [
           "Israeli Jews Petition International Criminal Court, Say Israel’s Mandatory COVID Vaccines Violate Nuremberg Code https://t.co/Wo2IhBPpcM<br>Yes it does, I`ve been saying that for months now. And any private company that<br>requires it for employment are in violation as well !!!!!",
           "2"
          ],
          [
           "trump literally gets up and says “you people love money and your country, which is<br>israel” every time he talks to jews it’s beyond disgusting https://t.co/03qK3LVmKE",
           "2"
          ],
          [
           "fuck israel and anyone who supports it. RT’s For a FREE Palestine.. https://t.co/g6dwOfJj1t",
           "2"
          ],
          [
           "Jews: Boycott #NYU. It is a Nazi school. Yesterday the commencement speaker called for Israel's<br>destruction and hailed the BDS movement.\\n@PamelaGeller suffered through the event and she has it all.\\nTime<br>to walk away from NYU.\\nhttps://t.co/ESf37WMHiZ",
           "2"
          ],
          [
           "If @CNN covered Nazi Germany \\n\\nThe Nazi's mostly treated the Jews with love and respect<br>\\n\\nOh wait that's what they think now https://t.co/7gEh5f1BdW",
           "2"
          ],
          [
           "ISRAEL HAS BEEN BOMBING GAZA FOR 8 CONSECUTIVE NIGHTS NOW.\\n\\n2 Million people live on the<br>Gaza Strip.\\n\\nHALF OF THEM ARE CHILDREN 💔\\n\\nAND NOBODY IS TALKING ABOUT THIS? ARE YOU KIDDING<br>ME?!\\n\\nMy heart man. It can't. 😭 https://t.co/jub0f1bov5",
           "2"
          ],
          [
           "Muslims marching in London to protest Jews &amp; Christians They say �Muslims Will Destroy The<br>Crusade\" #LondonHasFallen America MUST NEVER give up our guns or we will be in the<br>same situation! #2ndAmendment ???????????? https://t.co/wCYXk4yYUT",
           "2"
          ],
          [
           "Netanyahu is a thug.\\n\\nThis has nothing to do with Israel, Israelis, or Jews generally. Netanyahu<br>is simply a thug, a liar, a criminal, and—most importantly for Americans—someone who secretly meddled<br>in the 2016 presidential election to help elect Trump. (See PROOF OF CONSPIRACY.) https://t.co/9RSmvlcpeX",
           "2"
          ],
          [
           "Your casual reminder that the US also refused to grant amnesty or refugee status to<br>Jews fleeing the Holocaust because \\n\\nWait for it\\n\\nThey were deemed to be potential threats to<br>national security \\n\\nNew decade, same bs https://t.co/vdVy9kHYI9",
           "2"
          ],
          [
           "Richard Spencer is a fucking Nazi. Don't believe it? Listen to this. \"Little fucking kikes,<br>they get ruled by peop� https://t.co/dakbfTRBEl",
           "2"
          ],
          [
           "Palestinian mother of Muslim terrorist goes on TV to glorify her son who murdered Jews:<br>\"My son was a butcher. He knew how to slaughter.\"\\nPalestinian Authority pays salaries to terrorists<br>or their families for killing Jews.\\nRT if you support Israel\\nhttps://t.co/OCAxxszUgR",
           "2"
          ],
          [
           "Friedrich asked, �Can you imagine someone saying that about Kristallnacht, the first Nazi pogrom against<br>the Jews,�� https://t.co/Wl7s7VP65x",
           "2"
          ],
          [
           "Only in America could a shooter who hates Trump for being too kind to Jews<br>and Israel, be stopped by a armed off du� https://t.co/aZX1z8hLx3",
           "2"
          ],
          [
           "Fo�Shame! BTW, those halls are under 24/7 surveillance soooo... the person demanding you stop hating<br>Jews will be o� https://t.co/sB1F5i41p5",
           "2"
          ],
          [
           "�This is too difficult a time for Blacks and Jews to be separated.� Lonnie Bunch<br>III, leading historian and first African-American @SmithsonianSec, joined AJC to discuss America�s racial divide and<br>ways to improve Black-Jewish cooperation. https://t.co/WspxgmupHd",
           "2"
          ],
          [
           "This is an antisemitic tweet, equating all Jews with Israel’s brutal kid-murdering airforce.\\n\\nImagine if it<br>said equally antisemitic: “Jews: Now murdering Palestinian children for sport”.\\n\\nBut this is unwritten clause of<br>IHRA def: you cannot be antisemitic if you are pro-Israel. https://t.co/W7En7sLx2s",
           "2"
          ],
          [
           "Let's hope so, but who knows how malleable #Erdogan is when it comes to serious<br>ZioNazi US pressure..(‘No other options’: US will deliver F-35s, while Turkey will get S-400… and<br>S-500, Erdogan says) https://t.co/qFpBYaRrY4 #CapeTown #SouthAfrica",
           "2"
          ],
          [
           "Of course we're indigenous. We meet all of the criteria.\\n\\nWhy do you think we're still<br>called Jews? https://t.co/KWDpoCK9c6",
           "2"
          ],
          [
           "This ZioNazi US Mafia head will use every dirty blackmail trick in the book. The<br>#Iraq people must not cave in.(#Trump threatens Iraq with �very big sanctions� unless it pays<br>back BILLIONS..) https://t.co/LSmUsqwq4h #CapeTown #SouthAfrica",
           "2"
          ],
          [
           "Orthodox Jews seen open carrying firearms in New York after spate of anti-Semitic attacks It�s<br>sad that it�s illegal to carry a gun In New York Now these Jews will<br>be considered criminals for trying to protect themselves https://t.co/6Yx1XfXwP7",
           "2"
          ],
          [
           "Why did Shamima Begum need to travel to Syria to be part of a radical<br>extremist group that hates Jews and attacks a� https://t.co/j0Oe2IdKMs",
           "2"
          ],
          [
           "I'm a \"Zionazi\" cause i showed evidence of the temple in jerusalem existing where the<br>temple mount is. Whoops. Sorry it offends you. https://t.co/w3y9PFTKL4",
           "2"
          ],
          [
           "We will not incarcerate our way out of anti-Semitism. As Jews, we are called to<br>be an example to others. So happy to rally with other Jews to say #NotInOurName<br>#NoRollbacks https://t.co/2HxnA5snzE",
           "2"
          ],
          [
           ".....all Jews, Blacks, Gays, everyone. And importantly, he�s good for everyone in America who wants<br>a job.� Wow!� https://t.co/jYKJfqmCdo",
           "2"
          ],
          [
           "Remember when Hitler pushed nazi propoganda about jews 'infesting' the German population &amp; even made<br>films about it� https://t.co/FxflKFryIe",
           "2"
          ],
          [
           "God Wants You To Ignore Doctors And Listen To Trump, Says Jews For Jesus Guy<br>https://t.co/uWHOFLmMWU",
           "2"
          ],
          [
           "There Has Been A Well Heeled Well Organized Campaign By Anti Semites Pretending To Be<br>Jews Inorder To Influence Jewish Thought Against Trump An Decay Support Of Israel https://t.co/A6A9ExmltV https://t.co/lBenJNhTjY",
           "2"
          ],
          [
           ".@NikolPashinyan said it was only a matter of time before #Turkey’s “imperialistic ambition” will be<br>aimed toward Israel.\\n\\n#StopAliyev #StopErdogan #ArmeniaAgainstTerrorism \\nhttps://t.co/7NYmrMBvA6",
           "2"
          ],
          [
           "This is how it works. Always has. It’s how Hitler whipped up hatred of the<br>Jews. It’s dehumanising. It’s very dangerous. https://t.co/ild9b94IUj",
           "2"
          ],
          [
           "Trump blew it — not the WHO, Fauci or the Jews\\n\\nhttps://t.co/RjtUipc6Pz",
           "2"
          ],
          [
           "And will the Jews still votes Democrat? My guess is yes. https://t.co/k75ncaWWCz",
           "2"
          ],
          [
           "You spent the Obama years slamming him as anti-Israel &amp; accusing him of being \"disloyal\"<br>to Israel.\\n\\nYou said he was the \"absolute worst\" &amp; that you “do not think that<br>this man is a good person” and that he was neither \"honest\" nor \"decent\", you<br>duplicitous Trump-enabling HACK. https://t.co/PVLGcstQhU",
           "2"
          ],
          [
           "Kristallnacht—the night of broken glass—was a government-led pogrom against Jews. It was, in many ways,<br>the start of the Shoah. Comparing it to losing Twitter followers is a disgusting desecration<br>of our ancestors' pain.\\n\\nI'll show you where you can shove some broken glass, Steve https://t.co/RfEqGRPpCj",
           "2"
          ],
          [
           "Here you have it. \\n\\nThe anti semitism smears are not about protecting Jews per se,<br>but protecting Zionism. \\n\\nWho’da thunk it. https://t.co/VFORdwYsyC",
           "2"
          ],
          [
           "Agreed- However rembr Bret Stephens is a typical ZioNazi -These ilk think they’re above all<br>others &amp; non Jews r born to be their salves- He worked for the racist<br>apartheid colonial terrorist regime-What more can one expect from deceptive ones! He’s worse than a<br>bedbug! https://t.co/Js1oFwgH2P",
           "2"
          ],
          [
           "A BBC reporter tweeted “Hitler was right”. A CNN reporter said we need “another Hitler”<br>to teach the Jews a lesson. This is seriously messed up. Two major broadcasters have<br>associated with Jew-haters. This should be a huge scandal, says Brendan O’Neill\\nhttps://t.co/cFYGdL7RHh",
           "2"
          ],
          [
           "You can't make this shite up. Lying madman says I rocked up to him in<br>local park shouting zionazi and Rothschild. H� https://t.co/FplVIGfFAW",
           "2"
          ],
          [
           ".@uklabour A speaker at the SWP ‘vigil’ for Jews was JVL leader Glyn Secker, who<br>previously made an antisemitic speech about ‘Jews in the gutter’. Dr Raw who claimed Mossad<br>were behind Labour antisemitism also spoke\\n\\nThe vigil descended in farce with Jews reportedly bullied https://t.co/kTjf1Wvkce<br>https://t.co/HQNe1VyMCc",
           "2"
          ],
          [
           "RT @zei_squirrel: norman finkelstein, son of holocaust survivors, explains why palestinians have both a moral<br>and legal right to defend themselves against the occupation and apartheid imposed on them by<br>israel. remember this when you hear pro-israel creeps and \"leftists\" whining about \"rockets\" https://t.co/wM4mdfslxn",
           "2"
          ],
          [
           "Start with loving your children more than you hate Jews and Israelies. Stop educating young<br>children to be killers of innocent. https://t.co/QQUcm6x9aJ",
           "2"
          ],
          [
           "Please @AOC do us all a favor and spend just a few minutes learning some<br>actual history. 6 million Jews were exterminated in the Holocaust. You demean their memory and<br>disgrace yourself with comments like this. https://t.co/NX5KPPb2Hl",
           "2"
          ],
          [
           "RT @alanmaddison20: It would be bizarre if Keir only collaborated with Jews who were not<br>socialists https://t.co/ZW4hSxAFUY",
           "2"
          ],
          [
           "Crown Heights Assemblywoman, who has publicly castigated Jews for gentrification and sneeringly referred to Simcha<br>Felder as “the Jewish senator,” defends Nick Cannon over his anti-Semitic podcast. https://t.co/zHoLy2Z6iC",
           "2"
          ],
          [
           "Yes “Tugendhat” is “just different words put together”, ⁦@guardian⁩, because like many other Austrian Jews<br>the family probably had to make up a non-Christian one because Jews weren’t allowed Christian<br>names. Comedy based on antisemitism isn’t funny https://t.co/4PKZULbfQI",
           "2"
          ],
          [
           "Dawn Butler explaining gaslighting. Where was your support when the Jews needed you Dawn? https://t.co/n7CTvNZQpk",
           "2"
          ],
          [
           "11 million people, including 6 million Jews, were murdered during the Holocaust. We must never<br>forget, and we must always stand against anti-Semitism wherever it occurs. https://t.co/jn5Tqgf5mw",
           "2"
          ],
          [
           "Tonight, we #LightTheDarkness with a candle in our windows.\\n\\nAfter six million Jews were murdered in<br>the Holocaust we promised never again.\\n\\nWe remember those we lost, and we stand against hate<br>and prejudice in the world today. #HolocaustMemorialDay https://t.co/pCByZstAHQ",
           "2"
          ],
          [
           "@FlyFrontier Your actions conflict with eye witness accounts. Could you explain, please? https://t.co/ev3nUgEDTD",
           "2"
          ],
          [
           "I haven’t seen any stories of Jews doing this stupid shit. Or Muslims. Or even<br>Scientologists. Just fundamentalist Christians. \\n\\nIs it happening with other groups, too, or are fundies just<br>too damn stupid to live?\\n\\nhttps://t.co/el2944qR89",
           "2"
          ],
          [
           "Madam: Jews/orthodox Catholics/Muslims --all have purity notion in good habits--me think they do not have<br>caste:)) RT https://t.co/9fOE2h7810",
           "2"
          ],
          [
           "This is why we #BDS. When our own government continues to fund #israelicrimesagainsthumanity, a support<br>of violence, #BDS is the nonviolent tool we know works..if it didnt israel wouldnt care<br>that we #BDS https://t.co/gHKBjO5ghT",
           "2"
          ],
          [
           "wait until you hear what right wing jews say about other jews https://t.co/jbHoTECHg8",
           "2"
          ],
          [
           "Just want to confirm that Trump saying Jews are not American and the military holding<br>up white power symbols in the same week is not reminiscent of anything in history<br>we should be worried about? https://t.co/i47tec6NXm",
           "2"
          ],
          [
           "Netanyahu order IDF to shoot Children @i24NEWS_EN Israel's Future does not lie with a Hitler's<br>Bastardized Zionazi� https://t.co/PoQlBLzxY8",
           "2"
          ],
          [
           "What's sad about this is that the natural state for two old Jews arguing about<br>their hearts is you win by proving how much closer to death you were. https://t.co/7gCgb9foTV",
           "2"
          ],
          [
           "STOP ANNEXATION ON PALESTINE 🇵🇸\\n\\nShame on Israel and Trump for endorsing such calamity. The international<br>community must intervene now or never!\\n\\nLove and support from Malaysian Youth! \\n\\nWhat is annexation? Read<br>below https://t.co/5fLsMjp0YJ",
           "2"
          ],
          [
           "Carl became an atheist while he was serving during WW2, and learned what befell the<br>Jews of Europe.\\n\\nThere are so many ways to relate and celebrate Jewish tradition that no<br>Jew bats an eye when encountering one who is an atheist and proudly Jewish.\\n\\nMay his<br>memory be a blessing. https://t.co/tcyNN6iuOT",
           "2"
          ],
          [
           "More precisely, Bowers attacked a synagogue because he believed that Jews, led by financiers such<br>as George Soros, were responsible for this caravan.\\n\\nhttps://t.co/gD2d8Yj9Wd",
           "2"
          ],
          [
           "Most inspiring, healing , restorative \\nMay Jew, Muslim and Jews do a line dance soon<br>. InshaAllah https://t.co/0UxH1JoDc6",
           "2"
          ],
          [
           "RT @Voices4Seniors: https://t.co/mfYl1OvYKV Cuomo avoided questions about a new article that alleged he compared himself<br>to Sonny Corleone�",
           "2"
          ],
          [
           "1) LOVE that you (finally) care about foreign interference in our elections;\\n\\n2) HATE that you<br>believe all Jews live in Israel. The “A” stands for….“American.” https://t.co/8pdEawnDAF",
           "2"
          ],
          [
           "Thank you, my dear friend, Narendra Modi for sending Hydroxychloroquine to Israel: Benjamin Netanyahu, Prime<br>Minister of Israel #COVID19 (File pic) https://t.co/XN7V1tVO8z",
           "2"
          ],
          [
           "@TimRunsHisMouth These are cowards fake sick and twisted cowards Trump is about God and America<br>and Israel but just to stay on topic noone doesn't rember him getting off his<br>plane when it was freezing out and the young military man hat flew off and<br>Trump ran after it and put it back on his head . https://t.co/ZYONO1uUN9",
           "2"
          ],
          [
           "RT @ArthurSchwartz: Will you give some Jews extra food rations to rat out their Jew<br>neighbors in hiding? https://t.co/TysMomSkGC",
           "2"
          ],
          [
           "Remember, it’s not just Palestinians and Israelis, or Muslims and Jews, who should care about<br>or have a right to comment on the Israel/Palestinian issue. It’s every U.S. taxpayer who<br>funds stuff like this. https://t.co/umaFRPyqQi",
           "2"
          ],
          [
           "‘It is difficult to understand how, in 2020, Israel can make the case for a<br>system of governance that just a few decades ago was globally repudiated when it existed<br>in South Africa.’\\n\\nhttps://t.co/uAAEUQ9WFS",
           "2"
          ],
          [
           "RT @ramzpaul: If you said that about Jews you would be instantly banned. https://t.co/G7LLPQmofa",
           "2"
          ],
          [
           "War Minister Benny Gantz visited the F-35 Adir squadron today and warned that Israel has<br>“the ability to operate at any range and with unprecedented operational readiness\" \\n\\nSource: (@AAhronheim)\\n\\nNote: This<br>is a threat directed to Iran more than it is for Hezbullah. (EDIT) https://t.co/H89VUI2jp2",
           "2"
          ],
          [
           "Jerusalem, 2 Saying, Where is he that is born King of the Jews? for we<br>have seen his star in the east, and are come to worship him. https://t.co/MSWAogElms",
           "2"
          ],
          [
           "Several Arab-Muslim countries support the Trump Israel-Palestinian peace initiative, but the Washington Post, CNN, Bernie<br>Sanders, and the American Left do not. What does that tell you?\\nhttps://t.co/QbEC0Bptgq",
           "2"
          ],
          [
           "I�m sure the Nazis had their reasons to hate Jews too. I�m sure the KKK<br>had their reasons to hate Black people. I�m sure the homophobes had their reasons to<br>hate gay people. Imagine being such a clown to think �having reasons� justifies your bigotry.<br>https://t.co/YrkaeChNdi",
           "2"
          ],
          [
           "Here's the thing, I provided evidence to Sharmine and then she liked tweets calling me<br>a 'ZioNazi.' \\n\\nI don't think she was ever going to believe me, no matter what<br>my views are or how much evidence I provide. https://t.co/yRvG7jBO4w",
           "2"
          ],
          [
           "@ggreenwald True. Who would lump someone like you, Glenn, or other Jews like Miko Peled,<br>Finkelstein, et al, who o� https://t.co/2HEqT0itmC",
           "2"
          ],
          [
           "RT @KamalDhangarKRT: We Are With Israel . RT If You Agree Ks #BharatWithIsrael_Irfan https://t.co/G6BiZlcjWm",
           "2"
          ],
          [
           "BREAKING: We ran into @SenSchumer so we told him face to face: \"New York Jews<br>demand you stop funding the ethnic cleansing of Palestinians.\" He didn't want to talk about<br>it. Help us force him to. Call his office now and tell him the same<br>thing: 212-486-4430. https://t.co/JRDuZAdmII",
           "2"
          ],
          [
           "If Muslims want to do interfaith with Jews to learn about their religion and encourage<br>peaceful coexistence and col� https://t.co/PGZBlqYKwS",
           "2"
          ],
          [
           "What Maxine Peake said about Israel training murderous American police is true. What a pity<br>she couldn't find the courage to stand by her own words against the pro Israel<br>bullies destroying Labour as a credible opposition to an extremist government. \\n\\nhttps://t.co/3gpiXe3f6a",
           "2"
          ],
          [
           "It looks like Bidens plagerism is rearing it’s ugly head again, what a joke!\\nMORE LIES:<br>Joe Biden Praises Israel-UAE Peace Deal and Takes Credit for the Deal He Had Nothing<br>to Do with and Can't Remember https://t.co/kljQNWKcvD via @gatewaypundit",
           "2"
          ],
          [
           "RT @ikebarinholtz: I talked to the other Jews and yep, we still hate your pig<br>ass https://t.co/hYB0szM2OU",
           "2"
          ],
          [
           "One old man, as he passed me, hissed: 'Germany will pay a heavy penance for<br>this mass murder of the Jews.' His eyes glowed with hatred as he said this.<br>Nevertheless he walked calmly into the gas-chamber.\\nRudolf Hoss https://t.co/mwuwFsOEjH",
           "2"
          ],
          [
           "Additional update: Tips to @intifada highlight Adam Rubenstein's time with AIPAC and his false contention<br>that Israel has \"an amazing record maintaining rights for their minorities\" https://t.co/yOqJJTiRRQ",
           "2"
          ],
          [
           "This is what you’re not allowed to do, Ryan. Scale and evaluate antisemitism so you<br>can dismiss it from your camp. Speaking for Jews isn’t your job and never will<br>be. https://t.co/MUmGMQdjDZ",
           "2"
          ],
          [
           "Once again, Trump gets it wrong. What he doesn't understand is that American Jews despise<br>him - and all he stands for in the @GOP - because he's a depraved<br>bigot who continues to attack our democracy &amp; his policies are antithetical our values. This<br>has nothing to do with Israel. https://t.co/PLHgBSVO9o",
           "2"
          ],
          [
           "In one night, Bernie praised Fidel Castro and slandered American Jews. \\n\\nI will never support<br>a man who stands with violent dictators; with anti-Semites or racists. And that holds true<br>whether their name is Donald or Bernie.\\n\\n#IAmTheDemocraticEstablishment https://t.co/REzYCUEGsr",
           "2"
          ],
          [
           "Which of your supporters are the silent type...\\n\\nThe ones screaming “Jews will not replace us”?<br>\\nThe ones having melt-downs ove face-masks? \\nThe ones attacking a veteran who lost both her<br>legs in combat?\\nThe ones still chanting about an imaginary wall Mexico was going to pay<br>for? https://t.co/3cl9e7n9YP",
           "2"
          ],
          [
           "RT @richards1052: No, it's not. I'm a Jew. Don't define anti-Semitism on my behalf. Anti-Semitism<br>concerns Jews, not Israel and not Zionism. https://t.co/M30ehVtQHr",
           "2"
          ],
          [
           "Should bother everyone that Rich countries used their vast wealth and influence to secure access<br>to vaccines earlier than others.\\n\\nIsrael has so far vaccinated 13% of its population. https://t.co/DvF6qMMv7T",
           "2"
          ],
          [
           "When you hear that many Jews are concerned about the issue of Labour antisemitism, according<br>to the Macpherson principle, you should begin by assuming that they might have a point.\\n\\nDo<br>not begin by assuming that they must be right wing critics of Corbyn.\\n\\nhttps://t.co/bzesT4KQxO",
           "2"
          ],
          [
           "A modern example of \"if German Jews had guns there'd be no Holocaust\" Palestinians -<br>in an ever-shrinking colonize� https://t.co/mlVe1YWVcJ",
           "2"
          ],
          [
           "It’s telling and crazy if you stand back to see pro-Netanyahu media in Israel warn<br>a US president so far slavishly supportive of their agenda that he risks his US<br>evangelical support by delaying acceptance of Israeli annexation of a chunk of the West Bank.<br>https://t.co/MM8ksDKJ67",
           "2"
          ],
          [
           "Hi @TheIHRA, Maybe the terms Zio, ZioNazi, ZioScum &amp; other similar slurs could be included<br>in your next definition� https://t.co/qj4gVbQnQ9",
           "2"
          ],
          [
           "I'm a \"Zionazi\" cause i showed evidence of the temple in jerusalem existing where the<br>temple mount is. Whoops. Sorry it offends you. https://t.co/w3y9PFTKL4",
           "2"
          ],
          [
           "What about Zionist Jews? That’s more than 90% of us. Have you thought this through,<br>Genius? https://t.co/boxujQVeRr",
           "2"
          ],
          [
           "Teen, 17, joined neo-Nazi group after passing “test” by expressing hatred for Jews and claiming<br>he wanted to provoke a race war.\\n\\nHe was tested to see if he was a<br>“worthy” recruit for the Feuerkrieg Division (FKD), which was proscribed in July 2020.\\nhttps://t.co/kk8kuTvCP8",
           "2"
          ],
          [
           "I am Jewish.\\nIf Fox had said the things he has said about Jews rather than<br>about black people, he would not be invited on to sundry media outlets. He would<br>be spurned and despised as beyond the pale.\\nQuite right too.\\n\\nSo why is it different when<br>it is anti-black racism? https://t.co/zIeAM9UDgG",
           "2"
          ],
          [
           "The same thing happened in Nazi Germany to the jews. Any pro-democracy supporter can get<br>arrested in #HongKong, then shipped to a gulag in mainland China where many will not<br>survive. We can't let this happen again! The international community must intervene! https://t.co/IUrAZOanXE",
           "2"
          ],
          [
           "American Jews are overwhelmingly opposed to you &amp; your white nationalist agenda, because we know<br>what a fascist dictator looks like @realDonaldTrump. \\n\\nThat’s why we’re sounding the alarm on ICE,<br>the concentration camps, &amp; the urgent need for all of us to take ACTION against<br>you! https://t.co/yLcAetDhhb",
           "2"
          ],
          [
           "Q told you to trust sessions, ignore Israel, trust the plan, eat popcorn, enjoy the<br>show and STFU about who Q was or what his motives were. You feel me<br>as being aggressive because you’re a sheep. #QAnon is for weak people who don’t mind<br>abandoning their posts. https://t.co/5RvzAuSgco",
           "2"
          ],
          [
           "Zionism Is the movement that saved jews from anti semitism around the world and allowed<br>them to get back to their original home, israel .\\nTherefore, if you don't support Zionism<br>you actually don't support jews right to defend themselves and have a safe home at<br>their land . https://t.co/4Apn6ImQCX",
           "2"
          ],
          [
           "If a Nazi kills Jews and your instinct is to attack Muslims in response, the<br>only difference between you and the N� https://t.co/KSDnUrz93U",
           "2"
          ],
          [
           "RT @BDSmovement: Palestinians, no matter where we reside, are standing up together. Our only option<br>is to live free, and for that to happen, Israel's impunity must end. #SaveSheikhJarrah #GazaUnderAttack<br>#ICC4Israel https://t.co/u9DZPO5NPb",
           "2"
          ],
          [
           "BTW a tweet talking about how I &amp; other Jews who support the Joint Arab<br>List will be also have to be cleansed \"when the 2nd #Nakba comes\" got 15<br>likes so far. Maybe they liked the tweet because @Roy_Iddan said that ethnic cleansing of<br>Jews won't make him happy. Maybe... https://t.co/2FwNZuiWey",
           "2"
          ],
          [
           "RT @thenation: \"All season, Irving has been periodically fined by the NBA for not speaking<br>to the press. Well, the sports world wanted him to speakâ€¦ you wanted it, you<br>got it.\" https://t.co/cz8UtUXjvl",
           "2"
          ],
          [
           "If Jews had the medical wherewithal to create super diseases like this one, don't you<br>think we'd start by using those powers to solve our gastrointestinal issues? https://t.co/YMMlmheJX5",
           "2"
          ],
          [
           "Here is a Christian telling me to worry about Jews perpetrating antisemitism before I talk<br>to Christians about Christians perpetrating antisemitism. \\n\\nSomeone give him a history lesson. Christian allies, come<br>get your guy. https://t.co/G4bGFk0usu",
           "2"
          ],
          [
           "Swalwell is a liar. Trump hs been very supportive of Jews particularly Israel and has<br>condemned anti-semitism and specific attacks. And the machete attack and deli shooting were done by<br>blacks not white supremacists. https://t.co/5uWwUsuiPQ",
           "2"
          ],
          [
           "“79 years after Muslims rampaged against Jews in Baghdad, killing, maiming, raping and looting, the<br>horrors have yet to be adequately memorialized.”\\n\\nSound familiar? Please read &amp; share this article by<br>a Bay Area psychotherapist. #Kashmir #trauma \\n\\nhttps://t.co/AL8WXzcZ8U",
           "2"
          ],
          [
           "Boris Johnson wants to outlaw #BDS &amp; ban our basic human right to boycott apartheid<br>israel: he doesn't get it; it's a grassroots movement https://t.co/CJBwBRjU93",
           "2"
          ],
          [
           "China, any middle eastern country outside of Israel, and North Korea would like to have<br>a word with you. Also there’s a lot more violent disturbed people in the west<br>than you’d think. Derek Chauvier being Exhibit A. https://t.co/yFUpeWaxwN",
           "2"
          ],
          [
           "Muslim cleric: “Jews should be treated according to Allah’s decree about them, ‘Kill them wherever<br>you find them'” https://t.co/ZZARmqaiJi",
           "2"
          ],
          [
           "Israeli security forces brutally assault Orthodox Jews who were holding a protest against compulsory military<br>service in Jerusalem today.\\n\\nNow, if this is how Israel treats Jewish protesters, imagine how it<br>treats Palestinian protesters...\\n\\nOh, that's right - it shoots them!! https://t.co/k4lGIrwFaf",
           "2"
          ],
          [
           "Perspective | \"Trump was great for Netanyahu. Biden will be better for Israel\" by @aaronmiller2<br>https://t.co/m2U78eaVTY",
           "2"
          ],
          [
           "About to take off on a Kippah Solidarity Trip to Germany - it’s times like<br>these when Jews need to double down on their pride. \\n\\nWill be broadcasting from Germany<br>with my Kippah so that the message is clear: Jews are here and proud. https://t.co/uX30vPzNYB",
           "2"
          ],
          [
           "Hahhaa.. I am surprised Swamy has not compared it to Nazis exterminating Jews... and burning<br>all books... And why is he into NEET and PEET and all this?... Its an<br>exam... the students and parents will figure it out... https://t.co/4BunakPeXx",
           "2"
          ],
          [
           "@stranahan KnowMoreNews isn't confident enough to debate me that Jesuits control Israel not Jews https://t.co/rAFfEKOsLo",
           "2"
          ],
          [
           "RT @zei_squirrel: you can see the same dynamic in other countries like the UK, where<br>the far right \"english defense league\" proudly carries israel flags, and of course ireland in<br>republican versus far right loyalist areas: https://t.co/hCODjYviCg",
           "2"
          ],
          [
           "@TheInsidePal Let me re word it. Jews who wanted to pray at Thiers as well<br>as your Holly site came to pray. But where chased off. As only Muslims are<br>allowed to pray there. Still waiting on you to condemn Hamas for dragging this man<br>to death for being gay?as for Israel they have a pride month https://t.co/mmSugsmLK6",
           "2"
          ],
          [
           "A weird time when being Jewish and beautiful was made to seem dissonant and Jews<br>changed their names. https://t.co/ic2Iv43Xkq",
           "2"
          ],
          [
           "Extraordinary that \"The Age\" has run this blatantly antisemitic letter: rather than acknowledge that Jews<br>have been uniquely singled out and targeted, it suggests Australia's politicians spend money on securing<br>Jewish institutions \"to keep this influential community on side\". https://t.co/sTkzpsREVa",
           "2"
          ],
          [
           "Absolutely disgusting!!! Just to put in perspective Orthodox Jews are most cleanest when it comes<br>to food and other hygiene they wash before they eat all year long its forbidden<br>to eat bats and live animals. This is anti-semitic and there should be some consequences.<br>https://t.co/8nc9fJlDP0",
           "2"
          ],
          [
           "The Trump Administration Will Let Adoption Agencies Turn Away Jews and Same-Sex Couples. Thank SCOTUS.<br>https://t.co/GIJLSjaCjQ",
           "2"
          ]
         ],
         "hovertemplate": "%{customdata[0]}<br><b>cluster:</b> %{customdata[1]}<extra></extra>",
         "legendgroup": "2",
         "marker": {
          "color": "#636efa",
          "opacity": 0.85,
          "size": 7,
          "symbol": "circle"
         },
         "mode": "markers",
         "name": "2",
         "orientation": "v",
         "showlegend": true,
         "type": "scatter",
         "x": {
          "bdata": "1ivVQKE5wsDGV3/Bo/lRwd9jNkA4DiLBeOc1QOTt80DL/1Q/wCNBwTSWbUDLwUjBvCSkQP9yZMCMZMdAcAcvQJuHhj/rpXjAXDZXwYWxrMB1uiLBpciZQCwtbL87NqBAZ+e8QFAFvL+Z63dBvwbEv5Zlj8G+8wpA68fpQKCeakGU4w5AzOfbP43IW0A2fvA/ulOAP+Rak0HundFAC0GJvxIUJkBUiT/BPzV2QEKY8z+PZ2pBnyW/QI0hnMD24fvA52YgwK1cBcDcA1LBYQgfQZBuqsBAJEDBDZlfQSueYkFVygvABZnTQP0BDUEb1lhBixYKwU/5nkHisLk+jyYLwRztLr4BCehA3kbpvmJwVj7pzGvBX/spwSd9ZsCb8zxAx5Erwevk00CZAQzBFzdHwRu8h0HidBJBkha6v8fnGsC1I7i/cZzMwAjwbMF2OStB/w3Tv475zsDncBnAENNIwWSkUT//23FAfcZUwdTgJkB0ogq/ZCu2vyXodUBn9ALB+l8TwVKRbEDZGIQ/d0ewv+vH6UCC8gHBwZyTvx5ASUHK8uxAK/N7QZc9FcFQpMvAiy6fQH9NecE3M2u/+iFWwVZxX0GAl6rAUp3gPzLrMUHHCYZAUinLwCDUAMHZSkTB0FUHQFUMjL9heIlAAy0YvjUDKcGwkiVBz7u+QOgPkkFdF3VA6VKhvg==",
          "dtype": "f4"
         },
         "xaxis": "x",
         "y": {
          "bdata": "p7V1wZv9V0F/7f4/+FkfwWhwksB6kTDBT2Qzwb7E8EAzuJ0/6zFEQMspJsGW5gfAzrpHv6ZHtMBFuRxBO6PfwC5Qnr9qePzAf06lQPfDGsHnAxzBwroRwR6gwMCiNwnB388vQYfXnUHC9SpBTLOUQePluMDL6Og/nLaoQdz8WUFy7DzBuTsLwYtmLcFYH3PA2nRUQNSVQMGAKnrBiD4hwA6tbcH4AybB7BmbwY9eT8EsnXzAVLNlQSgwdsCmVfvAC2f1wL/ShMDdH27AqqESweqO5cBJMDLB68ARQTSMFUFDSd7As3lYwdoxm8HiRzJB9CAXwQUts8Dj60G/HQsvwW1/AkA+pvnAiaA7wUqJZMA0+rPAYQcRwcHKqUCJtBa/cFS4wNnGX8EtMXq+EmP9wHQ0IUDZxylBoniKwSS4B8GB4YW/I3JawRaa9L+V4DlBeZtfwWfaJ8HvzLDBph61wJsac8Gl/48+04kywQADY8EsHH/AHaUuwMc4m8FRSOY/f6oVwUbEG0EkwdNAsSDHwJy2qEET0yHBLX44wSE9MMHDBfFAS8wqQdmBOsE95wzBbojOwET+EUBs2cHAj+UdwcuGN0FckOfAySUqwOc848CnzFvByzkYQbyAB8EN16NAH4OMQP9+lD9/7bC/CFKpvmxpwMDKFkTBuWX+wAYmpkBofvXA7gEPwA==",
          "dtype": "f4"
         },
         "yaxis": "y"
        },
        {
         "customdata": [
          [
           "Even after the demise of the two-state vision, a real model for Jews and Palestinians<br>living together remains | Omri Boehm\\nhttps://t.co/EIblQ2Ea1o",
           "0"
          ],
          [
           "Learn more about NYC’s epic response to the 1947 smallpox outbreak, and the visionary leadership<br>of Israel Weinstein, the health commissioner at the time:\\nhttps://t.co/bY9pECRT4q",
           "0"
          ],
          [
           "While Marjorie Greene spreads dangerous conspiracies about Jews controlling the world with a Jewish Space<br>Laser, the rest of the GOP is as silent as Jim Jordan at a wrestling<br>sleepover.\\n\\nRetweet if you agree we must #ExpelHerNow\\n\\nVideo by Really American host @chipfranklin https://t.co/qRn3fWZkq0",
           "0"
          ],
          [
           "There’s a company called TeeHands. \\n\\nIt appears they are making and distributing the 6MWE (6<br>million Jews wasn’t enough) tees.\\n\\nThey also make and distribute the camp Auschwitz tees. \\n\\nI don’t<br>ask for RT’s but spread this far &amp; wide. \\n\\nNo one should use this company<br>ever again. https://t.co/FUahS1PUQh",
           "0"
          ],
          [
           "Lawyers representing six leading #Palestinian human rights and civil society groups outlawed by Israel have<br>demanded Israeli authorities share any evidence they have used to justify the ban. @AdalahCenter #StandWithThe6<br>#Palestine https://t.co/yMgwP2p90z",
           "0"
          ],
          [
           "The Austrian police hunt for the unvaccinated. Look in the attics — that’s where the<br>Jews hid. https://t.co/cWjNvg8Txa",
           "0"
          ],
          [
           "Twitter says tweets calling for the destruction of Israel don’t violate its rules https://t.co/E04uNoQh93",
           "0"
          ],
          [
           "🇨🇳 China takes the floor at U.N. Human Rights Council to welcome release of anti-Israel<br>blacklist of companies doing business over the green line.\\n\\nSo far, no apology for Wuhan coronavirus<br>outbreak or their arrest, silencing &amp; disappearance of those who tried to sound the alarm.<br>https://t.co/WfjCjwhnio",
           "0"
          ],
          [
           "Jews were ethnically cleansed from the Arab world after living under the equivalent of apartheid<br>for centuries. They’re refugees, not colonizers, and it’s rich that the supremacists who made them<br>refugees can’t abide a tiny sanctuary for Jews in their indigenous region. https://t.co/o7HBHdUp6Z",
           "0"
          ],
          [
           "🇺🇸✡️ — HAPPENING NOW: Orthodox Jews with @realDonaldTrump flags dance to music on the streets<br>of Brooklyn in protest of New York Gov. Cuomo’s partial synagogue closures and singling out<br>the Jewish community.\\n\\n https://t.co/sSqTShIw5Y",
           "0"
          ],
          [
           "The London anti fascist assembly have most Jewish accounts blocked as well as our allies.<br>But Jews are the top target of fascists. Fat lot of good they are then.<br>https://t.co/afaxrzwnHd",
           "0"
          ],
          [
           "Jews living or visiting #Europe feel the need to hide their Judaism due to the<br>rise of #antisemitic violence there. The violence is largely fueled by the left and #openborders.<br>https://t.co/HEywZHqp1Z",
           "0"
          ],
          [
           "He's convinced of \"ZioNazi\" control of the media, believes that Cameron relies on \"Jewish roots<br>for finance\" and is quite a fan of Gilad Atzmon, despite what \"venomous\" JLM (directed<br>by Israel, of course) may say about him. https://t.co/45UtnWvvSf",
           "0"
          ],
          [
           "It’s insane how the news of Israel bombing Gaza barely makes it to the newspapers.<br>It’s so normalized and Palestinian lives are so dehumanized by the West that they don’t<br>even believe it’s relevant news. https://t.co/ZxBkQ6xmPx",
           "0"
          ],
          [
           "BREAKING: �JEWS ARE SAID TO HAVE BEEN SUBJECTED TO DIFFERENT, HUMILIATING, AND EXCLUSIONARY BEHAVIOUR� says<br>Oz in this must-read thread below re: closing submissions of the JLM to the EHRC??<br>https://t.co/XfStW8n5zk",
           "0"
          ],
          [
           "Of course it's possible but it won't happen because most of the #UN is in<br>the clutches of the ZioNazi US empire which bribes and blackmails its members to do<br>nothing against the Zionist Nazis..#CapeTown #SouthAfrica https://t.co/PJ1GBuVgA3",
           "0"
          ],
          [
           "HATE SUPREMIST. Incites harassment &amp; kills against ALL Jews, whites, Republicans. Uses stupid whites to<br>help in the harm, after using them they will be discarded and purged so they<br>never squeal. https://t.co/NQn6jLJH2L",
           "0"
          ],
          [
           "'Jewish Community' The Haredi Jews in the UK refuse to affiliate with BoD. It is<br>predicted that by 2030, Haredi Jews will account for 50% plus of Jews living in<br>the UK. Which 'Jewish Community' do Bod speak for? (Institute for Jewish Policy Research�2015) https://t.co/X6CYc4LJeL",
           "0"
          ],
          [
           "It keeps getting worse. As the 2020 Dems get more &amp; more anti-Israel, will any<br>of them stand up and condemn comments like these? Directly? Or are they too scared<br>of the angry anti-Semitic Left? https://t.co/bUTRA4STxz",
           "0"
          ],
          [
           "Care to comment about the attack on Jews that happened tonight in the country where<br>you are an elected official? https://t.co/G9QYjUExJM",
           "0"
          ],
          [
           "Do we really need to pay attention to these slogans and images?? Boycotting the Goods<br>of the Jews &amp; Trading with the Enemies – By the Scholars: Bukhaaree, Ibn Hajr,<br>Fawzaan.: https://t.co/xIfPneCgbm",
           "0"
          ],
          [
           "Fun fact for Holocaust Remembrance Day: this was the same tactic used to keep European<br>Jews out of the United States in the 1930s. https://t.co/ufVU73Rmmd",
           "0"
          ],
          [
           "\"Israel transports batches of the Pfizer/BioNTech vaccine deep inside the West Bank. But they are<br>only distributed to Jewish settlers.\" Any story on Israel's vaccine roll out that skips its<br>racist application in occupied territory is woefully incomplete.\\nhttps://t.co/3JH3j2MoIV",
           "0"
          ],
          [
           "This has nothing to do with Freedom of speech: \"That's the way the Jews work.<br>They are deceivers. They plot, they lie, they do whatever they have to do to<br>accomplish their political agenda,\" https://t.co/DZxuEDVhBF",
           "0"
          ],
          [
           "Hitler got off light when he attempted a coup; 10 years later he laid waste<br>to western civilization and killed millions of Slavic People, gypsies, mentally challenged and Jews. Those<br>who ignore the Lessons of History are condemned to relive them. #VoteBlueToSaveAmerica https://t.co/5sFSfAHyEa",
           "0"
          ],
          [
           "Liberals are trying to blame the stabbing of 5 Jews on Trump and white supremacy...even<br>though the suspect is said to be black. \\n\\nWow, I can’t wait for the mental<br>Olympics involved for this one. 👌🏻 \\n\\nhttps://t.co/Eh12x49Qgx",
           "0"
          ],
          [
           "@Acyn Alan Dershowitz is a well known plagiarist and fabricator of lies. A zionazi to<br>the bone.\\nhttps://t.co/OqzMM5SPTX",
           "0"
          ],
          [
           "Katie Hopkins, who the President quote tweets here, has said Jews were to blame for<br>the Pittsburgh massacre because� https://t.co/2squNoijy3",
           "0"
          ],
          [
           "For centuries in medieval Spain, Christians, Muslims, and Jews lived side by side, creating vibrant<br>artistic traditions that often intersected.\\n\\nExplore their works in \"Spain, 1000–1200: Art at the Frontiers of<br>Faith\" at the #MetCloisters.\\n\\nLearn more: https://t.co/TMTTmopJHa https://t.co/ygHwkDLW2L",
           "0"
          ],
          [
           "Not a single reporter asked @kayleighmcenany about the historic peace deals between Israel, Bahrain, and<br>the UAE that were signed yesterday at the White House brokered by President Trump. https://t.co/ZeXTyT0A9O",
           "0"
          ],
          [
           "HAPPENING NOW: Hundreds of Jews &amp; allies are rallying in DC to reject white nationalism<br>and show up for our immigrant family.\\n\\nTogether we say: #CloseTheCamps! https://t.co/fMtCoguMv5",
           "0"
          ],
          [
           "Hundreds gather during corona pandemic. Following the gathering of Orthodox Jews for a funeral in<br>New York, the mayor of the metropolitan city ordered the police to intervene and arrest<br>the protesters. #COVID19 #COVID__19 #COVID?19 #coronavirus https://t.co/HAphx78IGg",
           "0"
          ],
          [
           "maluma he went to israel twice, the singer received pushback when he posted a photo<br>to ig in Jerusalem alongside a Border Police officer with caption: �New security.� The photo<br>garnered more than a million likes, but also thousands of angry comments. he didn�t reply<br>nor delete https://t.co/axl0AlBWeE",
           "0"
          ],
          [
           "This Fake #Arab TV &amp; all ZioNazi media are screaming but #Assad &amp; #Putin have<br>all rights under international law to kick out foreign invaders - Turkey, the USA and<br>ZioNazi Israel NOW. Why don't they? (33 Turkish soldiers killed in Syrian air raid in<br>Idlib https://t.co/0dSC4hk9UF",
           "0"
          ],
          [
           "A new senior adviser at the Pentagon repeatedly said the US' support for Israel was<br>the result of \"Israeli lobby\" money and accused prominent officials, including Secretary of State Mike<br>Pompeo, of becoming \"very very rich,\" from their support for Israel https://t.co/ZJGZvT7gwi",
           "0"
          ],
          [
           "Israel election results: Netanyahu reaps the fruits of a messianic, racist and nationalist decade. https://t.co/2YYcBsmcLB",
           "0"
          ],
          [
           "The ZioNazis are the best students of the Nazis; they learned from them all shades<br>of racism and crimes and today they are the masters of evil on earth https://t.co/Bu3O1naIp6<br>https://t.co/LiKI7zsKQf",
           "0"
          ],
          [
           "If the US elections were held today—three weeks before the Nov. 3 election—83 percent of<br>Orthodox Jews would vote for President Trump, according to a poll released on Wednesday. https://t.co/qrZPkv3JqS",
           "0"
          ],
          [
           "Anti-Semitic doctor, 27, who tweeted that she would 'purposely give Jews the wrong medications' issues<br>public apology - but uses it to hit out at the 'injustice and brutality of<br>the Israeli occupation' https://t.co/n0rOIiym7G",
           "0"
          ],
          [
           "“It is Jews who govern the stock exchange forces of the American Union. Every year<br>makes them more &amp; more the controlling masters of the producers in a nation of<br>120 millions; only a single great man, Ford, to their fury, still maintains full independence.”<br>-A. Hitler, Mein Kampf https://t.co/t6iC7mrNCA",
           "0"
          ],
          [
           "Then said Jesus to those Jews which believed on him, If ye continue in my<br>word, then are ye my disciples indeed; And ye shall know the truth, and the<br>truth shall make you free.\\n\\n#WaffiBible\\n#thursdaymorning https://t.co/fyjRFoQLMx",
           "0"
          ],
          [
           "While decent human beings hope for international cooperation to combat COVID, Zionists see the pandemic<br>as an opportunity to\\n1. Kill as many Palestinians as possible\\n2. Compel Jews to join their<br>racist project of demographic engineering \\n\\nSupremacist ideology on full display. https://t.co/mnP0Z0Z6zL",
           "0"
          ],
          [
           "MSNBC�s Ayman Mohyeldin Joins the �Exploit the Coronavirus to Demonize the Jews� Party https://t.co/V2awK75x0a via<br>@pamelageller",
           "0"
          ],
          [
           "Lest we never forget the Holocaust.\\n\\nRemembering the Holocaust is remembering the lives &amp; stories of<br>6 million Jews killed by the Nazi regime and its collaborators.\\n\\nOn Int'l #HolocaustRemembranceDay, take a<br>virtual tour of the \"Lest We Forget\" exhibition: https://t.co/d7VAopGPhj https://t.co/Bldt8RbEuT",
           "0"
          ],
          [
           "@SpeakerPelosi the trump admin is the worst danger to Jews, POC &amp; Democracy- https://t.co/pQuVuCGraG",
           "0"
          ],
          [
           "Ppl who wouldn't stand guard a shul in their own district to protect Jews from<br>the violence they cheered on will go to another country to protect ppl from Jews.<br>https://t.co/vsoCljXGE7",
           "0"
          ],
          [
           "@codepink Since Zionazi #terrorUSt$ ideologues of #USrael have yet to get the U.S. beyond economic<br>war sanctions on� https://t.co/L0A7A3fw02",
           "0"
          ],
          [
           "There’s a company called TeeHands. \\n\\nIt appears they are making and distributing the 6MWE (6<br>million Jews wasn’t enough) tees.\\n\\nThey also make and distribute the camp Auschwitz tees. \\n\\nI don’t<br>ask for RT’s but spread this far &amp; wide. \\n\\nNo one should use this company<br>ever again. https://t.co/FUahS1PUQh",
           "0"
          ],
          [
           "By the way, please report these accounts. Even though they are hilariously obvious to Jews,<br>to non-Jews they probab� https://t.co/nPapThITgQ",
           "0"
          ],
          [
           "50% of Swiss Jews questioned in a recent study reported that they were targeted with<br>antisemitic abuse in the past five years alone. https://t.co/vTpzrCc1dK",
           "0"
          ],
          [
           "The Shoes on the Danube Memorial (2005), honours the Jews who were killed by fascist<br>militiamen in Budapest in WWII. \"They were ordered to take off their shoes, and were<br>shot at the edge of the water so that their bodies...were carried away.\"\\n#HolocaustRemembranceDay https://t.co/mi4lOFBYs0",
           "0"
          ],
          [
           "For months the Jewish communities of NYC begged the city administration for increased NYPD presence,<br>as Jews were getting smashed in the head with bricks. We were told the manpower<br>was unavailable. Today that was shown to be a lie. https://t.co/NYQX9qYsKS",
           "0"
          ],
          [
           "Yet some people from a certain religion are proud of Hitler because he killed the<br>Jews yet claim to be religion of peace https://t.co/0ZdeIedK0S",
           "0"
          ],
          [
           "Among thousands of identified owners of Ładoś passports there are over 400 German&amp;Austrian Jews. By<br>trying to save them, Ambassador @PLinSwitzerland Aleksander Ładoś offered #Holocaust rescue to citizens of a<br>hostile country. \\n\\nThe 🇩🇪&amp;🇦🇹 part of the Ładoś List. \\n\\n#THREAD 1/5 https://t.co/cKtOJvom8q",
           "0"
          ],
          [
           "It would seem that @Keir_Starmer is an anti-Semite, as he has just conflated the actions<br>of the Israel secret services with the Jewish people #Shameful https://t.co/kI7WY3cIXE",
           "0"
          ],
          [
           "Tomorrow, join Bernard Harrison in the virtual launch of his new book, BLAMING THE JEWS:<br>POLITICS AND DELUSION.\\n\\nIn it, Harrison offers an analysis of the persistent cultural delusion that \"the<br>Jews\" collectively dominate world affairs.\\n\\nAll the details: https://t.co/hnOH0KlACZ https://t.co/hhaWG5PvAz",
           "0"
          ],
          [
           "The RCMP came knocking on my door this morning with a complaint from a Zionazi<br>Synagogue of Satan in Vancouver I sent a E-mail to complaining about their support of<br>Israel and funding Israel money which buys... https://t.co/0jmkVWeuX6",
           "0"
          ],
          [
           "Hitler wiped out millions of Jews. Pakistan wiped out millions of hindus and Sikhs. Imran<br>whom are u following, of� https://t.co/c8axPTDf4Z",
           "0"
          ],
          [
           "RT @NawazSharifMNS: The world has been criminally negligent to the plight of Palestinians for too<br>long. Israel targeting children &amp; unarmed civilians is terrorism at its worst. I strongly condemn<br>this brutality in Al Aqsa Mosque &amp; Gaza. My heart goes out to the victims.<br>The world must act &amp; act NOW https://t.co/wR5NHgvRZI",
           "0"
          ],
          [
           "This is Pakistan's impulse in one body... to the world, to the enemies, to the<br>traitors &amp; kikes. \\n\\n#WeStandWithPakArmy 💪🏼\\n#PakArmy4Peace https://t.co/qaGyjJ2zls",
           "0"
          ],
          [
           "Such growing noble sentiments by US Jews/Israelis may be the only light at the end<br>of the tunnel to this ongoing tragedy https://t.co/RpWJHaKb91",
           "0"
          ],
          [
           "“These two vaccines alone are not enough,” said Dr. Dan Barouch, director of the Center<br>for Virology and Vaccine Research at Beth Israel Deaconess Medical Center in Boston. https://t.co/N0RKQTsi3I",
           "0"
          ],
          [
           "@abdullahadam The Quran elaborates on a biblical verse. The Bible mentions the God of Israel<br>shall break in pieces the gates of brass (copper &amp; zinc), and cut in sunder<br>the bars of iron. Dhul Qarnayn uses these materials to construct the barrier in the<br>Quran.\\nPart 3:\\nhttps://t.co/nZGB6aTusc https://t.co/w0ol8L75Ra",
           "0"
          ],
          [
           "Twitter in August of 2019.\\n\\nEither the Jews are responsible or these damn hillsiders gotta go.\\n\\nSlide<br>back to Messy-co. Are they that mad they got caught? https://t.co/zY05pjJLF1",
           "0"
          ],
          [
           "Yob who shouted 'dirty Jews' and shoved baby's pram convicted of racist assault Rancid thug<br>Adam Cassidy, 20, was caught on film calling the Mendelsohn family �dirty Jews� 3 times<br>and then kicking a hoarding towards them on a busy high street last year https://t.co/LDefkVJaRg",
           "0"
          ],
          [
           "Jerusalem is a city sacred to \\nJews, Christians &amp; Muslims. \\n\\nHamas terrorists had a bomb<br>ready, planning to carry out an attack on this Holy City. Together with the Israel<br>Security Agency, we foiled the attack and arrested the terrorists.\\n\\nWATCH: https://t.co/tbYUwrhMmN",
           "0"
          ],
          [
           "America 2020: Auschwitz is trending on Twitter because a lockdown protester used the words Jews<br>saw as they entered the Nazi death camp — work makes free — on a<br>sign directed at Illinois' Jewish Governor, JB Pritzker. Who are we? https://t.co/GXtt60AVNq",
           "0"
          ],
          [
           "The #Danish Bible Society has removed dozens of references to 'Israel' from translations of the<br>Hebrew Bible and the New Testament. No one can rewrite history and delete #Israel from<br>history. Israel is here yo stay, whether they like it or not. https://t.co/aeUx1paEUU",
           "0"
          ],
          [
           "\"This is a city of Jews and for Jews. A moment after they open an<br>Arab school here, all the Arabs from the area wil� https://t.co/OTeD3Gm4pv",
           "0"
          ],
          [
           "The Jewish presence in Pesaro, Italy dates back to 1214. After the expulsion of the<br>Jews from all over the Papal States in 1569, many Jews moved to Pesaro. Here<br>some pictures of the remaining Sephardic synagogue (16th cent): https://t.co/KXen8bhJas",
           "0"
          ],
          [
           "@realDonaldTrump After Hitler’s propaganda had been used extensively against them; hate crimes against Jews, POC,<br>LGBTQ, marginalized groups &amp; anyone opposed to him, grew exponentially.\\n\\nAdolf Hitler claimed \"law and order”<br>&amp; “security” as the reason for ending civil liberties to minority groups. https://t.co/hYP4kNVscL",
           "0"
          ],
          [
           "Jews and Doctors were arrested today at Border Patrol HQ in San Diego\\n\\nThe were there<br>demanding that they'd be allowed to give flu vaccinations to the innocent people detained in<br>these concentration facilities\\n\\nTHEN THE ARMY WAS BROUGHT OUT TO ARREST THEM\\n\\nhttps://t.co/xhjQxGIYaE",
           "0"
          ],
          [
           "Exactly 1 year ago, 11 Jews at the Tree of Life Synagogue were killed by<br>a internet nazi whose radicalization was a direct result of Trumps rhetoric. Whenever this was<br>brought up, both Dems &amp; Republicans cried “too soon!” A year later &amp; they still<br>wont say it. Trump is complicit. https://t.co/AfCNAQThEo",
           "0"
          ],
          [
           "The Jews have very uninformed views about [checks notes] the meaning of Hebrew words in<br>Jewish scripture. https://t.co/mqWOR2ZN3y",
           "0"
          ],
          [
           "ICYMI: The @NYTimes, painting Israeli Jews as racists, asks the wrong question https://t.co/5o9IWgv7C1",
           "0"
          ],
          [
           "I love the way that Jews practicing their religion at their most Holy site *forced*<br>people to massacre them. It's almost like violent antisemitism preceded the establishment of Israel, let<br>alone the Occupation or settlements. Almost like it might be the cause of issues... 🤔<br>https://t.co/EVHbgbgcmn",
           "0"
          ],
          [
           "Happy Independence Day #India! 🇮🇳\\nLots of love all the way from Israel 🇮🇱\\n\\nOur geographical boundaries<br>may not meet, but our hearts meet 🇮🇱❤🇮🇳 https://t.co/XsRG1i8Dxf",
           "0"
          ],
          [
           "RT @MohdAvesh15: Is the world blind?? What are the israel's army doing?? #SaveSheikhJarrah #MasjidAlAqsa #FreePalestine<br>#IsraeliCrimes #PalestineWillBeFree #MescidiAksa #PalestinianLivesMatter #SaudiArabia #UnitedNations #HumanRights #humanity https://t.co/rZH9H7z5LZ",
           "0"
          ],
          [
           "While it’s not “beyond repair” for the GOP to appeal to all Jews, “until cultural<br>Jews all over the world start actually supporting the Zionist state as much as the<br>Republican Party does,” the GOP won’t “take away Democrat votes,” said Madison Cawthorn. https://t.co/wPm5odgePe",
           "0"
          ],
          [
           "Hi. Jew here. The Nazi occupation of France lead to the murder of 72,500 Jews.<br>Bernie Sanders, me, and millions of other Jews grew up w/ nearly no extended family<br>in traumatized household because of the Nazis. This comment by Chris Matthews is disgusting. https://t.co/L2ybnPVAiI",
           "0"
          ],
          [
           "The incredible story of how a remote Asian nation saved over 1,200 Jews during WWII.<br>Kindness beyond measure. To the Philippines, thank you.\\n\\nJoin #WeRemember for International Holocaust Remembrance Day. Learn<br>more at https://t.co/avhvXLLKRL https://t.co/6pHXWPVeqM",
           "0"
          ],
          [
           "#IStandWithIPOB\\n\\n#StopBiafraKillings \\n\\nThe Nigerian government must stop killing Biafrans because they are Jews and Christians.\\n\\n⁦@StateDept⁩ ⁦@SecPompeo⁩<br>⁦@CFR_org⁩ ⁦@MaziNnamdiKanu⁩ ⁦@NGRPresident⁩ ⁦ https://t.co/66cSzq1AJP",
           "0"
          ],
          [
           "Nancy Astor was a Nazi sympathiser who speculated that Hitler could be the solution to<br>the “world problem” of Jews.\\n\\nWhy, in this political climate, do the Conservatives get a free<br>pass to celebrate notorious antisemites? https://t.co/VS8tcgtZVi",
           "0"
          ],
          [
           "Democrat Rashida Tlaib said thinking about the Holocaust gives her a \"calming feeling.\" 6 million<br>Jews were murder� https://t.co/vaJFea8nkS",
           "0"
          ],
          [
           "RT @BenKTallmadge: During WW2, The Muslim Brotherhood Fought Alongside With The Nazis Against Jews! https://t.co/ltGDBW4h9V",
           "0"
          ],
          [
           "This sex trafficker ADVISED DONALD TRUMP'S CAMPAIGN IN 2016 and connected it with representative of<br>Israel, Saudi Arabia, and the UAE to attack the United States. https://t.co/KxuQ39PNu1",
           "0"
          ],
          [
           "Sour grapes from the US ZioNazi empire's disgusting #Orwellian govts and media...(Christmas colors light up<br>a diverse Syria as peace &amp; stability return – and the West barely noticed) https://t.co/azggqTCC5w<br>#CapeTown #SouthAfrica",
           "0"
          ],
          [
           "\"Why do Jews reject Jesus?\"\\nThis one innocent question left the writer lost in thought, standing<br>in the middle of the @IsraelMuseum. https://t.co/45J3loIJtt",
           "0"
          ],
          [
           "#India accepted Jews, just as they accepted many others fleeing religious persecution. One of the<br>few places in diaspora where Jews were not persecuted by the majority population. @Claire_Voltaire https://t.co/qgl4BJYo3r",
           "0"
          ],
          [
           "Israel is no longer a democracy but an \"apartheid regime\" devoted to cementing the supremacy<br>of Jews over Palestinians, the country's best-known human rights group said in a report published<br>Tuesday. https://t.co/HSKqLmo7Ub",
           "0"
          ],
          [
           "How far the region has degenerated into venomous us vs them. Jews and Arabs lived<br>alongside each peacefully for thousands of years then Balfour upset the apple cart.\\n\\nSince then it<br>has been take, take, take and ever more egregious acts done in the name of<br>zionism.\\n\\nUnacceptable. https://t.co/2CJO2RBhR6",
           "0"
          ],
          [
           "Jeremy Corbyn was going to hold Israel to account for its crimes against humanity. At<br>the Board of Deputies of British Jews (BoD) event, speaker called for Corbyn to be<br>killed. @Keir_Starmer of #Labour Party takes advice from BoD . https://t.co/SbwhmP2Foh",
           "0"
          ],
          [
           "Let's not discuss Israel-Palestine \"through lazy racist tropes about devious, all-powerful Jews or violent Muslim<br>terrorists..the violence there is bad enough without the rest of us adding a layer of<br>brazen bigotry to it.\"\\nMy #minuterant on @MSNBC tonight:\\nhttps://t.co/XkwH6r7tKM",
           "0"
          ],
          [
           "1. Israeli war crimes, a thread: Six years ago, Israel halted its 7-week aerial bombardment<br>and ground invasion of the Gaza Strip. 2,200 Palestinians were killed 70% of them were<br>civilians 25% of them were children 1000 kids were left permanently disabled #StopArmingIsrael https://t.co/ZVBXw7Ctcx",
           "0"
          ],
          [
           "\"Israel invests considerable resources there on infrastructure and social services, but non-Jews are not allowed<br>to live in the settlements - even though they are often built on confiscated land<br>privately owned by Palestinians\" https://t.co/o9PG9Wbctc",
           "0"
          ],
          [
           "US caused billions of dollars in damage to Venezuela since 2013 and like Nazi Propagandist<br>Gorbals the ZioNazi's blamed the Venezuela Gov for their economic woes and touted USA Humanitarian<br>Efforts. https://t.co/st0u5uVPvQ",
           "0"
          ],
          [
           "Person A *Bad take about @AOC*\\n\\nPerson B *Reasonable response*\\n10 seconds later\\nPerson B *Kikes are bombing<br>Syria*\\n\\n..... How is it that of these three people the person I already despised is<br>the most reasonable\\n\\nSTOP MAKING ME DEFEND AOC!!! https://t.co/tCBHSCdcjL",
           "0"
          ],
          [
           "Of course, the biggest source of Hitler's prejudice is Christianity. For centuries Christian had persecuted<br>Jews. The problem was theological—their not accepting \"Jesus\" as the Messiah. Hitler has the \"final<br>solution\" to Christianity's problem.\\n\\nhttps://t.co/VHHHp5liQa",
           "0"
          ],
          [
           "The Quran tells us that Muslims are superior to Jews &amp; Christians. And that Allah<br>does NOT love Jews &amp; Christians, who are the worst of creatures including animals. #ISLAM<br>#Sharia #ShariaKills #StopIslam #BanSharia #dkpol #svpol https://t.co/G8vZA2HgZj",
           "0"
          ],
          [
           "Why are Turkey, Greece, Israel, Egypt, Libya and other neighbouring countries fighting over maps and<br>maritime boundaries? Because of the world's largest untapped source of natural gas sitting under the<br>Mediterranean Sea... \\nhttps://t.co/ErG1gAN6i6",
           "0"
          ],
          [
           "#NYTmes &amp; #FoxNews don't report on Neo-Nazi, Hitler-worshipping Israeli rabbis. They suppress news about ZioNazis<br>to protect true nature of counterfeit “Israel” from exposure. \\nHitler was trained in occult Kabbalah.<br>Talmud and Kabbalah are progenitors of the West's racist dogma. https://t.co/WVzuDotcKM",
           "0"
          ],
          [
           "✢ In the series on notable religious figures from Caucasian Albanian history we present St.<br>Zachariah of Partaw (Barda), who managed to intercede for the local Christians, Jews and pagans<br>during the war raged in the Caucasus by the emperor of Byzantine Empire - Heraclius..<br>1/1 https://t.co/dlPmGZ9EPJ",
           "0"
          ],
          [
           "Palestinian Abdullah Abu Nasr, executed by Israeli zionazis for the crime of being curious\\n‼️ on<br>his own land\\n#Murder\\n#BDS\\n#GroupPalestine\\n#قروب_فلسطيني\\nhttps://t.co/d6DShuFkpz",
           "0"
          ],
          [
           "The insane logic of Zionism: Israel refuses to provide adequate #COVID19 testing to Palestinians, thus<br>ensuring the outbreak threatens the country's entire population regardless of nationality or religion. \\n\\nKilling Palestinians<br>&gt; Protecting Jews\\nhttps://t.co/hFygVarTY3",
           "0"
          ],
          [
           "How Abrahamics are targeting sacred Hindu Jyotirling Srisailam Mallikarjuna Mandir\\n\\nThey normally hate each other, but<br>are more than willing to team up against Hindus, Sikhs, Jains, Buddhists, atheists, and sometimes<br>even Jews. \\n\\nhttps://t.co/nPinevutcq",
           "0"
          ],
          [
           "#IsraeliTerrorism\\nWhere is the Pakistani cricket team's players ? why not they show their spirit to<br>stand up with occupied Muslim countries just like Palestinian, Kashmir, Syria's...They don't have dare to<br>raise the voice against terrorism of jews, Indians, US like these players https://t.co/nwF7CIsnGK",
           "0"
          ],
          [
           "2 November 1917. British Foreign Secretary, A.J. Balfour, supported a “national home” for the Jews<br>of Palestine. (known as ”The Balfour Declaration”). https://t.co/wMWxoQen69",
           "0"
          ],
          [
           "Abu Talibع had heard good news from the people of the Book (the Jews and<br>the Christians). The good news was that a Prophet would appear very soon. So, he<br>took care of his nephew very much. He thought that he would be a Prophet.\\n#مدافع_رسالت_سرکار_ابوطالبؑ<br>https://t.co/wa4fgYwaG6",
           "0"
          ],
          [
           "Attack on Jews in Ny yesterday, an attack on Christian's today. The DS is in<br>panic mode with the truth coming out. Watch for more of this. This church shooting<br>could have been worse if a good guy with a gun hadn't stepped in. ...-<br>#2ndAmendment https://t.co/Xw2qb4mwJh",
           "0"
          ],
          [
           "‘The Mexicans are the new Jews’ — Music legend Linda Ronstadt isn’t afraid of comparing<br>Trump to Hitler https://t.co/w1QzElGBCZ",
           "0"
          ],
          [
           "So 80% of American Jews are disloyal? Sounds to me like the old anti-Semitic trope<br>questioning the loyalty of Jews. https://t.co/CEfWI0m02j",
           "0"
          ],
          [
           "The Jews in Israel are not descendants of Judean Hebrews. They are Kazaria converts. A<br>religious mix of Torah &amp; Kazarian mysticism. Palestinian people ARE the genetic inheritance of the<br>land. Time to see the facts and truth in history. https://t.co/IPhgWVZIiB",
           "0"
          ],
          [
           "Anti-Semite Al Sharpton called Jews �diamond merchants� and organized a march where protesters shouted �kill<br>the Je� https://t.co/i4l6MTaQx0",
           "0"
          ],
          [
           "Israel was hit badly by the coronavirus, but the country has become a world leader<br>in vaccinations. This is how it got the first doses of a vaccine to more<br>than 10 percent of its population. https://t.co/25Lb84eCtN",
           "0"
          ],
          [
           "Shimon Peres, the ninth president of Israel:\\n\"The Middle East is on General Soleimani's finger\"\\n\\nThey wanted<br>to occupy the Middle East by assassinating him. But they will never achieve that goal,<br>because Iran has many \"General Soleimani\"!\\n\\n#HERO https://t.co/lS1ffx4t1y",
           "0"
          ],
          [
           "Leviev is suspected of heading an empire that smuggled hundreds of millions of shekels in<br>diamonds to Israel over at least 16 years. \\n\\nThe police suspect he sought to evade<br>restrictions on exporting diamonds from other countries, especially Russia.\\n\\nhttps://t.co/YiSUckze9e",
           "0"
          ],
          [
           "Iranian Song in Farsi, Hebrew, and Arabic Marks Anniversary of the Assassination of Soleimani and<br>Al-Muhandis: “Death to America! Death to Israel!”\\nhttps://t.co/OzfqxIX8UE\\n#Iran #Soleimani",
           "0"
          ],
          [
           "16 November 1935:\\n\\n85 years ago Hitler passed these laws:\\n\\n🔴Snatched the Citizenship and voting rights of<br>Jews\\n\\n🔴Barred the inter-faith marriages leaglly\\n\\nIn Indian context:\\n\\n👉NRC\\n\\n👉Love-Jihad https://t.co/3TOvIhBhav https://t.co/i4Y9lZN0vV",
           "0"
          ],
          [
           "We want to vomit - people are CELEBRATING and cheerleading the death of Jews tonight<br>in Mount Meron. https://t.co/7AxS4ynA0v",
           "0"
          ],
          [
           "4 months ago after Rep. Omar suggested Jews are not loyal Americans,House Democratic leaders refused<br>to vote on a resolution singularly condemning her words or anti-semitism\\n\\nNow they have no problem<br>voting on a resolution labeling the President a racist\\n\\nhttps://t.co/ILHqwouZRx",
           "0"
          ],
          [
           "RT @AP: The owner of a Gaza high-rise housing the AP and other media outlets<br>says he has received a call from the Israeli military that the building would be<br>targeted. The man said he was told to make sure all residents have evacuated. https://t.co/QyRtPSPtlf",
           "0"
          ],
          [
           "Christopher Cantwell, podcast interview highlights: \"I’m like ok, let’s f**king gas the kikes...because once I<br>realized they were responsible for the communism, then I was like... that’s a f**king really<br>good reason to f**king genocide a group of people.”\\nhttps://t.co/InZXeqrH2u https://t.co/ITJo2Qv8qR",
           "0"
          ],
          [
           "Sweden: Muslim-dominated Malmö ‘was once a safe haven for Jews, but today only 200 remain<br>and are being harassed’ https://t.co/rATkr18WZh",
           "0"
          ],
          [
           "It is important to remember all the sites of Nazi massacre of Europe's Jews in<br>the Holocaust. Buchenwald was not an extermination camp but 43,000 people died there. https://t.co/Fg9Cn0Lz8D",
           "0"
          ],
          [
           "As Jews were having rocks pelted at them and bricks thrown at their heads this<br>past year in Brooklyn, they said nothing then, as well. This is textbook for them.<br>https://t.co/ogAwQ2XSIx",
           "0"
          ],
          [
           "Here's a theory that people need to consider Israel wasn't created till after the war<br>how do we know these people are really Nazis that put tattoos on themselves with<br>numbers and said that they were Jews https://t.co/AMR6nnNPEd",
           "0"
          ],
          [
           "Paul Nehlen is a white supremacist, hates Blacks, Jews, &amp; non whites, wore a tshirt<br>with face of #TreeOfLifeSynagogue murderer &amp; says he’s a hero. He wants a race war.<br>Nazis say he’s extreme.\\n\\n@IngrahamAngle &amp; @FoxNews defend him as a “conservative voice.”\\nhttps://t.co/zjV5HfBTiZ",
           "0"
          ],
          [
           "Jews allow Muslims to keep a Mosque on Judaism's most holy site, and the Muslims<br>thank them by forbidding Jews from praying at the site...\\n\\nBen Shapiro reportedly booted from Temple<br>Mount as Muslims chant \"Allahu Akbar\" at his group https://t.co/kwtVokBFYI",
           "0"
          ],
          [
           "Pittsburgh Cops calmly arrested the heavily armed white supremacist terrorist who murdered 11 Jews�but a<br>black unar� https://t.co/WHLySIhILY",
           "0"
          ],
          [
           "In the Hebrew religion a person becomes adult at age 13 during a religious ceremony.<br>So Jews are deprived of the ri� https://t.co/SOKUF2PnA0",
           "0"
          ],
          [
           "Jews &amp; Gentiles both running over the course of this world: the Jews using the<br>written law, the Gentiles using the law of nature. Or, they were both running by<br>their natural desire for happiness and for a knowledge of the truth, which all men<br>desire to know by their very nature https://t.co/rVAC03UubI",
           "0"
          ],
          [
           "The Democrat Party reached a new low. In a vicious attack against Israel that was<br>full of lies, Rep. Rashida Tlaib actually wore the jihad war scarf (keffiyeh) on the<br>floor of the House of Representatives. Is this is being reported by our non-biased media?<br>?? https://t.co/JmbWt8B0Cg",
           "0"
          ],
          [
           "What happened to the Jews, only 75 years ago in the 3rd Reich is now<br>happening to those who decline the CV jab for good reasons, but especially because of<br>'bodily integrity', on the grounds that they 'might infect others'. Fear and propaganda = genocide.<br>https://t.co/PFjePt9fMC",
           "0"
          ],
          [
           "The Israel lobby has waged a years-long campaign to destroy Florida State’s SJP chapter by<br>intimidating its student members. Now it’s trying to force the school to adopt the IHRA<br>definition of anti-Semitism, a weapon of speech suppression. See this thread for critical background https://t.co/30xSDVicI2",
           "0"
          ],
          [
           "US ramming attack killer posted Hitler meme, says Black people are ‘true Jews’ https://t.co/NmKRZtuY3z",
           "0"
          ],
          [
           "Pope Francis said some of the things he's heard targeting Jews and the LGBTQ community<br>remind him of the days of Adolf Hitler https://t.co/vhp7E9KV3S",
           "0"
          ],
          [
           "i’m sorry i didn’t realize the jews in concentration camps were binge watching tiger king<br>and ordering 40 dollars worth of buffalo wild wings every night on uber eats https://t.co/F5kkpIbPvT",
           "0"
          ],
          [
           "Red Army discovering the sites of mass killings as they chase retreating Germans forces; reporting<br>Communists, Jews, gypsies killed en masse by Nazi invaders: https://t.co/D1sAMVLwR1",
           "0"
          ],
          [
           "Israel's attacks on the Palestinian people are intolerable and follow threats of forced evictions and<br>violence in #SaveSheikhJarrah and #AlAqsa.The EU must condemn this barbarism and press for an end<br>to the occupation, blockade, apartheid and human rights violations in #Palestine https://t.co/0EpRsS4JRf",
           "0"
          ],
          [
           "A picture that speaks more than a thousand words. The martyrdom of Polish Jews and<br>Poles shown in one painting by David Olere, the man who survived the Sonderkommando. \"A<br>Priest and a Rabbi\", 1946. https://t.co/qYYEMoCvg8",
           "0"
          ],
          [
           "RT @SalafisExposed: HOW ZIONISM HELPED CREATE THE KINGDOM OF SAUDI ARABIA The covert alliance between<br>the Kingdom of Saudi Arabia and the Zionist entity of Israel should be no surprise<br>to any student of British imperialism. The problem is the study of British imperialism has<br>very few studentsâ€¦ ðŸ§µ https://t.co/sDQE7w3CYQ",
           "0"
          ],
          [
           "ISRAEL: Today would be the 28th birthday of Oron Shaul an IDF soldier who was<br>killed by Hamas during Operation Protective Edge in 2014. His family still awaits the return<br>of his body from Gaza after almost 7 years. https://t.co/YACH7fT60q",
           "0"
          ],
          [
           "'zionists', 'zios', 'zionazis', '(((them))), and now 'gnasher scum' and its variations. All used as substitute<br>words for Jews and our allies https://t.co/28af7bGWin",
           "0"
          ],
          [
           "The Knesset: One of the most exciting &amp; interesting places in Israel where our legislators<br>calmly debate and pass Israeli bills. Now they're on Twitter in English! Follow the official<br>account of Israel's parliament @KnessetENG. 📸Kobi Gideon / GPO https://t.co/GlJK5vpdMs",
           "0"
          ],
          [
           "After once demonising Islam, West is now making up by hiring them in numbers where<br>they can target both Jews and Hindus. This would explain why even a Bari Weiss,<br>once considered the 7th most influential Jew in the world, cannot survive in the NYT.<br>https://t.co/kuaZtnJOJL",
           "0"
          ],
          [
           "chemical baths were used during the holocaust by Nazis to \"clean\" Jews &amp; before that<br>by Americans at their borders to debug Mexicans.The baths were fatal/injurious.\\nIndia should worry abt these<br>images being flashed internationally cause they will be seen as HumanRightsViolations. https://t.co/aspE1l7m8M",
           "0"
          ],
          [
           "The Media case against Margaret Court is not that she is offensive - her views<br>on Marriage &amp; sexuality are shared by not just Christians but Jews &amp; Muslims -<br>but that she just refuses to publicly 'bend the knee' &amp; play along on the<br>Media's key issues. So the Media just loses it. https://t.co/ngyI0GfEk2",
           "0"
          ],
          [
           "Imagine hating Jews that much.\\nNo Israeli flag/Jewish star on flag/Star of David/any Jewish symbol was<br>displayed near the White Supremacists/Nazi demonstration, I can’t believe I have to tweet this.\\n\\nShame on<br>any Jew that sides with Sarsour. Or in Iraqi: tmarel bil khara ya Linda https://t.co/Rp82VJsBHj",
           "0"
          ],
          [
           "What happened to high-ranking Nazi officials who were never caught? Philippe Sands's new book answers<br>the question in the case of one man who was responsible for the deaths of<br>thousands of Polish Jews. https://t.co/T33zpoX1Er",
           "0"
          ],
          [
           "https://t.co/Sr2xTXWrJN The above link about #detentioncenter of #Hitler . What he did to Jews community!!<br>If #BJP don't want to such results then why are they bringing #NRC_CAA_NPR . #NRC_CAA_Protest<br>#IndiaDoesSupportCAA #IndiaAgainstCAA_NPR_NRC",
           "0"
          ],
          [
           "\"Zionazi� is a derogatory term for supporters of Israel that combines the words �Zionist� and<br>�Nazi.� In his social� https://t.co/aTojCFZtN5",
           "0"
          ],
          [
           "A year before Corbyn was leader of Labour in 2014 \\n\\n▪️ Maajid Nawaz spoke at<br>this rally\\n▪️ 2/3 Jews were 'thinking of leaving' UK because of AS \\n▪️ Maajid's right<br>wing mate Douglas Murray also spoke\\n▪️ Article mentions the Henry Jackson Society\\n\\nhttps://t.co/iSZNs9HVav",
           "0"
          ],
          [
           "No. \"Jews\" are NOT a race of people my friends.... they are NOT Hebrew Israelites<br>nor are they ANCESTORS of them. Period. https://t.co/48cBUptYBe",
           "0"
          ],
          [
           "GOP moves to undermine impeachment as a rabble mob much as the ZioNazi Settlers bum<br>rush the Muslim Mosque on the Mount in Palestine. https://t.co/wCupb7YmPx",
           "0"
          ],
          [
           "RT @theIMEU: Israeli forces are firing stun grenades INSIDE a medical clinic. Full of medics<br>and Palestinians THEY injured. In the middle of a pandemic. While Israel continues to deny<br>Palestinians vaccines. Layer upon layer of violence. https://t.co/3DBQBhpNAz",
           "0"
          ],
          [
           "Jews have never prided with physical strength.\\n\\nBut with Gdly service &amp; pursuit of Kindness.\\n\\nJudaism teaches<br>the path of the humble and the ways of faith &amp; compassion\\n\\nAny rhetoric or actions<br>in contrast to these values do not represent the Jewish people.\\n\\n#Israel #Jewish https://t.co/JBF5mMTdmW",
           "0"
          ],
          [
           "Welp, in the midst of conspiracy theories about how this plague is caused by The<br>Jews we've got another gentile blaming Judaism full stop instead of Israeli nationalism for Israeli<br>treatment of Palestinians, so that's cool. https://t.co/A973v0Xfke",
           "0"
          ],
          [
           "Any Jews out there joining me in voting Republican in 2020? \\n\\nThere is ZERO reason<br>to vote Democrat! They just kowtow for votes, then turn their back on us.\\n\\nInstead, come<br>join the Republican Party, who welcomes, embraces, protects and promotes us all of the time!\\n\\n#jexodus<br>https://t.co/9t44IBKVyX",
           "0"
          ],
          [
           "Mans shitted on the Jews and his career lived to tell the tale, top 5<br>off that alone https://t.co/GwddTvQH57",
           "0"
          ],
          [
           "1. Israeli war crimes, a thread:\\n\\nSix years ago, Israel halted its 7-week aerial bombardment and<br>ground invasion of the Gaza Strip.\\n\\n2,200 Palestinians were killed\\n70% of them were civilians\\n25% of them<br>were children\\n1000 kids were left permanently disabled\\n\\n#StopArmingIsrael https://t.co/ZVBXw7Ctcx",
           "0"
          ],
          [
           "Thank you @JosepBorrellF.\\n\\nIsrael calls on the EU to designate all of Iran's terrorist proxy #Hezbollah<br>as a terrorist organization. https://t.co/Yd6JBPR3Gc",
           "0"
          ],
          [
           "There are approximately 17% of children orphaned due to the wars of Israel, and this<br>is about 20 thousands orphaned children. https://t.co/DsgDzL0YL2",
           "0"
          ],
          [
           "@haaretzcom Palestine is Judea, the Roman name for 'Land of the Jews.' HOW DID MUSLIMS<br>SUDDENLY BECOME ‘PALESTINIANS’ AFTER 2,000 YEARS? The Shocking Truth: https://t.co/2bQaHyAJ92 https://t.co/uPHoEkn1Eg",
           "0"
          ],
          [
           "Georgia Senate candidate Raphael Warnock praised the Nation of Islam, which calls Jews �Satanic� and<br>calls for the death of America This is the Democrats choice in Georgia to defeat<br>@KLoeffler. We can�t let him win https://t.co/B0yAGmuOzn",
           "0"
          ],
          [
           "Beautiful! Indian Jews from the Bnei Menashe tribe, who have maintained 3000 years of Jewish<br>tradition in India, are singing Israel’s national anthem ‘HaTikva’.\\n\\nThis touches my heart. 🇮🇱🇮🇳 https://t.co/4PxDjdIIEv",
           "0"
          ],
          [
           "Jews under all circumstances did everything they can to observe the day of #YomKippur.\\n\\nBelow: a<br>handwritten condensed #YomKippur prayers written by a prisoner of the Saint Cyprien internment camp in<br>#France in 1940 https://t.co/SeB3tL2jz9",
           "0"
          ],
          [
           "Video shows the protesters chanting : �Palestine is our country The Jews are our dogs.�<br>My column in @TheTorontoSun this morning on Jew-hatred exhibited at a �human rights� rally in<br>Mississauga, just west of Toronto. Read and reflect. https://t.co/Skd8NKq9qh https://t.co/9aN1s5upxv",
           "0"
          ],
          [
           "After Chinese Ambassador to #Britain #LiuXiaoming interviewed by @BBCNews, Board of Deputies of British Jews<br>President Marie van der Zyl sent a letter to Liu stating that #CCP’s treatment of<br>#Uyghur #Muslims is analogous to #Nazi #Germany’s treatment of the #Jews.\\n@appledaily_hk https://t.co/PBYxXl4ml0",
           "0"
          ],
          [
           "speaking of the american civic religion and the way it's used specifically to attack Jews,<br>https://t.co/AMOcnZ27hg",
           "0"
          ],
          [
           "#RealGod_Is_InForm ????????? There were humans before Adam and Eve. All Christians, Muslims, and Jews are<br>the grandchildren of Adam. That is why they believe that Adam was the first human<br>which is actually not true. @SaintRampalJiM https://t.co/trAFGm661a",
           "0"
          ],
          [
           "Reminding us that there is a conversation going on telling us that left-wing Jews aren't<br>really Jews. My parents were told the same thing 80 and 90 years ago. Plus<br>ça change, c'est la même chose, as we say in Yiddish. https://t.co/faA3yMbpet",
           "0"
          ],
          [
           "She's not holding all Jews collectively responsible for actions of #Israel but self appointed leaders<br>&amp; supporters of the #apartheid regime &amp; illegal settlements. \\nBy the way thanks for accepting<br>that Israeli actions against #Palestinians are despicable. https://t.co/9TNMoYDj7H",
           "0"
          ],
          [
           "The Jews gave America the cliche of the 'maternal martyr-tyrant.' This Mothers Day I push<br>back on the crazy Jewish mother and uncover a couple of red hot Yiddishe mamas.<br>🔥\\n\\nhttps://t.co/IHZocfSsVo",
           "0"
          ],
          [
           "Pope Francis says politicians who attack Jews, gypsies &amp; gays remind him of Hitler �<br>RT World News https://t.co/l2nhsJd174",
           "0"
          ],
          [
           "First they blame the Jews, now they blame America, taking a page from #China�s newest<br>propoaganda effort: #Iran MP blames #US for bringing a �new deadly strain� of virus to<br>Iran. Source: https://t.co/9Bp9hvVyaY https://t.co/Fv77GqbUnu",
           "0"
          ],
          [
           "@h6snaa 6 million jews* that doesn’t include the romani people, lgbtq+ people, disabled people etc.<br>the likely death toll of the holocaust was around 17 million and that doesn’t include<br>the deaths caused by the war that he started. what king leopald was awful but<br>i’m so fed up of ppl+ https://t.co/XpRICrJYQb",
           "0"
          ],
          [
           "“Several Trump fans shouted ‘Fake news!’ at reporters filming them, and one shouted ‘the media<br>is run by Jews’ at a Reuters photographer.” https://t.co/DlQSJeCzgS",
           "0"
          ],
          [
           "Not gonna play with y�all today. What Messianics are saying is that they have all<br>the benefits of white supremacy in America, they want to retain that, but they also<br>want to be perceived as Jews, just without any of the baggage. https://t.co/k9ApFjVelw",
           "0"
          ],
          [
           "Jews weren�t getting their asses kicked on the streets of NYC on @RudyGiuliani�s watch. That�s<br>happening on your watch, you worthless piece of garbage. https://t.co/zzqqooEssF",
           "0"
          ],
          [
           "36/n Ahem! So please explain how being inspired from Hitler’s treatment of Jews did they<br>kill Muslims in Gas Chambers? Rather I heard about ‘Direct Action’ in Bengal by Muslim<br>league in which mass rapes &amp; murders happened. https://t.co/sE7afSX590",
           "0"
          ],
          [
           "Jews burnt on cross during inquisition for refusing to convert.\\n\\nThe Cross killεd more Jews than<br>any other symbol. Even devotional cross was of an executed Jew named Jesus called \"King<br>of Jews\"\\n\\nWhy no ban on cross?\\n\\nWhy ban on totally unrelated Hindu symbol which killεd 0<br>Jews? https://t.co/TRuJ92wXXU",
           "0"
          ],
          [
           "History Made! #BTS Jared and NSA O�Brien on the 1st commercial flight ever between Israel<br>and the United Arab Emirates! ???????????? https://t.co/kdAHHtsRCs",
           "0"
          ],
          [
           "Polish parliament by a nearly unanimous vote (+446-2=1) declares 2021 as the “Year of the<br>Ładoś Group” in honor of Ambassador @PLinSwitzerland and his men who saved thousands of Jews<br>throughout Europe during #Holocaust . 1/7 #Thread \\n\\nhttps://t.co/VgEe3DosoS https://t.co/eD4y94tUf1",
           "0"
          ],
          [
           "Israel practises the worst organised terrorism against the Palestinians, but none so evil as the<br>theft of body parts from those they kill #BDS https://t.co/vbAzOP9FFh",
           "0"
          ],
          [
           "Behold the result of de Blasio�s public campaign against the Jews: neighbors reporting on hiding<br>Jews they see through windows, and journalists blasting out the photo of an offending Jewish<br>child. Genuinely sick stuff here. https://t.co/yO7er67aMJ",
           "0"
          ],
          [
           "#BREAKING: Illini Students Supporting Israel board member Aaron Merlin, a junior, told @jacksonrichman that the<br>vote was wrong and not representative of the overall university community. https://t.co/yc9stwbYcO",
           "0"
          ],
          [
           "The roundup was aimed at foreign &amp; \"stateless\" Jews, whose origin couldn't be determined, all<br>aged from 16 to 50. There were to be exceptions for women \"in advanced state<br>of pregnancy\" or breastfeeding, but \"to save time, the sorting will be made at the<br>first assembly centre\". https://t.co/dW7nqKo8cN",
           "0"
          ],
          [
           "President @realDonaldTrump was able to get Israel to agree to a two-state solution with the<br>Palestinian people—and, for the first time in history, agree to a map that outlined the<br>territory. https://t.co/8r3DWmzzOx",
           "0"
          ],
          [
           "Bill Mitchell is tweeting #antisemitic conspiracy theories on #YomHaShoah, the day we remember Jews killed<br>in the Holocaust. The Tree of Life Synagogue shooter killed 11 people, motivated by Soros<br>conspiracy theories. Report to Twitter.\\nhttps://t.co/RoQmeus5MS",
           "0"
          ],
          [
           "“We reject the hypocrisy in some quarters of Iraq that speaks kindly of Iraqi Jews<br>while denigrating their Israeli citizenship and the Jewish state, which granted them asylum.” A truly<br>remarkable call by an Arab to join a “growing community of peace”. https://t.co/ceMnkOf9MR",
           "0"
          ],
          [
           "Interview 15: Kacou Philippe, Prophet of the Jews. English Version VF Complet https://t.co/AByBLUUT17 The full<br>Message of Prophet Kacou Philippe is available on Google Play in text and audio version<br>in one Android app for your tablets and Android phone… https://t.co/Y04Lr9hvzj",
           "0"
          ],
          [
           "@DrEliDavid Israel is obligated to Pfizer to sell its citizens under the agreement ... and<br>this is only the first page of the agreement https://t.co/0J0xYCjJ7S",
           "0"
          ],
          [
           "France had a Nazi war criminal police chief that oversaw a massacre of Algerians &amp;<br>also sent Jews to their deaths, but the anti-arab racism was covered up, to some<br>degree including by the left!?\\nhttps://t.co/jpLfyKF8mG",
           "0"
          ],
          [
           "Love this. Israeli Arabs and Jews meet regularly to bridge the Arabic-Hebrew gap, and create<br>lasting friendships along the way. h/t @Reuters https://t.co/xFhLY3Yy40",
           "0"
          ],
          [
           "Trump, who had been hailed as the “King of Israel,” will ultimately be the man<br>responsible for killing the Jewish state.\\n\\nMy latest for ⁦@InsideArabia⁩. https://t.co/1K5S2a7sQX",
           "0"
          ],
          [
           "My Great-Grandpa Leo- He fled Poland before the Nazi invasion in 1939 which saved him<br>and his wife’s lives as they were Orthodox Jews. Because of his choice I am<br>alive today. He also rocked the fedora! #oldisgold https://t.co/Zi5t5ymKBh",
           "0"
          ],
          [
           "Tell me again how Judaism is not ZioNazism. \"It's an evil society. Carpet bomb the<br>lot of them.\" Rabbi David Bar-Hayim https://t.co/h6tbHGb7pC",
           "0"
          ],
          [
           "Looks like an incurable case of TDS to me. Poor morgan freeman must hate how<br>well the the Blacks, Jews, Hispanics, Asians, Native Americans, &amp; the working men and women<br>of America are doing under Donald Trump. He misses the days when only the elites<br>were doing well under obama. https://t.co/TBSdLBIGE5",
           "0"
          ],
          [
           "@MichaelRosenYes Jews in the Labour Party are perfectly safe - unless they support Palestine/criticise Israel/support<br>Jeremy Corbyn - in which case they will often be attacked by people like Louise<br>Ellman. The Labour Party is a safer place for Jewish comrades without her. https://t.co/NmqOH0iSjd",
           "0"
          ],
          [
           "Antisemitic activists go into overdrive to blame Israel for George Floyd�s Death Geller Report News<br>American Jews (in part) are being attacked during these violent riots. It�s frightening. The Democrat<br>Party seek the votes of these anti-Semitic thugs. https://t.co/BDDQ4L2yC5",
           "0"
          ]
         ],
         "hovertemplate": "%{customdata[0]}<br><b>cluster:</b> %{customdata[1]}<extra></extra>",
         "legendgroup": "0",
         "marker": {
          "color": "#EF553B",
          "opacity": 0.85,
          "size": 7,
          "symbol": "circle"
         },
         "mode": "markers",
         "name": "0",
         "orientation": "v",
         "showlegend": true,
         "type": "scatter",
         "x": {
          "bdata": "e0s7QYUZBEHsExpBApKwwZSGTsGWyDpB7bG/v7RCB0HMqzBB45COwcBOL0H2hwlBn9gEQe1Tk0Ea3ndBcXjVviiQMECzUhlBmmXzQBveK8HHn2VBXW0HQVeSHsGO5ypBartgQcwpgUEB5XVB5saFPxmj6EBdJ63AVd9ywUxcTEGjpCg/1tIKwJ/KM793UpE/2NtZQWH8gcAKm/5Aw6RWQTUzC8BMNxZB9ZURQYvCU0G+QoRBSK1GwK60o74CkrDBRgs2QXmXzMAb/OfARjCwwKRLZEElRrNA9Gw5Qa8COEFtm8O/jZJTQZWjlEFzlIhBKPwmQSCM3MBABC9BkjI5QcIsOMBB/4BBkyUXQbIhVkFJhB1Bf7QPQSlyNEG8Hu7A6cehQA8mBUGxUxVBDDP+QFiUrr/zCYXB13QeQTwrt0BnXuRA7q8xPlBhUkFQS13AFYxwweWlyz+VAje/HCiSQAUb78B2OXVAWx43QeSUEkBEMPJAeL6RwVfpPkHMNWK+dw+LQBGhUUGqaKBBufVqQaCid0A3hTFBSLoLwfvgCEHPXfK9+HMWQQ0HEkHwd1VB5ByFQZg7VUG/8chAJsFWQQGpYj+FiWVBkrgKwbJPdUAZFBdBdcbmQJeBGkEWkgnAPVtWQYXOm8C1cls/njrhQN2/v8CWGX3AvlkTQKxp6EBEEPM/2EvEQFctKUHTTj9B2WC+QFDZPEG76X1BKMpoQSSaZMBYiq9AuOuRQOKTzECk2iFB3Uj7QG7XXUCeeJhADMe0QDrp7sCkuqBB6qOSQZbv00AKf39B6hsCQZIbtcA/601BI4EfQcWUOUCiD2xBkCY1QX8dmMB4aUFAxL6RwVaQiT6kBMdAzfwwQaIoFkE9/wFBZiH/QL2KikAWxKRAbuPAQG8JdkCG0UbAEU+dQTiKH0EGunFBrBqFPuJZOsCvsGTAdeAsQbs45j8RH+Q/R63+v/DqAUCsprVAJa1LQVF8GEGWtJY/zJjJPybhnsDG8UdBK78IQfV4qkC4lH1B4wAlwCn9yECkGCBBN/gsP19eZUBVj3FBPEamPyprvEA=",
          "dtype": "f4"
         },
         "xaxis": "x",
         "y": {
          "bdata": "8+MqwIBSED+gIyvAsnf/v8aoaMHkBoxALaX5QIDyrr4mkRpAc/6iwDpJWcGVyMY/ITw8Qa+lQMEEx1nADJWYQf1548AzxJXAVF08wRZyDMGnN9lA0K4vQKJB+j+bDonB+K3iwBjpSsACMsw/kQMswckOFcDA0LbBqfMyQHs0kkCcSlXBPn+BQSD8xEBVHEA+b3UyQFDKBsDmVyrB8w60vzEOxr+1anhBR/HRP4KQCEGO65y+ziMPQKAzhkGyd/+/lnKDwTKUbMAowKDAdeeXwIM/zcC+jKs/QakowavFjkDiWrxACQzowFbgCT9j06M+k2tGP9PuAEARfKpAlAGDwSxrK7/RcpdA1QxYwUYRLT+saWBAFxR9QBFuvcA1L5PAt+9AwGMJ18Dc7vG/v3MowVADV0Dx6ZW+7UWrv+LJRkDQ0Ck+5ivdwAD0bcBl+GjAosw+wO3G57/0GphBN0qOQJp/AMASRkdB8H0kv3EdJ0B8Esw/ibFawU4uesFc+o1Bq2qNwOkmg8A1S2HAUZv3Pm6tu0AFaqhAct5pQb1K/D4PsAPBcfiFwXre2L99ATLBopqdQEPfm8CkXKfAFiyBwdmaasAdibG/shaYwa5gOUBD2fNAU7yfv3XvDEGkAxI/9W0ywbUyTcHG3rLAUY0mQIWPDMCUwzbB8tNmwcxZK8BBoC/B1vWGwBNUDUDiW/JAoOiRQBejUD4zJA3BI4jnwIJ0sb+FMhfABED4QKpImECotjA/vLR2wLP0FcBxs7JAHknNQMyrqMBo/1/Ao4ynQOkto0B9m8DA0T0/QYDyyb8MKIPB25h0QdRv2UASgMlAvbsSQe7crz8oi+A+C7JawXXYTUF7bRdBelQOwD/q8kDe+LDA+kiFQKAi+0BYFQdAydp+v/eCqcDZPyPAuV0wwCH3qkDigvzAUtVjQbavM8EUShhBtaKMwRWQCUHPSwHBS+71vYUuib4KJn0/+zP9P0LJfEBCcDU+r/5BQBodh8FOMQRB2De0QJ4kkkDdQpQ/ImgswfvYUL86+4bAhsN/wXn9f8CfTE4+zFDNwIi5mcA=",
          "dtype": "f4"
         },
         "yaxis": "y"
        },
        {
         "customdata": [
          [
           "#Apartheid zionazist... Ethnic cleansing, land seizure, home demolition, military occupation, bombing of Gaza.. Israel is<br>copying South Africa very well #SobatPalestinaINA #IsraeliCrimes https://t.co/vYnnnQIG8U",
           "1"
          ],
          [
           "\"Funny\" how #Palestinians act all innocent, oppressed, while daily trying to murder #Jews in #Israel.<br>\\n#FreePalestine https://t.co/Mmx8YvLDlu https://t.co/wyjddXTajs",
           "1"
          ],
          [
           "Film on the ZioNazi ordered Apartheid Israel's deadly flotilla raid #Warcrimes screened in Italy https://t.co/G04RBGWdIo<br>#Executions of passengers, Israeli's used banned glass embedded paintball pellets producing blood gushing wounds.",
           "1"
          ],
          [
           "A group of Jewish activists endorsed Crystal Hudson to represent Crown Heights in the New<br>York City Council over her opponent Michael Hollingsworth, who is aligned with the anti-Israel BDS<br>movement. Full Story https://t.co/2fBRJjtXgf",
           "1"
          ],
          [
           "#Israeli soldiers filmed slashing tires, throwing tear gas at #Palestinian home - Israel News -<br>https://t.co/APhaUjgEyF #THUGS #SCUM #IOF https://t.co/YLoh2bCz1O",
           "1"
          ],
          [
           "Our data on COVID-19 vaccinations is updated: https://t.co/03pQ8rRViP Daily doses administered per million ???? Israel<br>13,380 ???? United States 985 ???? Denmark 848 ???? Bahrain 717 ???? Russia 466 ????<br>Germany 432 ???? Poland 402 ???? Argentina 346 ???? Estonia 290 ???? Oman 270 All<br>countries ?? https://t.co/8av3NpmiR4",
           "1"
          ],
          [
           "41 Years Ago: Israel and Egypt signed a peace treaty. 🇪🇬🇮🇱\\n\\nIsrael is a country that<br>seeks peace with its neighbours. \\n\\nIt’s time for peace in the Middle East, wars belong<br>in the past. https://t.co/eNrSR64lKt",
           "1"
          ],
          [
           "\"We're Going to Take out 7 Countries in 5 Years Iraq_Syria_Lebanon_Libya_Somalia_Sudan &amp; Iran\" ZioNazism� https://t.co/bFinUv0J2u",
           "1"
          ],
          [
           "The cover-up has to stop &amp; with it, the huge sums in aid given to<br>israel despite its oppressive policies towards Palestinians | Desmond Tutu https://t.co/MgrVU65SKh",
           "1"
          ],
          [
           "In 1941 Jews in the occupied Netherlands were still allowed to use sport facilities. A<br>year later, in July 1942, deportations to extermination camps began. https://t.co/Ebl8LkpUUa",
           "1"
          ],
          [
           "‘Believe us’: Black Jews respond to the George Floyd protests, in their own words -<br>Jewish Telegraphic Agency https://t.co/EjxjjuR7on a través de @jtanews",
           "1"
          ],
          [
           "Israel and UAE normalizing relations. \\n\\nUnderstatement to call this a big deal. \\n\\nA new geopolitics<br>of the region. Palestine issue no longer a priority for Gulf States. And very bad<br>news for Iran. https://t.co/yJcOVV2dNA",
           "1"
          ],
          [
           "1 February 1942 | A Dutch Jewish girl, Betje van Delft, was born in Sappemeer.<br>\\n\\nShe arrived in #Auschwitz on 10 December 1942 in a transport of 927 Jews deported<br>from occupied Netherlands. She was murdered in the a gas chamber after selection. https://t.co/GNly4P0nVl",
           "1"
          ],
          [
           "ZioNazi Youth Jared Kushner is allegedly to blame for absurd illegal Apartheid Israeli squatter plan<br>in State of Palestine's al-Khalil https://t.co/HTYAU0e6Mi",
           "1"
          ],
          [
           "#Breaking: Avigdor Lieberman's Israel Beyteinu will support a law limiting a prime minister to 2<br>terms and also support a law forbiding an indicted Knesset from being tasked with forming<br>a government. https://t.co/HrI2EQHH8e",
           "1"
          ],
          [
           "A scuba diver has found a 900-year-old Crusader sword with a three-foot blade off the<br>coast of Israel. https://t.co/6n6A3qKU12",
           "1"
          ],
          [
           "RT @IntelTweet: Reuters: \"Iran's foreign minister urges Trump to avoid Israel 'trap' to provoke war<br>- Reuters UK\" https://t.co/giHRTcAOmm",
           "1"
          ],
          [
           "RT @IngrahamAngle: Democrats have abandoned Israel, Jews should abandon Democratic Party https://t.co/3a3kdFDFtc",
           "1"
          ],
          [
           "17 January 1933 | French Jewish girl Rosa Lisoprawski was born in Paris. \\n\\nShe arrived<br>at #Auschwitz on 22 January 1944 in a transport of 1,115 Jews deported from Drancy.<br>She was murdered after selection in the gas chamber. https://t.co/XESIk2QRsR",
           "1"
          ],
          [
           "FIFA president has proposed that Israel jointly bids to host the World Cup in 2030<br>with the UAE https://t.co/oHNysMfPm9",
           "1"
          ],
          [
           "Trump Has a ‘Peace Plan,’ but His Mideast Policies May Be Bad News for Israel<br>https://t.co/EHLd3POdac via @thedailybeast",
           "1"
          ],
          [
           "Zionist extremist fascist racist apartheid Israel settlers &amp; state sponsored terrorism organization, IDF Israel occupied<br>force are committing all evil things to destroy humanity in Middle East regions Syria Iraq<br>Libya Yemen Somalia Sudan Palestine Jordan https://t.co/rFzMIaD7EI",
           "1"
          ],
          [
           "US Gov Gives 1M Masks To Israel During Shortage, Coronavirus Censorship &amp; Trump ‘Holds’ WHO<br>Funding https://t.co/fj35kitT5C https://t.co/42FY9a2QjG",
           "1"
          ],
          [
           "Far Left Lawyer who Torched NYPD Vehicle During Riots Was Intern for Soros-funded anti-Israel Group<br>https://t.co/5SS03ET0eA via @gatewaypundit",
           "1"
          ],
          [
           "THOSED INDEPENDENT ON ISRAEL WORLD WAR 11 .PALESTIAN WRONG ON WORLD . https://t.co/B7LALdKzvR",
           "1"
          ],
          [
           "#DisclosureOnTargeting In US, UK, worldwide. NSA/CentralBanker/ZioNazi/Satanist-run. Every single human is under Re� https://t.co/0vdZNos40V",
           "1"
          ],
          [
           "Israel leads the world in Covid-19 vaccinations per capita | In Hindi. https://t.co/29HUWcdOHt",
           "1"
          ],
          [
           "‘Rashida is a bigot and a liar. Period.’ Rashida Tlaib gets fact-DROPPED over and over<br>and over again for insisting Israel is an apartheid state (period) https://t.co/mIUVmJVpmg",
           "1"
          ],
          [
           "Coronavirus updates:\\n- Germany: 12 new cases, 50 so far today, 129 total\\n- Israel: 3 new<br>cases today, 10 total\\n- Iceland: 1 new case, 2 new cases so far today, 3<br>total https://t.co/eUoE2b20hL",
           "1"
          ],
          [
           "Israel has bombed Gaza almost daily since August 6, in response to the airborne incendiary<br>devices. Read more: https://t.co/cgI0gdFiHW #Israel #Gaza #BalloonAttack #Opoyi",
           "1"
          ],
          [
           "Ever since Trump took office in 2016, Israel has built more illegal settlements on Palestinian<br>land and displaced more families than in previous years. Now, Israel plans to begin annexing<br>entire swathes of land in the West Bank. https://t.co/1m1wdGxFLU https://t.co/xtI6vS6F3F",
           "1"
          ],
          [
           "Tonight hundreds of British Jews rallied across the country to demand Freedom from Occupation and<br>Freedom from Violence for all in Israel-Palestine.\\n\\nThis is unprecedented. Change is coming. #EndTheOccupation\\n\\nCheck out our<br>nationwide protests ⬇️ https://t.co/uyDcZ7iGrc",
           "1"
          ],
          [
           "US, Brazil, Sri Lanka, Israel thanks our honourable PM @narendramodi ji for providing medical aid<br>amid covid-19 crisis. India has emerged as a ray of hope at the global stage.<br>Proud moment for every Indian ?????? ?????????? ?????? #WorldLovesModi https://t.co/EOOe1xpbDT",
           "1"
          ],
          [
           "300 Igbo Jews abducted from #Obigbo &amp; 58 others in military custody face execution in<br>few days. \"At least six (6) synagogues were razed by government forces who also arrested<br>hundreds of people in the raid that began last month October 2020\". @KnessetIL\\n\\nhttps://t.co/nv27GLDKXv",
           "1"
          ],
          [
           "Tlaib Draws Bipartisan Fire After Calling Israel ‘Apartheid’ State; House Votes to Fund Iron Dome<br>https://t.co/ZXLwvrHDV2",
           "1"
          ],
          [
           "#Gaza is being bombed by Israel for 10th consecutive days! And the world is sleeping,<br>no one is talking about Israeli crimes. Where is Israel's new friend UAE? #GazaUnderAttack #FreePalestine<br>???? #PalestinianLivesMatter https://t.co/tU9RFXMjrx",
           "1"
          ],
          [
           "#Apartheid zionazist... Ethnic cleansing, land seizure, home demolition, military occupation, bombing of Gaza.. Israel is<br>copying South Africa very well #SobatPalestinaINA #IsraeliCrimes https://t.co/vYnnnQIG8U",
           "1"
          ],
          [
           "#Apartheid zionazist... Ethnic cleansing, land seizure, home demolition, military occupation, bombing of Gaza.. Israel is<br>copying South Africa very well #SobatPalestinaINA #IsraeliCrimes https://t.co/vYnnnQIG8U",
           "1"
          ],
          [
           "The ZioNazi Mafia regime of #Trump trashes yet another international agreement..(Trump announces US withdrawing from<br>UN Arms Trade Treaty) https://t.co/Bq55rYlpZq #CapeTown #SouthAfrica",
           "1"
          ],
          [
           "This Palestinian old man is older than \"Israel\". His smile is a 100 years-old https://t.co/ReYPQv1d5d",
           "1"
          ],
          [
           "In 2020 - \\n\\n4,333 (95.6%) of Ontario’s 4,530 deaths have been amongst Ontarians 60 years<br>and better.\\n\\nIn 8 days, Israel vaccinated &gt;40% of its 60+ population.\\n\\nSurely @ONGov/@GeneralHillier can AIM to<br>vaccinate 1,909,360 60+ Ontarians in say 3 months? \\n\\nhttps://t.co/ZKGqQlp1T0",
           "1"
          ],
          [
           "The UAE-Israel deal has brought with it daily air strikes on Gaza\\nhttps://t.co/dOY9ZSbNd0",
           "1"
          ],
          [
           "#OTD 9 June 1944, paratrooper Hannah Szenes attempted to cross into Hungary after parachuting into<br>Yugoslavia. \\n\\nReuven Dafni was in the same unit as Szenes tasked with infiltrating enemy lines<br>to rescue Jews. Watch him recall their joint mission: https://t.co/dECN3rfgdU",
           "1"
          ],
          [
           "Looming 'Confrontation': What Lies Ahead for Israel and Middle East in 2020?\\n\\nhttps://t.co/spyqnpghNZ",
           "1"
          ],
          [
           "💯 Broadcast links ↓↓↓\\n\\nbig game\\n\\n.. without ads\\n\\n🇳🇬 Israel Adesanya ❌ 🇨🇺 Yoel Romero\\n\\n1- https://t.co/eDJPPp84M2\\n\\n2- https://t.co/eDJPPp84M2\\n\\nUFC<br>248 Live Stream\\n\\n3- https://t.co/eDJPPp84M2\\n\\n4- https://t.co/eDJPPp84M2\\n\\n#UFC248 #UFC\\n\\nRet Retweet + Like https://t.co/gQ7ET5Hqq7",
           "1"
          ],
          [
           "RT @SweeneySteve: This is what solidarity looks like - Italian Dockers Stop Arms Shipment to<br>Israel in Solidarity with Palestine #FreePalestine https://t.co/zRb1MndfbP",
           "1"
          ],
          [
           "Israel launches violent break-ins on Palestinian homes, kidnaps a 20 year-old youngster with special needs<br>from his bed, among others https://t.co/IkWkhjd5O4",
           "1"
          ],
          [
           "World Israel News: Jexodus to Exodus: Movement to wean Jews from Democratic party expanding https://t.co/sAZAfNKIN6",
           "1"
          ],
          [
           "Tonight in Lod, central Israel, demonstrators chanting: \"Settler, Out! Out! Lod - Arab and free!\"<br>(Lod has a 61.4% Jewish population) https://t.co/B6Aksnz7WT",
           "1"
          ],
          [
           "Kushner, Berkowitz, O'Brien and Hook to visit Israel on trip to ME https://t.co/65wO3lJq5o",
           "1"
          ],
          [
           "For thousands of years, Ethiopian Jews dreamed about celebrating Sigd in Jerusalem. \\n\\nFinally their dreams<br>have come true. https://t.co/CVs73gZk0K",
           "1"
          ],
          [
           "TODAY'S RADAR, 9/15/20:\\n• US tops 195K COVID deaths\\n• Wildfires still burning in West, &gt;36 dead\\n•<br>WH hosts Israel-UAE signing ceremony\\n• Woodward’s Rage hits shelves\\n• Biden in FL for 2 events<br>(Hisp. Heritage/Veterans)\\n• Jon Stewart returns to Cap Hill (9/11 presser)\\n• AND https://t.co/PcjS7xFbC9",
           "1"
          ],
          [
           "Indonesia Devastating Floods: 66 People Have Died. More Than 36,000 Displaced.\\n\\nIn the past, Israel offered<br>humanitarian aid to Indonesia - but it was rejected due to anti-Israel hate. \\n\\nI pray<br>for #Indonesia from Israel. 🇮🇩🇮🇱 https://t.co/iu6141WXUP",
           "1"
          ],
          [
           "1988: Israeli mastermind behind Iran-Contra dies in plane crash - This Day in Jewish History<br>- Haaretz - Israel News | https://t.co/VMsl74ny2q\\nhttps://t.co/ovHMWcUqOT https://t.co/Bm3uv42ZG9 https://t.co/ZNY0d6zv7R",
           "1"
          ],
          [
           "?????? Israel is a global leader in science - if they say it�s bad I�d<br>believe em #CoronaVirusUpdates https://t.co/9yhEuDKZ6X",
           "1"
          ],
          [
           "Breaking: German Jews demand Merkel's gov't @BMI_Bund outlaw all of terrorist entity Hezbollah after kippah<br>warning� https://t.co/w4aPTE9160",
           "1"
          ],
          [
           "Rashida Tlaib pushing Linda Sarsour's anti-American jihadi filth while sporting a T-shirt showing a total<br>takeover of Israel by Palestinians. No, it's not anti-semitic, just art from her grandmother in<br>Palestine https://t.co/WuUeaPtmkJ",
           "1"
          ],
          [
           "“She (Congresswoman Omar) keeps on assaulting Jews...” \\nJeff Ballabon, B2 Strategic, CEO https://t.co/WMKN9RQm2n",
           "1"
          ],
          [
           "For second year running, 80% of all sex-offense cases in Israel end without indictment: Figures<br>from the Association of Rape Crisis Centers in Israel show the number of requests for<br>help has doubled in five years https://t.co/YIY4jsDPkx Haaretz https://t.co/ZprnmqJ9X7",
           "1"
          ],
          [
           "Israel moves in to maliciously demolish two community halls in the Palestinian hamlet of Hammamat<br>al-Maleh in the Jordan Valley #BDS https://t.co/QMGkllvfSn",
           "1"
          ],
          [
           "my great aunt! dressed in drag! in romania! i'm overwhelmed thinking about it. queer ancestors,<br>the old country, jews. https://t.co/0ODryESRaO",
           "1"
          ],
          [
           "Israel bars 1000s of Palestinians from prayers at Al-Aqsa Mosque under the pretext of Covid,<br>despite masks &amp; social distancing in place https://t.co/eu8VvxkOmE",
           "1"
          ],
          [
           "ACT NOW! Stop California Imam from Teaching Students to Murder Jews! https://t.co/YpSPd6328J",
           "1"
          ],
          [
           "ABC, CBS ignore comments by Ilhan Omar comparing US, Israel to terrorist groups https://t.co/UKY3AnZWpY",
           "1"
          ],
          [
           "Mao Zedong (100 mil + deaths), was a chosen stooge who went to Yale (in<br>China). His inner circle were Jews like Jak� https://t.co/dap9sUihGq",
           "1"
          ],
          [
           "Rising middleweight contender Kevin Holland says Israel Adesanya has his eye on him https://t.co/zfJRLIToz6 #ufc256",
           "1"
          ],
          [
           ".@Apple sues Israel-sponsored @NSOgroup for state-sponsored surveillance &amp; targeting of its users. #Pegasus &amp; other<br>spyware technologies are field-tested on Palestinians. Join us in demanding an end to NSO's cyber-surveillance.<br>#MilitaryEmbargo now! https://t.co/9LJj4eZs6o",
           "1"
          ],
          [
           "President @realDonaldTrump: Our two great friends, Israel and the Kingdom of Morocco, have agreed to<br>full diplomatic relations – a massive breakthrough for peace in the Middle East! https://t.co/75lrBX3SIv https://t.co/0OfOaCARXg",
           "1"
          ],
          [
           "Now playing at Radio inna Babylon : Friday Evening, From the Artist :\\nIsrael Vibration\\nListen live<br>:\\nhttps://t.co/972YQIypA8",
           "1"
          ],
          [
           "18 February 1943 | A transport of 1,108 Jews deported from #Westerbork in the German-occupied<br>Netherlands arrived at #Auschwitz. SS doctors sent 200 men &amp; 61 women to the camp.<br>The remaining 847 people were murdered in gas chambers.\\n\\nAmong them was Philip Cohen. He was<br>almost 3. https://t.co/KrIyIkVskx",
           "1"
          ],
          [
           "Ehud Barak, former Israel Prime Minister &amp; business partner of Mossad agent Jeffrey Epstein, visiting<br>Epstein’s compound. Any questions? https://t.co/7UZgShaUP7",
           "1"
          ],
          [
           "Israel carried out 300 missile attacks on Gaza in 2020, while its military aircraft made<br>1,400 hostile flights over the territory's airspace #BDS https://t.co/bqqhkQJoRx",
           "1"
          ],
          [
           "RT @yessirtns: ROBOT FROM ISRAEL Worth WATCHING Its just amazing ... ?? #Israel https://t.co/nzN1C2Imqh",
           "1"
          ],
          [
           "Saudi FM says no ties with Israel until peace with Palestinians https://t.co/YmNA20Uuzb",
           "1"
          ],
          [
           "the newly-created Palestine Freedom Fund, “as a first initiative” has raised nearly $20,000 to fund<br>legal expenses for Palestinian protesters who participated in antisemitic demonstrations that descended into violence against<br>Jews in Midtown Manhattan last week. https://t.co/x9sHHB3epW",
           "1"
          ],
          [
           "Yemen:\\nEvery indication from incoming Pres.Biden-Secy.Blinken's perception of US policy tbat new initiatives2end this senseless war<br>of Saudi Arabia with Britain,the European Union&amp;Israel as participants.\\nIran will(likely)need to show diplomacy theTaliban lacked<br>in Afghanistan. PE https://t.co/49yCQi2pKg",
           "1"
          ],
          [
           "Premier says violent targeting of Muslims is akin to what Nazis did with Jews in<br>Germany https://t.co/MUmtiAEXPn https://t.co/gPlfXCfCgd",
           "1"
          ],
          [
           "Inter-society petitions UN, Commonwealth, ICC, EU, US, UK, Canada, Vatican, Australia, Brazil, Israel, others over<br>hanged of 1,421 Nigerian Christians to death by Fulani Jihadist\\nhttps://t.co/fAtY3dQo0G",
           "1"
          ],
          [
           "How fast are different countries vaccinating their population against COVID?\\n\\nIsrael: 11.6%\\nUK: 1.5%\\nUS: 0.9%\\nGermany: 0.2%\\nWorld: 0.13%\\n\\n→<br>Data for more countries you find in our COVID vaccine dataset here:\\nhttps://t.co/3imP7PqURn https://t.co/Lc3KEGHh4q",
           "1"
          ],
          [
           "16 February 1936 | A French Jew, Adolphe Furmanski, was born in Paris. \\n\\nHe arrived<br>at #Auschwitz on 23 September 1942 in a transport of 1000 Jews deported from Pithiviers.<br>He was among 641 people selected by SS doctors to be killed in a gas<br>chamber. https://t.co/l5R7CZZm38",
           "1"
          ],
          [
           "@thehill Nixon Heir Rev Kasey Carroll releases a new web series from Washington D.C. after<br>filming in Israel &amp; Europe.\\nhttps://t.co/jS3xje7QbI https://t.co/fz4TOmZeQJ",
           "1"
          ],
          [
           "�I would probably get a body count of like 30 kikes and then like five<br>police officers because I would also decide� https://t.co/MFUb4xj2ie",
           "1"
          ],
          [
           "U.N. Secretary-General Calls on Israel to Abandon Plans to Annex Palestinian Land https://t.co/t0EZK4zT4s",
           "1"
          ],
          [
           "“I was born here in NYC, but I made it my home when I was<br>19. I began working with Jews for Jesus a year after I graduated from Hunter<br>College.” Liz\\n\\nCheck out more of Liz’s story on our Instagram and Facebook pages. https://t.co/FqPXd84vt5",
           "1"
          ],
          [
           "The 4 year-old Palestinian girl who israel shot in the head with a live bullet<br>several days ago in Issawiya has today died of her wounds #RIP https://t.co/IVKrDEEMk2",
           "1"
          ],
          [
           "US alerted Israel, NATO to disease outbreak in China in November — TV report https://t.co/D6FPBqjIHz<br>来自 @timesofisrael",
           "1"
          ],
          [
           "Rockets Fall, Tensions Rise as Russia Taking Over Syrian Golan - Breaking Israel News |<br>Latest News. Biblical Perspective. https://t.co/HnSCx88FzK",
           "1"
          ],
          [
           "French Holocaust survivor speaks up after 40 years, recalls how Nazis walked Jews into gas<br>chamber\\n\\nhttps://t.co/VRtEv30DdX https://t.co/ya1U7z8a7i",
           "1"
          ],
          [
           "Email your MP to stop israel evicting a Palestinian family of 18 from their own<br>home of 50 years #EndEthnicCleansing #SumarinsMustStay https://t.co/07AqJG59jR",
           "1"
          ],
          [
           "https://t.co/9rLpqZQYkq...ISRAEL UPDATE Jews and Morocco: 10 Fascinating Historical Facts Fascinating Historical Facts As Israel and<br>Morocco establish full diplomatic ties, take a look at some of Morocco’s epic Jewish history.<br>by Adam Ross https://t.co/h8lYC5AXoQ",
           "1"
          ],
          [
           "Turning Israel into an Arab state where Jews live as a �protected minority� is not<br>a new idea, it was tried before, in eleven countries. It failed and in less<br>than 30 years our communities throughout the Middle East were completely erased. History matters https://t.co/AVfpsULDEX",
           "1"
          ],
          [
           "Top 5 Ways Netanyahu's Annexation of 30% of Palestinian West Bank will Devastate Israel https://t.co/sZbk8mg0ex<br>via @jricole",
           "1"
          ],
          [
           "Being Honest About Jews, Jewish Identity and Zionism in an Age of Identity Politics https://t.co/4NO3y0MRxb",
           "1"
          ],
          [
           "RT @Biz_Ukraine_Mag: Impressive: Ukraine took first place (12 points) in five Eurovision national audience votes<br>this year (France, Poland, Italy, Israel, and Lithuania) https://t.co/Ko1W29YD2f",
           "1"
          ],
          [
           "Army chief General MM Naravane is in Israel on a five-day visit Recently, India &amp;<br>Israel decided to form a task force that will build a 10-year defence cooperation plan<br>between the two nations Israel's Heron drones deployed by Indian Army at LAC as tensions<br>with China escalate https://t.co/DctG2Kf3gn",
           "1"
          ],
          [
           "RT @dbongino: Most Voters Approve of Trump�s Historic Israel-UAE Peace Deal https://t.co/yfPQ0QQYL1",
           "1"
          ],
          [
           "25 June 1943 | A transport of 1,018 Jews deported from Drancy in occupied France<br>arrived at #Auschwitz. After the selection 383 men &amp; 217 women were registered in the<br>camp. 418 people were murdered in a gas chamber.\\n\\nOne of them was a 3-year old<br>Jacqueline Benguigui. https://t.co/8xD1LQdhxe",
           "1"
          ],
          [
           "Winners in the Israel-UAE peace deal:\\n🇮🇱🕎 Israelis, Jews\\n🇦🇪☪️ Arabs, Muslims\\n🌍☮️ Entire peace-loving world\\n\\nLosers:\\n🇮🇷☢️ Islamic Republic<br>of Iran\\n🏴‍☠️💣 Hamas, Hezbollah, Islamic Jihad, PLO, ISIS\\n🇺🇳🗣️ U.N. Human Rights Council which fuels conflict<br>https://t.co/P7QJg7rDcO",
           "1"
          ],
          [
           "Israel killed Iran's top nuclear scientist from 1,000 miles away using a remote-controlled sniper machine<br>gun https://t.co/dLKZrRu7n8",
           "1"
          ],
          [
           "Israel #stocks higher at close of trade; TA 35 up 0.53% - https://t.co/PDOBYOR4tJ",
           "1"
          ],
          [
           "'Haaretz' publisher says Israel is 'an apartheid state' -- as his paper continues to warn<br>against an Israel-Iran war https://t.co/iLrcH2FP23 https://t.co/x4uwMTtrc0",
           "1"
          ],
          [
           "Is There a Crackdown Against China’s Kaifeng Jews? | Al Bawaba https://t.co/uGJ0LoLQlp",
           "1"
          ],
          [
           "Fresh Gaza projectile at Israel as exchanges of fire continue\\nhttps://t.co/9cl3XzBbLY \\n📸 Said Khatib #AFP https://t.co/jBlVFEaBAW",
           "1"
          ],
          [
           "I follow back all MAGA Although, I don�t agree w/Meghan in many things, I do<br>applaud her standing up for Jews &amp; ta� https://t.co/0o4jc5gMxe",
           "1"
          ],
          [
           "20 March 1943 | A Dutch Jewish boy, Bernhard Sanders, was born in Schalkwijk. \\n\\nHe<br>arrived at #Auschwitz on 27 January 1944 in a transport of 948 Jews deported from<br>Westerbork with his mother Johanna and father Willem. All three were probably murdered in a<br>gas chamber. https://t.co/XhBhV4JA1h",
           "1"
          ],
          [
           "Yet another tool israel harnesses to fulfil its devouring of all Palestine with as few<br>Palestinians in it as possible.\\n#Dismantle_israel\\nhttps://t.co/KcSZSXSmem",
           "1"
          ],
          [
           "24 January 1901 | A Dutch Jewish woman, Judith van Dam-Blok, was born in Amsterdam.<br>\\n\\nShe arrived in #Auschwitz on 11 October 1942 in a transport of 1703 Jews deported<br>from Westerbork. She did not survive. https://t.co/EpHIKfbSzq",
           "1"
          ],
          [
           "Jewish Voice for Peace @jvplive Health Advisory Council - timeline on the spread of #covid19<br>in Israel, West Bank, and Gaza:\\n\\nPlease read and share widely: a resurgence of cases in<br>Israel, a slow creep in Gaza and the West Bank:\\nhttps://t.co/Ckv7AuWAsf",
           "1"
          ],
          [
           "Israel: Vaccinate medical workers and ppl aged 60+ first, but don’t waste leftover vaccines\\n\\nCuomo: Throw<br>those leftover vaccines away or pay a million dollar fine https://t.co/dYXxJFlYsY",
           "1"
          ],
          [
           "Here is a prime example from today to Israel \"organized chaos\". End of the day<br>in a vaccine center. A few doses left and will expire. Nurses go out, spot<br>a pizza delivery guy, call him \"pizza guy wanna vaccine?\", jab, and another person has<br>spike mRNA!\\n\\nhttps://t.co/cBkPqPz46W",
           "1"
          ],
          [
           "BREAKING: Antifa militants attack 'Jews for Trump' parade in Times Square\\nhttps://t.co/AvDZeQKoui",
           "1"
          ],
          [
           "RT @rebuild_kerala: Jews in 1938 in Germany Muslims in 2020 in India https://t.co/eIuupSUZMz",
           "1"
          ],
          [
           "Uh oh! Big story on pro-Israel money in politics. I guess everyone who talks about<br>it is now anti-semitic like @IlhanMN. https://t.co/9ZJcU21MKg",
           "1"
          ],
          [
           "Gavin Nuisance has once again proved no be a total and complete prick.\\n\\nCalifornia governor signs<br>anti-Israel 'ethnic studies' bill into law https://t.co/IdfumPQFdI",
           "1"
          ],
          [
           "Four progressive congresswomen circulate letter threatening to condition aid to Israel over annexation https://t.co/3ucWPG7XPL",
           "1"
          ],
          [
           "WARNING from Britain! American Jews must learn from Britain's Mistakes... Progressive wolves in sheeps clothing�<br>https://t.co/sbCspaF2mJ",
           "1"
          ],
          [
           "Put Palestine back on the map... \\nAnd forever there is no Zionist state of Israel..<br>\\n#Group4Palestine\\n#SobatPalestinaINA https://t.co/SMRjClw9bg",
           "1"
          ],
          [
           "9-10 November 1938 | November Pogrom (known also as Kristallnacht), a pogrom against the Jews<br>throughout Nazi Germany. Hundreds killed &amp; died by suicide, 30,000 men arrested, over 1,000 synagogues<br>burnt, over 7,000 Jewish businesses destroyed or damaged: https://t.co/hrrnJUqR3e https://t.co/XT40DDV8RH",
           "1"
          ],
          [
           "The headline says it all.\\n\\nIran, Turkey, Ben Rhodes, Tlaib united in criticism of UAE-Israel deal<br>- The Jerusalem Post https://t.co/rUf4hhKNAN",
           "1"
          ],
          [
           "Yossi Cohen was born in Israel. In fact his family trace back roots in Israel<br>at least nine generations. He is the current Director of Mossad. As Jews have ALWAYS<br>been present in the region, many Israelis families can count them as their descendants. https://t.co/J3WKOsDKMA",
           "1"
          ],
          [
           "28 August 1936 | A French Jewish girl, Annette Korenblum, was born in Paris.\\n\\nShe arrived<br>at #Auschwitz on 23 August 1942 in a transport of 1,000 Jews deported from Drancy.<br>She was among 892 of them murdered in gas chamber after the selection. https://t.co/NCqWryxfM9",
           "1"
          ],
          [
           "92 Year Old Palestinian Woman Palestinians Should Massacre Jews Like We... https://t.co/jXKKd4Giha via @YouTube",
           "1"
          ],
          [
           "@webdevMason In Cuomo's America, this nurse in Israel that grabbed a pizza boy to vaccinate<br>when a vaccine was about to expire would be fined a million dollars.\\n\\nhttps://t.co/oNS7jgHxui",
           "1"
          ],
          [
           "Terrorists ambush bus in Syria, killing 9 - Middle East - Israel National News https://t.co/UpMd2lVEuW",
           "1"
          ],
          [
           "Reports that israel has executed 3 young Palestinian men from Gaza who were trying to<br>squeeze through the perimeter fence #StopIsrael https://t.co/9yCYj4Td0N",
           "1"
          ],
          [
           ".@UMassBoston professor John Hess wrote a blog post encouraging readers to consider a similarity between<br>Israel and Nazi Germany. #DangerousProfessors\\nhttps://t.co/jyMPosI0la https://t.co/u0vid1HcZL",
           "1"
          ],
          [
           "#BiggestRevelationOf2021 \\nDivine great man of India\\nProphecy of professor Harare of Israel about Saint Rampal Ji<br>Maharaj \"after 1998,a powerful religious organization would come to light in india\" https://t.co/ZZzt97obKQ",
           "1"
          ],
          [
           "Two Palestinian children killed in home fire after Israel blocks fire trucks https://t.co/0Kp8oNrM7p",
           "1"
          ],
          [
           "Kuwaiti TV Host Fajer Alsaeed: Palestinian Rejection of UAE Peace Agreement with Israel is a<br>Historic Mistake https://t.co/zBbzZcEPxU",
           "1"
          ],
          [
           "18 February 1932 | A French Jewish girl, Ginette Luftman, was born in Paris. \\n\\nShe<br>arrived at Auschwitz on 21 August 1942 in a transport of 1,000 Jews deported from<br>Drancy. She was murdered in a gas chamber after the selection. https://t.co/AJMVMP8ZVM",
           "1"
          ],
          [
           "Saudi Arabia’s former ambassador to the US Prince Turki al-Faisal Al Saud criticizes Israel at<br>the International Institute for Strategic Studies (IISS) Manama Dialogue in Bahrain, where Israel’s foreign minister<br>opposed his remarks.\\n\\n#IISSMD20\\n\\nhttps://t.co/uJORsD3m0V",
           "1"
          ],
          [
           "RT @haaretzcom: The amazing Polish woman who hid and saved 16 Jews � and one<br>German � in her house https://t.co/fcjQXvITKE",
           "1"
          ],
          [
           "Border Police officer seriously hurt in suspected ramming at West Bank crossing - The Times<br>of Israel https://t.co/jw3lV8PG7F https://t.co/9XjIaXUYBS",
           "1"
          ],
          [
           "Israel and UAE set for historic direct flight following peace deal https://t.co/TtZXQ8NoKE",
           "1"
          ],
          [
           "�When Trump took office, just two Arab nations, Egypt and Jordan, had treaties with Israel,<br>a situation that had existed without change since 1994. There are now six regional nations<br>with diplomatic relations with the Jewish state.� https://t.co/VXCPqKqkD5",
           "1"
          ],
          [
           "Israel set to be investigated for war crimes in Palestinian Territories, ICC announces https://t.co/M2BZtcUH74",
           "1"
          ],
          [
           "RT @democracynow: Israel Is Trying to Destroy Us: Gaza Father &amp; Writer Speaks Out as<br>Palestinian Death Toll Nears 200 https://t.co/dTgOLdFl2b",
           "1"
          ],
          [
           "Israel reports 3 new cases bringing total confirmed cases there to 10. #CoronaVirus #Covid19 #CoronaVirusOutbreak<br>https://t.co/LZ9Ezxj342",
           "1"
          ],
          [
           "The main phase of deportation of Hungarian Jews lasted between 14 May &amp; 9 July<br>1944. In 142 trains ca. 420,000 people were deported to #Auschwitz. Around 330,000 were murdered<br>immediately in gas chambers. See our online lesson: https://t.co/Path2EJd7w | #Hungary #Holocaust 2/2 https://t.co/Kc8KUvEdab",
           "1"
          ],
          [
           "Israel 'whitewashed' probe into army killings during Gaza march of return https://t.co/M10nSoLfyz",
           "1"
          ],
          [
           "Israel health minister, who claims coronavirus is �divine punishment� for homosexuality, tests positive for COVID-19<br>https://t.co/QOBZBUc5CK",
           "1"
          ],
          [
           "‘Chilling Echoes’: British Jews join the fight for Uighur human rights in China https://t.co/TfOa2p0Xbi",
           "1"
          ],
          [
           "Anti-Semitic Mobs Harassed Orthodox Jews in Brooklyn on Shabbat - https://t.co/C21OpCWJ1v @JewishPress\\nhttps://t.co/42ATkRaSU8 https://t.co/uxgCcNp68w",
           "1"
          ],
          [
           "People sentenced to death for helping Jews:\\nFrance - 0\\nItaly - 0\\nNetherlands - 0\\nBelgium - 0\\nNorway<br>- 0\\nDenmark - 1\\nPoland - 30.000-50.000\\n\\nMembers &amp; volunteers in Waffen SS:\\nNetherlands - 50000\\nBelgium - 40000\\nFrance<br>- 20000\\nItaly - 15000\\nDenmark - 6000\\nNorway - 6000\\nPoland - 0 https://t.co/oDyAJeutgL",
           "1"
          ],
          [
           "RT @AJEnglish: UN accused Israel of flagrantly violating international law by expanding settlements in the<br>occupied West Bank &amp; East Jerusalem, urging the countryâ€™s new gov' to halt their enlargement<br>immediately. âž¡ https://t.co/viWn0rkJqP https://t.co/hnGYsBmwT3",
           "1"
          ],
          [
           "Dr. Eugeniusz Lazowski who saved 8000 Jews by faking a typhus epidemic in Stalowa Wola<br>(Nazi occupied Poland, 1943) https://t.co/foWMcDch3v",
           "1"
          ],
          [
           "Yes jews were massacred.Eyewitnes R unreliable&amp;caught lying quite some times.Why march them away from russian<br>advan� https://t.co/8MFZJ3fjP5",
           "1"
          ],
          [
           "#BREAKING: The health ministry announced the 29th confirmed case of #coronavirus in Israel on Sunday<br>evening.\\nA 40-year-old man from central #Israel was diagnosed and is currently in quarantine.\\nhttps://t.co/IiWXtnzGbl",
           "1"
          ],
          [
           "#Nomore Movement is on a roll with high momentum &amp; pace. Demonstrations in London, Oslo,<br>Milan, Geneva, Israel, US cities &amp; more. But more than geographical outreach, vision articulated is<br>inspiring: #Nomore to external interventions/Unilateral Coercive Measures! Kudos to all! https://t.co/SzOEc1zGIy",
           "1"
          ],
          [
           "Genocide - Free Palestine https://t.co/1noNGn0srJ Zionazis in the holy land need to get out. Ppl<br>want peace &amp; Pale� https://t.co/92S9jkMUIF",
           "1"
          ],
          [
           "ZioNazi Israeli squatters spray machine gun fire on crowds of State of Palestine protesters carrying<br>Protest Signs, 98 Gazan protesters injured, 50+ hit by multiple bullets. https://t.co/2DaxGNDBZG #BDS #Boycott All<br>Zionist Culture, Funding, Businesses",
           "1"
          ],
          [
           "Iran state media promotes video of Kamala Harris not pushing back on Israel 'ethnic genocide'<br>claim https://t.co/Vo2fmojlHN #FoxNews",
           "1"
          ],
          [
           "De Blasio Sends in Police to Break Up Religious Jews Celebrating in New York City<br>(VIDEO) https://t.co/xX1RCkxUtt",
           "1"
          ],
          [
           "RT @JordanSekulow: Radio: Israel Makes Potential Breakthrough in Race for Coronavirus Vaccine https://t.co/eWD7lpha5c",
           "1"
          ],
          [
           "Israel plans to plant trees over the Negev, ethnically-cleansing the area by denying Palestinian Bedouins<br>from accessing their own lands #BDS https://t.co/qDmn8wrbNa",
           "1"
          ],
          [
           "BREAKING: Trump announces 'historic peace agreement' between Israel, UAE. More soon on https://t.co/9o3ihGGVjD https://t.co/PM0k3lOX4x",
           "1"
          ],
          [
           "RT @billstill: 2989, Israel Pharma Donates 10 M Doses of HCQ to US, 2989 March<br>21, 2020 By Bill Still https://t.co/dwFbMU0NkC",
           "1"
          ],
          [
           "NYC-DSA Statement on NYC Council Members participating in state-sponsored trips to Israel: https://t.co/0RQ9gAtrgI",
           "1"
          ],
          [
           "In print today: UAE firms can now do business with Israel #UAEIsrael ; #UAE scools<br>reopen today: We've done all we could; Worldwide #coronavirus cases top 25 million; #ChadwickBoseman forever;<br>Why did #SureshRaina suddenly leave the #IPLinUAE \\nhttps://t.co/LbXKHkXdgH https://t.co/uA2kp48ZA8",
           "1"
          ],
          [
           "RT @TheIslandInn: Here's the source on Israel: https://t.co/osyX8FgMbH Virginia data are compiled from various sources.<br>Mainly VDH.",
           "1"
          ],
          [
           "Israel arrests imam of #AlAqsa Mosque as Palestinians run out of patience with coronavirus closure<br>- https://t.co/mxfey4ALfh on @The_newarab #Palestine https://t.co/BRsrybNQ41",
           "1"
          ],
          [
           "Israel tightens demands on Gazan breast cancer patients in need of urgent care https://t.co/PKTcbs6VLG",
           "1"
          ],
          [
           "Let’s zoom in on what’s happened in Israel in only 2 months since an article<br>in The Wall Street Journal quoted epidemiologists saying that widespread mask usage was the reason<br>the curve came down in Israel\\n\\nYup, looks right https://t.co/OvSeiuAwcb",
           "1"
          ],
          [
           "Israel is the only country in the world that tries children in military courts, often<br>denying them their basic rights. Currently, 200 Palestinian children remain in detention in Israeli prisons<br>⤵️ Read more: https://t.co/YXSNFRUWfl https://t.co/gOBsQIVkh4",
           "1"
          ],
          [
           "All hell is breaking loose in the Middle East and I’m sitting here in Israel<br>like https://t.co/zrT1CI2VGN",
           "1"
          ],
          [
           "Ethnic Cleansing Crybabies\\n-House Dems threaten to withhold aid to Israel if annexation plans advance; AIPAC<br>melts down \\nhttps://t.co/QZvvUGy4nM",
           "1"
          ],
          [
           "RT @AskAnshul: This is from Israel. Hundreds of Israelis gathered in an event &amp; sang<br>songs including 'Om Namah Shivay' chant to pray for India in its fight against COVID-19.<br>https://t.co/NTYp9uTeNn",
           "1"
          ],
          [
           "WATCH: Moments of terror caught on video as 20 rockets were fired from Gaza toward<br>southern Israel. Thousands of innocent families ran for shelter. At least 10 rockets were intercepted<br>by Iron Dome. #IsraelUnderAttack #IsraelUnderFire https://t.co/7piWJ6z5EB",
           "1"
          ],
          [
           "\"Any mistake by ‘Israel’ in dealing with Tehran will accelerate its destruction,\" said Hajizadeh. #Iran<br>https://t.co/ptmrr3KnQJ",
           "1"
          ],
          [
           "RT @morgfair: Israel imposes second nationwide COVID-19 lockdown as cases surge https://t.co/YvVorm3bkX",
           "1"
          ]
         ],
         "hovertemplate": "%{customdata[0]}<br><b>cluster:</b> %{customdata[1]}<extra></extra>",
         "legendgroup": "1",
         "marker": {
          "color": "#00cc96",
          "opacity": 0.85,
          "size": 7,
          "symbol": "circle"
         },
         "mode": "markers",
         "name": "1",
         "orientation": "v",
         "showlegend": true,
         "type": "scatter",
         "x": {
          "bdata": "NyYDwe7hUcA8IHy/BsQfQY2ZccBuI5vBx73ywGvQg0F4FplBZ10DwSG20cAqQcS/fc20wXW4dr/NZfK/JL9Uwcgnw8BYcULBq1i1wTM0u8BiEwBAKgeKPxx1nMBJYmc/AXfgvyfG0r/qi5nBLOksQIswhcE9syDB0egHwduRe78c8GJAjar6wMRR3L8mbojBNyYDwTcmA8E2UdS/eChewcR0AcGjg0HACILAv19lIcHxHaTA5FZ7wdd2VsFUtr3APmEVwXJE9r4EIRBBoAH6wGQTRcDrW4bArqZSwcl15b8wIozBz4IBwAKfRcEstSvBVvgTwR1/VsD6hkvADG7hwHaT1MAiBYDAc+2KP7blAsEK7pvAeNamwbaSVsCXyBfB3cVRwauBZsBXFSXB0VAtwPJsKsDBf+TASLWcwQmmr8FtsZrAroKjwLSN/MDFOVbAYRdSwQx47cAMdJrAu3h9v3VX+sDpJjxAwE8WwdePYT8/OPpA5dU+wZ3aWMDnh4TAnSmnwegudcAbA5TAIAKHwNQTGkCqml5A4jzBwFPfZz4O563BTCAQQXU1ssF7igTBeKrowLtED8EjtI9Ad7AZwQ8UjMHkjJo/yIPewAUTPMBBWZS+puyMwRJLN8BIQMrA9OO0wciwSsHgxRLBKJEYwQ1lJ8F9mlzA4vV1QBCiKMAwhI7AlwC3wbkxkMBOjjnBxyemwAw3fsBy8ILA+lriwOqMFMH7NYXB2xCVwfjnG8FPH29AzrqBQBUYjcEMaY7BL4a4wJjYKsHboIzAl3ZRwSMaSMHeJbY+k+SYv+r0LL7Mno7B/p9CwRgXB8G0wJjAmRP7wAJbVT6+pm7Bs4xdwTUaCUG2d1i+73wnwZ5DIcHEQx/BJIHpwMxRV0BmeJ/Anrfqv66PSME=",
          "dtype": "f4"
         },
         "xaxis": "x",
         "y": {
          "bdata": "4POjQXq6Y0D7dxlBnjcRwc4nKUH0w29AaTuewXfINUFZrzY/9RpEwIZNgkAux6XBi4VMQaHuKUF4DJxAs/5jQaNavUC0/0a/WNJHQdAlnsEvCJxAb6UrQXF7t0DbMJLA22NZQRB4j0GKK4FA0p5PQUzx30AeXOVAu/4pQY/hWkAj84dBuSgAwDSTOEHKkJe+4POjQeDzo0H5YJVBIcRvQTiS5z7876PBJLsQwY23nsH9GhxBNduvvrQcakGRqzNBsrw+QK36jD/89tDAbADwQKRpEMGWEDdBjdijQH17H0A5Lg/B2445Pp7hRkEP3iNBlZd6wDV//0C07U1A926YQAv4UcG0L2tBDhwhQS4YnMEfI0dAgJFBQTJNukA6OGRAhdsLvtKZgME7p6tAu2W9QHAEYcFe15pAR9tfQCCQQUGznmpASQ5RwXx7PEEWQsU+lZFeQQTj9UAlyyZBbUcUwX4AcUHPkNe/qC6HwYnFx0Dr5OLA6TysvlAj2UBLlrnBZzlCQSqnsMGlckpB+i79QAVWUkErsi5BgxDjPheSm0D73UtBmxKCQdVdUUGNrRJBgKzzP2an6z8WGDjB27LtvzVnAcFMWIDA+hNEQTKTM0DZYDRBkm44QRilpsGkAr6/CN5CQd0/c0FUd5I/pF6awYkKw0ASiazA3o0CQA4mOEGqx7bBfd1EQeTy3kBb1/6/UEb2QFzytcGGzIHBnS3RQJoOrEAHzN9A2ZY6QdWs5kBu/IxBkD9EQSpU98BQxDhBCvn2QFQ+MMC8Ufi+GzdQQdzeBUEw2/9AzE4hQWLzNEGGZa3AJkvMPVroa0GY0LjB3R2aQPfeJUEOpQRBksOgu9aWgEHH6g1ByNQXQWXUK0E0nZrBTHZEQZGJg0F/eyq/z338QPDamD8=",
          "dtype": "f4"
         },
         "yaxis": "y"
        }
       ],
       "layout": {
        "legend": {
         "title": {
          "text": "cluster_id"
         },
         "tracegroupgap": 0
        },
        "template": {
         "data": {
          "bar": [
           {
            "error_x": {
             "color": "#2a3f5f"
            },
            "error_y": {
             "color": "#2a3f5f"
            },
            "marker": {
             "line": {
              "color": "#E5ECF6",
              "width": 0.5
             },
             "pattern": {
              "fillmode": "overlay",
              "size": 10,
              "solidity": 0.2
             }
            },
            "type": "bar"
           }
          ],
          "barpolar": [
           {
            "marker": {
             "line": {
              "color": "#E5ECF6",
              "width": 0.5
             },
             "pattern": {
              "fillmode": "overlay",
              "size": 10,
              "solidity": 0.2
             }
            },
            "type": "barpolar"
           }
          ],
          "carpet": [
           {
            "aaxis": {
             "endlinecolor": "#2a3f5f",
             "gridcolor": "white",
             "linecolor": "white",
             "minorgridcolor": "white",
             "startlinecolor": "#2a3f5f"
            },
            "baxis": {
             "endlinecolor": "#2a3f5f",
             "gridcolor": "white",
             "linecolor": "white",
             "minorgridcolor": "white",
             "startlinecolor": "#2a3f5f"
            },
            "type": "carpet"
           }
          ],
          "choropleth": [
           {
            "colorbar": {
             "outlinewidth": 0,
             "ticks": ""
            },
            "type": "choropleth"
           }
          ],
          "contour": [
           {
            "colorbar": {
             "outlinewidth": 0,
             "ticks": ""
            },
            "colorscale": [
             [
              0,
              "#0d0887"
             ],
             [
              0.1111111111111111,
              "#46039f"
             ],
             [
              0.2222222222222222,
              "#7201a8"
             ],
             [
              0.3333333333333333,
              "#9c179e"
             ],
             [
              0.4444444444444444,
              "#bd3786"
             ],
             [
              0.5555555555555556,
              "#d8576b"
             ],
             [
              0.6666666666666666,
              "#ed7953"
             ],
             [
              0.7777777777777778,
              "#fb9f3a"
             ],
             [
              0.8888888888888888,
              "#fdca26"
             ],
             [
              1,
              "#f0f921"
             ]
            ],
            "type": "contour"
           }
          ],
          "contourcarpet": [
           {
            "colorbar": {
             "outlinewidth": 0,
             "ticks": ""
            },
            "type": "contourcarpet"
           }
          ],
          "heatmap": [
           {
            "colorbar": {
             "outlinewidth": 0,
             "ticks": ""
            },
            "colorscale": [
             [
              0,
              "#0d0887"
             ],
             [
              0.1111111111111111,
              "#46039f"
             ],
             [
              0.2222222222222222,
              "#7201a8"
             ],
             [
              0.3333333333333333,
              "#9c179e"
             ],
             [
              0.4444444444444444,
              "#bd3786"
             ],
             [
              0.5555555555555556,
              "#d8576b"
             ],
             [
              0.6666666666666666,
              "#ed7953"
             ],
             [
              0.7777777777777778,
              "#fb9f3a"
             ],
             [
              0.8888888888888888,
              "#fdca26"
             ],
             [
              1,
              "#f0f921"
             ]
            ],
            "type": "heatmap"
           }
          ],
          "histogram": [
           {
            "marker": {
             "pattern": {
              "fillmode": "overlay",
              "size": 10,
              "solidity": 0.2
             }
            },
            "type": "histogram"
           }
          ],
          "histogram2d": [
           {
            "colorbar": {
             "outlinewidth": 0,
             "ticks": ""
            },
            "colorscale": [
             [
              0,
              "#0d0887"
             ],
             [
              0.1111111111111111,
              "#46039f"
             ],
             [
              0.2222222222222222,
              "#7201a8"
             ],
             [
              0.3333333333333333,
              "#9c179e"
             ],
             [
              0.4444444444444444,
              "#bd3786"
             ],
             [
              0.5555555555555556,
              "#d8576b"
             ],
             [
              0.6666666666666666,
              "#ed7953"
             ],
             [
              0.7777777777777778,
              "#fb9f3a"
             ],
             [
              0.8888888888888888,
              "#fdca26"
             ],
             [
              1,
              "#f0f921"
             ]
            ],
            "type": "histogram2d"
           }
          ],
          "histogram2dcontour": [
           {
            "colorbar": {
             "outlinewidth": 0,
             "ticks": ""
            },
            "colorscale": [
             [
              0,
              "#0d0887"
             ],
             [
              0.1111111111111111,
              "#46039f"
             ],
             [
              0.2222222222222222,
              "#7201a8"
             ],
             [
              0.3333333333333333,
              "#9c179e"
             ],
             [
              0.4444444444444444,
              "#bd3786"
             ],
             [
              0.5555555555555556,
              "#d8576b"
             ],
             [
              0.6666666666666666,
              "#ed7953"
             ],
             [
              0.7777777777777778,
              "#fb9f3a"
             ],
             [
              0.8888888888888888,
              "#fdca26"
             ],
             [
              1,
              "#f0f921"
             ]
            ],
            "type": "histogram2dcontour"
           }
          ],
          "mesh3d": [
           {
            "colorbar": {
             "outlinewidth": 0,
             "ticks": ""
            },
            "type": "mesh3d"
           }
          ],
          "parcoords": [
           {
            "line": {
             "colorbar": {
              "outlinewidth": 0,
              "ticks": ""
             }
            },
            "type": "parcoords"
           }
          ],
          "pie": [
           {
            "automargin": true,
            "type": "pie"
           }
          ],
          "scatter": [
           {
            "fillpattern": {
             "fillmode": "overlay",
             "size": 10,
             "solidity": 0.2
            },
            "type": "scatter"
           }
          ],
          "scatter3d": [
           {
            "line": {
             "colorbar": {
              "outlinewidth": 0,
              "ticks": ""
             }
            },
            "marker": {
             "colorbar": {
              "outlinewidth": 0,
              "ticks": ""
             }
            },
            "type": "scatter3d"
           }
          ],
          "scattercarpet": [
           {
            "marker": {
             "colorbar": {
              "outlinewidth": 0,
              "ticks": ""
             }
            },
            "type": "scattercarpet"
           }
          ],
          "scattergeo": [
           {
            "marker": {
             "colorbar": {
              "outlinewidth": 0,
              "ticks": ""
             }
            },
            "type": "scattergeo"
           }
          ],
          "scattergl": [
           {
            "marker": {
             "colorbar": {
              "outlinewidth": 0,
              "ticks": ""
             }
            },
            "type": "scattergl"
           }
          ],
          "scattermap": [
           {
            "marker": {
             "colorbar": {
              "outlinewidth": 0,
              "ticks": ""
             }
            },
            "type": "scattermap"
           }
          ],
          "scattermapbox": [
           {
            "marker": {
             "colorbar": {
              "outlinewidth": 0,
              "ticks": ""
             }
            },
            "type": "scattermapbox"
           }
          ],
          "scatterpolar": [
           {
            "marker": {
             "colorbar": {
              "outlinewidth": 0,
              "ticks": ""
             }
            },
            "type": "scatterpolar"
           }
          ],
          "scatterpolargl": [
           {
            "marker": {
             "colorbar": {
              "outlinewidth": 0,
              "ticks": ""
             }
            },
            "type": "scatterpolargl"
           }
          ],
          "scatterternary": [
           {
            "marker": {
             "colorbar": {
              "outlinewidth": 0,
              "ticks": ""
             }
            },
            "type": "scatterternary"
           }
          ],
          "surface": [
           {
            "colorbar": {
             "outlinewidth": 0,
             "ticks": ""
            },
            "colorscale": [
             [
              0,
              "#0d0887"
             ],
             [
              0.1111111111111111,
              "#46039f"
             ],
             [
              0.2222222222222222,
              "#7201a8"
             ],
             [
              0.3333333333333333,
              "#9c179e"
             ],
             [
              0.4444444444444444,
              "#bd3786"
             ],
             [
              0.5555555555555556,
              "#d8576b"
             ],
             [
              0.6666666666666666,
              "#ed7953"
             ],
             [
              0.7777777777777778,
              "#fb9f3a"
             ],
             [
              0.8888888888888888,
              "#fdca26"
             ],
             [
              1,
              "#f0f921"
             ]
            ],
            "type": "surface"
           }
          ],
          "table": [
           {
            "cells": {
             "fill": {
              "color": "#EBF0F8"
             },
             "line": {
              "color": "white"
             }
            },
            "header": {
             "fill": {
              "color": "#C8D4E3"
             },
             "line": {
              "color": "white"
             }
            },
            "type": "table"
           }
          ]
         },
         "layout": {
          "annotationdefaults": {
           "arrowcolor": "#2a3f5f",
           "arrowhead": 0,
           "arrowwidth": 1
          },
          "autotypenumbers": "strict",
          "coloraxis": {
           "colorbar": {
            "outlinewidth": 0,
            "ticks": ""
           }
          },
          "colorscale": {
           "diverging": [
            [
             0,
             "#8e0152"
            ],
            [
             0.1,
             "#c51b7d"
            ],
            [
             0.2,
             "#de77ae"
            ],
            [
             0.3,
             "#f1b6da"
            ],
            [
             0.4,
             "#fde0ef"
            ],
            [
             0.5,
             "#f7f7f7"
            ],
            [
             0.6,
             "#e6f5d0"
            ],
            [
             0.7,
             "#b8e186"
            ],
            [
             0.8,
             "#7fbc41"
            ],
            [
             0.9,
             "#4d9221"
            ],
            [
             1,
             "#276419"
            ]
           ],
           "sequential": [
            [
             0,
             "#0d0887"
            ],
            [
             0.1111111111111111,
             "#46039f"
            ],
            [
             0.2222222222222222,
             "#7201a8"
            ],
            [
             0.3333333333333333,
             "#9c179e"
            ],
            [
             0.4444444444444444,
             "#bd3786"
            ],
            [
             0.5555555555555556,
             "#d8576b"
            ],
            [
             0.6666666666666666,
             "#ed7953"
            ],
            [
             0.7777777777777778,
             "#fb9f3a"
            ],
            [
             0.8888888888888888,
             "#fdca26"
            ],
            [
             1,
             "#f0f921"
            ]
           ],
           "sequentialminus": [
            [
             0,
             "#0d0887"
            ],
            [
             0.1111111111111111,
             "#46039f"
            ],
            [
             0.2222222222222222,
             "#7201a8"
            ],
            [
             0.3333333333333333,
             "#9c179e"
            ],
            [
             0.4444444444444444,
             "#bd3786"
            ],
            [
             0.5555555555555556,
             "#d8576b"
            ],
            [
             0.6666666666666666,
             "#ed7953"
            ],
            [
             0.7777777777777778,
             "#fb9f3a"
            ],
            [
             0.8888888888888888,
             "#fdca26"
            ],
            [
             1,
             "#f0f921"
            ]
           ]
          },
          "colorway": [
           "#636efa",
           "#EF553B",
           "#00cc96",
           "#ab63fa",
           "#FFA15A",
           "#19d3f3",
           "#FF6692",
           "#B6E880",
           "#FF97FF",
           "#FECB52"
          ],
          "font": {
           "color": "#2a3f5f"
          },
          "geo": {
           "bgcolor": "white",
           "lakecolor": "white",
           "landcolor": "#E5ECF6",
           "showlakes": true,
           "showland": true,
           "subunitcolor": "white"
          },
          "hoverlabel": {
           "align": "left"
          },
          "hovermode": "closest",
          "mapbox": {
           "style": "light"
          },
          "paper_bgcolor": "white",
          "plot_bgcolor": "#E5ECF6",
          "polar": {
           "angularaxis": {
            "gridcolor": "white",
            "linecolor": "white",
            "ticks": ""
           },
           "bgcolor": "#E5ECF6",
           "radialaxis": {
            "gridcolor": "white",
            "linecolor": "white",
            "ticks": ""
           }
          },
          "scene": {
           "xaxis": {
            "backgroundcolor": "#E5ECF6",
            "gridcolor": "white",
            "gridwidth": 2,
            "linecolor": "white",
            "showbackground": true,
            "ticks": "",
            "zerolinecolor": "white"
           },
           "yaxis": {
            "backgroundcolor": "#E5ECF6",
            "gridcolor": "white",
            "gridwidth": 2,
            "linecolor": "white",
            "showbackground": true,
            "ticks": "",
            "zerolinecolor": "white"
           },
           "zaxis": {
            "backgroundcolor": "#E5ECF6",
            "gridcolor": "white",
            "gridwidth": 2,
            "linecolor": "white",
            "showbackground": true,
            "ticks": "",
            "zerolinecolor": "white"
           }
          },
          "shapedefaults": {
           "line": {
            "color": "#2a3f5f"
           }
          },
          "ternary": {
           "aaxis": {
            "gridcolor": "white",
            "linecolor": "white",
            "ticks": ""
           },
           "baxis": {
            "gridcolor": "white",
            "linecolor": "white",
            "ticks": ""
           },
           "bgcolor": "#E5ECF6",
           "caxis": {
            "gridcolor": "white",
            "linecolor": "white",
            "ticks": ""
           }
          },
          "title": {
           "x": 0.05
          },
          "xaxis": {
           "automargin": true,
           "gridcolor": "white",
           "linecolor": "white",
           "ticks": "",
           "title": {
            "standoff": 15
           },
           "zerolinecolor": "white",
           "zerolinewidth": 2
          },
          "yaxis": {
           "automargin": true,
           "gridcolor": "white",
           "linecolor": "white",
           "ticks": "",
           "title": {
            "standoff": 15
           },
           "zerolinecolor": "white",
           "zerolinewidth": 2
          }
         }
        },
        "title": {
         "text": "TF-IDF KMeans Clusters (k=10) with t-SNE"
        },
        "xaxis": {
         "anchor": "y",
         "domain": [
          0,
          1
         ],
         "title": {
          "text": "x"
         }
        },
        "yaxis": {
         "anchor": "x",
         "domain": [
          0,
          1
         ],
         "title": {
          "text": "y"
         }
        }
       }
      }
     },
     "metadata": {},
     "output_type": "display_data"
    }
   ],
   "source": [
    "# TF-IDF -> KMeans(k=10) -> t-SNE(2D) -> Plotly hover with <br> every 15 words\n",
    "\n",
    "# pip install plotly scikit-learn\n",
    "\n",
    "import pandas as pd\n",
    "from sklearn.feature_extraction.text import TfidfVectorizer\n",
    "from sklearn.cluster import KMeans\n",
    "from sklearn.decomposition import TruncatedSVD\n",
    "from sklearn.manifold import TSNE\n",
    "import plotly.express as px\n",
    "\n",
    "def wrap_every_n_words(s: str, n: int = 15, br: str = \"<br>\") -> str:\n",
    "    words = s.split()\n",
    "    return br.join(\" \".join(words[i:i+n]) for i in range(0, len(words), n))\n",
    "\n",
    "df_sampled = df.sample(500, random_state=42)\n",
    "# 1) TF-IDF\n",
    "texts = df_sampled[\"Text\"].astype(str).fillna(\"\")\n",
    "vectorizer = TfidfVectorizer(min_df=2, max_df=0.95)\n",
    "X = vectorizer.fit_transform(texts)\n",
    "\n",
    "# 2) KMeans on TF-IDF\n",
    "k = 3\n",
    "kmeans = KMeans(n_clusters=k, n_init=10, random_state=42)\n",
    "cluster_ids = kmeans.fit_predict(X)\n",
    "df_sampled[\"cluster_id\"] = cluster_ids\n",
    "\n",
    "# 3) Dim reduction then t-SNE (t-SNE works better after SVD on sparse TF-IDF)\n",
    "svd = TruncatedSVD(n_components=50, random_state=42)\n",
    "X_50 = svd.fit_transform(X)\n",
    "\n",
    "# t-SNE params (perplexity must be < n_samples)\n",
    "n_samples = len(texts)\n",
    "perplexity = max(5, min(30, n_samples - 1))  # safe default\n",
    "tsne = TSNE(\n",
    "    n_components=2,\n",
    "    init=\"pca\",\n",
    "    learning_rate=\"auto\",\n",
    "    perplexity=perplexity,\n",
    "    random_state=42,\n",
    "\n",
    ")\n",
    "coords_2d = tsne.fit_transform(X_50)\n",
    "\n",
    "# 4) Viz df with wrapped text for hover\n",
    "viz_df = pd.DataFrame({\n",
    "    \"x\": coords_2d[:, 0],\n",
    "    \"y\": coords_2d[:, 1],\n",
    "    \"cluster_id\": cluster_ids.astype(str),\n",
    "    \"text_wrapped\": [wrap_every_n_words(t, 15) for t in texts],\n",
    "})\n",
    "\n",
    "# 5) Plotly scatter with hover\n",
    "fig = px.scatter(\n",
    "    viz_df,\n",
    "    x=\"x\",\n",
    "    y=\"y\",\n",
    "    color=\"cluster_id\",\n",
    "    title=\"TF-IDF KMeans Clusters (k=10) with t-SNE\",\n",
    "    custom_data=[\"text_wrapped\", \"cluster_id\"],\n",
    ")\n",
    "fig.update_traces(\n",
    "    marker=dict(size=7, opacity=0.85),\n",
    "    hovertemplate=\"%{customdata[0]}<br><b>cluster:</b> %{customdata[1]}<extra></extra>\",\n",
    ")\n",
    "fig.update_layout(legend_title_text=\"cluster_id\")\n",
    "fig.show()\n",
    "\n",
    "\n"
   ]
  },
  {
   "cell_type": "code",
   "execution_count": null,
   "id": "b71e9c14",
   "metadata": {},
   "outputs": [],
   "source": []
  }
 ],
 "metadata": {
  "kernelspec": {
   "display_name": "meaningful-transparency (3.12.11)",
   "language": "python",
   "name": "python3"
  },
  "language_info": {
   "codemirror_mode": {
    "name": "ipython",
    "version": 3
   },
   "file_extension": ".py",
   "mimetype": "text/x-python",
   "name": "python",
   "nbconvert_exporter": "python",
   "pygments_lexer": "ipython3",
   "version": "3.12.11"
  }
 },
 "nbformat": 4,
 "nbformat_minor": 5
}
