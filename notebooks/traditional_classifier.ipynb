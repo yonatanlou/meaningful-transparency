{
 "cells": [
  {
   "cell_type": "markdown",
   "id": "c1686756-542e-4bee-a8d5-853cd856da1d",
   "metadata": {},
   "source": [
    "# Imports"
   ]
  },
  {
   "cell_type": "code",
   "execution_count": 28,
   "id": "a80554bb-2109-4c67-ad73-eb083a06f21b",
   "metadata": {},
   "outputs": [],
   "source": [
    "# for importing code\n",
    "import sys, os\n",
    "\n",
    "module_path = os.path.abspath(os.path.join(\"..\", \"src\"))\n",
    "if module_path not in sys.path:\n",
    "    print(f\"Adding {module_path} to sys.path\")\n",
    "    sys.path.append(module_path)"
   ]
  },
  {
   "cell_type": "code",
   "execution_count": 29,
   "id": "b75032f2-d3fd-49c5-8046-4e4127edc3a0",
   "metadata": {},
   "outputs": [
    {
     "data": {
      "text/plain": [
       "(1529, 20)"
      ]
     },
     "execution_count": 29,
     "metadata": {},
     "output_type": "execute_result"
    }
   ],
   "source": [
    "import pandas as pd\n",
    "from constants import PROJECT_ROOT\n",
    "\n",
    "# created by: uv run python src/classify_twitter_posts.py --model anthropic/claude-sonnet-4 --temperature 0.1 --n-samples 750 --min-chars 50 --results_filename twitter_posts_classified\n",
    "path = f\"{PROJECT_ROOT}/datasets/train_test_datasets/train.csv\"\n",
    "df = pd.read_csv(path)\n",
    "df.shape"
   ]
  },
  {
   "cell_type": "code",
   "execution_count": 30,
   "id": "0d101e4c",
   "metadata": {},
   "outputs": [
    {
     "name": "stdout",
     "output_type": "stream",
     "text": [
      "Train size: 1070, Test size: 459\n",
      "Confusion matrix (rows true, cols pred):\n",
      "        pred_0  pred_1\n",
      "true_0     362       1\n",
      "true_1      87       9\n",
      "\n",
      "Accuracy: 0.8082788671023965\n",
      "\n",
      "Classification report:\n",
      "              precision    recall  f1-score   support\n",
      "\n",
      "           0      0.806     0.997     0.892       363\n",
      "           1      0.900     0.094     0.170        96\n",
      "\n",
      "    accuracy                          0.808       459\n",
      "   macro avg      0.853     0.545     0.531       459\n",
      "weighted avg      0.826     0.808     0.741       459\n",
      "\n"
     ]
    },
    {
     "data": {
      "text/plain": [
       "Text(70.7222222222222, 0.5, 'Actual')"
      ]
     },
     "execution_count": 30,
     "metadata": {},
     "output_type": "execute_result"
    },
    {
     "data": {
      "image/png": "[encoded data removed]",
      "text/plain": [
       "<Figure size 800x600 with 1 Axes>"
      ]
     },
     "metadata": {},
     "output_type": "display_data"
    }
   ],
   "source": [
    "# Minimal TF-IDF + Logistic Regression on df[Text, Biased]\n",
    "\n",
    "import pandas as pd\n",
    "from sklearn.model_selection import train_test_split\n",
    "from sklearn.pipeline import make_pipeline\n",
    "from sklearn.feature_extraction.text import TfidfVectorizer\n",
    "from sklearn.linear_model import LogisticRegression\n",
    "from sklearn.metrics import confusion_matrix, classification_report, accuracy_score\n",
    "\n",
    "# Assume you already have a DataFrame `df` with columns: \"Text\" (str), \"Biased\" (0 or 1)\n",
    "# Light hygiene in case there are NaNs\n",
    "df_use = df[[\"Text\", \"Biased\"]].dropna()\n",
    "X = df_use[\"Text\"].astype(str)\n",
    "y = df_use[\"Biased\"].astype(int)\n",
    "\n",
    "# Train test split\n",
    "X_train, X_test, y_train, y_test = train_test_split(\n",
    "    X, y, test_size=0.3, random_state=42, stratify=y\n",
    ")\n",
    "print(f\"Train size: {len(X_train)}, Test size: {len(X_test)}\")\n",
    "# Build pipeline\n",
    "clf = make_pipeline(\n",
    "    TfidfVectorizer(),  # default settings, no extra preprocessing\n",
    "    LogisticRegression(max_iter=1000),  # simple baseline\n",
    ")\n",
    "\n",
    "# Train\n",
    "clf.fit(X_train, y_train)\n",
    "\n",
    "# Predict on test\n",
    "y_pred = clf.predict(X_test)\n",
    "\n",
    "# Confusion matrix\n",
    "cm = confusion_matrix(y_test, y_pred, labels=[0, 1])\n",
    "cm_df = pd.DataFrame(cm, index=[\"true_0\", \"true_1\"], columns=[\"pred_0\", \"pred_1\"])\n",
    "print(\"Confusion matrix (rows true, cols pred):\")\n",
    "print(cm_df)\n",
    "\n",
    "# Simple scores\n",
    "print(\"\\nAccuracy:\", accuracy_score(y_test, y_pred))\n",
    "print(\"\\nClassification report:\")\n",
    "print(classification_report(y_test, y_pred, digits=3))\n",
    "import seaborn as sns\n",
    "import matplotlib.pyplot as plt\n",
    "\n",
    "fig, ax = plt.subplots(1, 1, figsize=(8, 6))\n",
    "sns.heatmap(\n",
    "    cm,\n",
    "    annot=True,\n",
    "    fmt=\"d\",\n",
    "    cmap=\"Blues\",\n",
    "    cbar=False,\n",
    "    xticklabels=[\"Predicted Non-antisemitic\", \"Predicted Antisemitic\"],\n",
    "    yticklabels=[\"Actual Non-antisemitic\", \"Actual Antisemitic\"],\n",
    "    ax=ax,\n",
    ")\n",
    "\n",
    "\n",
    "ax.set_xlabel(\"Predicted\", fontsize=12)\n",
    "ax.set_ylabel(\"Actual\", fontsize=12)"
   ]
  },
  {
   "cell_type": "code",
   "execution_count": 31,
   "id": "6a46b9c1",
   "metadata": {},
   "outputs": [
    {
     "data": {
      "application/vnd.plotly.v1+json": {
       "config": {
        "plotlyServerURL": "https://plot.ly"
       },
       "data": [
        {
         "customdata": [
          [
           "@JThomasReese Do you remember when Nazis were pushing over/vandalizing Jewish headstones and Trump said Jews<br>were doing it themselves to make him look bad? Throwing paper towels at Puerto Ricans?<br>Shithole countries? Remember when he wanted to buy Greenland? Remember Space Force?",
           "1"
          ],
          [
           "@greysfaer I mean he's just yelling Hail Victory and fuming about kikes and \"octaroons\". There's<br>no way that could turn violent.",
           "1"
          ],
          [
           "One Crore Jews handle Global Geo-Politics, Media, and Monetary System. Hundred Crore Hindus aren�t even<br>allowed to burst firecrackers ?? forget about managing our temples or traditions.",
           "1"
          ],
          [
           "Trump came through my neighborhood this evening. \\n\\nMany Los Angelenos screamed protests. \\n\\nOrthodox Jews thronged<br>the sidewalks, holding up their children, waving and cheering the motorcade.",
           "1"
          ],
          [
           "@damian_from Most of the people I know who have been suspended are left wing jews<br>ffs",
           "1"
          ],
          [
           "Fear of the crosses, fear of Jawi, fear of the transgenders, fear of the tudung,<br>fear of the serban, fear of the Jews, fear of pluralism, fear of babi. Nothing<br>can be achieved when the society remains chained by irrational fears. We need to break<br>these chains &amp; free ourselves.",
           "1"
          ],
          [
           "Trump gets a peace deal done between Israel and the United Arab Emirates and he<br>didn’t even have to send $150 billion to the worlds leading sponsor of terror to<br>make it happen. \\n\\nMakes you wonder what these other clowns in government have been doing<br>for the past few decades.",
           "1"
          ],
          [
           "I’m tired of white men who actually hate Jews attacking @IlhanMN because she is against<br>pro-Israel lobbyists who are corrupt.\\n\\nI swear the only reason she is attacked is because she<br>is Muslim and wears a hijab.",
           "1"
          ],
          [
           "Can Democrats join Republicans to congratulate @realDonaldTrump on the peace deals between Israel, the UAE<br>&amp; now Bahrain. Plus, between Kosovo &amp; Serbia. Peace is breaking out. Credit where credit<br>is due, no?",
           "1"
          ],
          [
           "There are Jewish-Israeli families going back hundreds of years\\nThere are 6m+ Jews in total living<br>there\\nAbolishing the State of Israel is a ridiculous aim\\nPlacing international pressure on Israel through diplomacy,<br>and even forms of BDS, to work towards peace isn't",
           "1"
          ],
          [
           "@johnashik As our Founder Quaid-e-Azam Muhammad Ali Jinnah said:\\n\"Israel is an illegal child of the<br>west\"",
           "1"
          ],
          [
           "Y�all ever hear about how Jews weren�t as heavily impacted by the plague",
           "1"
          ],
          [
           "Today is Holocaust rememberance day.\\n\\nIt is now 75 years since Auschwitz was liberated. \\n\\n6 million<br>Jews and 11 million other were brutally murdered by the Nazis.\\n\\nHistory has showed us time<br>and time again the evils of the far-left.\\n\\nIt is pure evil.\\n\\n#NeverAgain #Auschwitz75",
           "1"
          ],
          [
           "@PaulSan42117074 Nothing but vile zionazists propoganda, not going to fly that era is gone",
           "1"
          ],
          [
           "@philipgiraldi American citizen shot dead by ZioNazis &amp; yet american govt is silent Fxxxxng unbelievable",
           "1"
          ],
          [
           "RT @cursedsalad: \"Free speech\" is when Jews say they are chosen by God. \"Hate speech\"<br>is when white people say they have a right to exist.",
           "1"
          ],
          [
           "Adolf is remembered for his rabid antisemitic sentiment and brutal murder of 6 million Jews.\\nThe<br>truth is up until WW2, Europe had been brutally antisemitic and nobody really cared what<br>he did with the Jews. As far back as 1219, through the edict of expulsion<br>Edward 1 expelled..",
           "1"
          ],
          [
           "Let's be crystal clear. When Pres. Trump says that Jews who vote for Democrats show<br>\"either a total lack of knowledge or great disloyalty,\" he is summoning the forces of<br>bigotry and anti-Semitism with all of its blood-stained history.",
           "1"
          ],
          [
           "@IlhanMN This bitch hates America, Americans, Jews, anybody that isn’t muslim. She’s a terrorist.",
           "1"
          ],
          [
           "I regret having read the Torah now. The whole thing’s a shanda! I had no<br>idea the whole thing was full of stuff about Israel &amp; that the biggest Zionist<br>of the lot was God himself! As a woke rabbi I think my congregation may<br>have to consider adding God to our BDS list. Oy!",
           "1"
          ],
          [
           "\"And because he saw it pleased the Jews, he proceeded further to take Peter also.<br>(Then were the days of unleavened bread.)\" ~Acts 12:3 #Faith #Bible #God",
           "1"
          ],
          [
           "🌚 #lol The basis of kikes overall provides conclusive evidence of the inability of politicians<br>to recognise the needs of a modern Australia rawr Bad",
           "1"
          ],
          [
           "A pro-Trump, Israel-dwelling cybersecurity CEO is being prosecuted by the feds, and Trump lawyer Alan<br>Dershowitz has joined the defense and the far right is up in arms about the<br>case—all the elements for it to be connected to Trump-Israeli collusion in 2016 but we'll<br>have to see.",
           "1"
          ],
          [
           "@ksandnfam It’s hard not to feel guilty about not having empathy for Trump. But everyone<br>has a line. Would you have wanted Hitler to have a “speedy recovery.” The murder<br>of 6 million Jews is enough to wish harm. What about 200,000 deaths of Americans<br>because of #criminalnegligence?",
           "1"
          ],
          [
           "Workshopping list of things to call Kamala Harris: Cop Jailer Snitch Narc Flerp Halliburton zionazi<br>Woman Feedback appreciated",
           "1"
          ],
          [
           "RT @elderofziyon: This is Linda Sarsour's group, telling the world that 95% of Jews are<br>not welcome but everyone else (beside cops) is.",
           "1"
          ],
          [
           "RT @Mohammadamin_Pz: Iran�s Supreme Leader Ayatollah Ali Khamenei: Israel will not survive the next 25<br>years #covid1948",
           "1"
          ],
          [
           "@DiaPhrog I look forward to seeing protests against companies owned by Muslims or Jews, as<br>neither of those religions are exactly pro LGBT.\\n\\nFunny how it is always Christians who are<br>protested, isn't it?",
           "1"
          ],
          [
           "5⃣ #Syria The crisis currently plaguing kikes (citation needed) will be due to the socialist<br>revolution . Fad ? ➡ 👽 🌀 👏 👏 ☀ 🎀 🚗 ⏫ ♨ 🙇<br>🐠",
           "1"
          ],
          [
           "When david Ignatius of the Washington Post writes “\\nTrump is right. The Israel-UAE agreement is<br>a huge achievement.”he sets the stage for the Nobel Peace Prize to be awarded to<br>a President who has actually achieved something,",
           "1"
          ],
          [
           "The Messiah comes to end the civilization of the Jews, the wicked ones. There are<br>plenty of good Jews.-#NOISundays",
           "1"
          ],
          [
           "My feed is American Jews saying glowing things about Israel at AIPAC and Israelis having<br>a meltdown over changes to the exit poll results.\\n\\n Solid illustration of modern Zionism.",
           "1"
          ],
          [
           "Dr. Ibrahim Najm has worked to debunk misconceptions between young Muslims and Jews. He expanded<br>on the false dichotomy which presupposes national identity and religious identity are incongruent, when they<br>can and should support each other.",
           "1"
          ],
          [
           "Orthodox Jews Back Trump Over Biden by Huge Margin, 83-13 Percent, Poll Shows",
           "1"
          ],
          [
           "For by one Spirit are we all baptized into one body, whether we be Jews<br>or Gentiles, whether we be bond or free; and have been all made to drink<br>into one Spirit. 1Co 12:13 KJV.",
           "1"
          ],
          [
           "@NaguibSawiris Ethiopia is being directed by Israel and the USA. This is what peace with<br>Israel, with the help of America, brought to Egypt. Nothing but unending wars is in<br>the future. Thanks to the stupidity of Sadat and his supporters.",
           "1"
          ],
          [
           "\"Imagine being a German in the 1930s and saying, 'I don't hate Jews and I<br>have nothing against them and I'm a nice person. But I believe Hitler is doing<br>great things for the economy and even though I don't condone everything he says, he<br>still has my vote'.\"",
           "1"
          ],
          [
           "Jesus knew that he came 2,000 years too soon. He came to remind the Jews,<br>to cleanse them by the law of God given to them by Moses. #Farrakhan #NOISundays",
           "1"
          ],
          [
           "@Kevin_Kinkead Yeah yeah yeah we as Jews have heard it before the “he/she didn’t know”<br>that Farrakhan is what he is. It’s tired",
           "1"
          ],
          [
           "Today we remember the 1 million Jews killed in Auswitch concentration camp in Germany, but<br>no one commemorates the death of the 10 million Congolese killed by Belgium under the<br>leadership of king Leopold II. Western media does not talk about it, even Africans don't<br>know about it.",
           "1"
          ],
          [
           "All Indians --Hindus, Muslims, Christians and Jews, rich and poor -- must take pride in<br>glories of past, bright future: Trump",
           "1"
          ],
          [
           "Why would any Christian not support Trump if he stands with all evangelical Christians and<br>supports Israel? Help me out with this one.",
           "1"
          ],
          [
           "\"But after two years Porcius Festus came into Felix' room: and Felix, willing to shew<br>the Jews a pleasure, left Paul bound.\" ~Acts 24:27 #Hope #Bible #God",
           "1"
          ],
          [
           "A Jewish man was stabbed in London today. No outrage. No protests. No mayoral hullabaloo.<br>\\n\\nJews are the wrong type of minority. \\n\\nThe racist hierarchy of woke anti-racists.",
           "1"
          ],
          [
           "Lock this fake account @umasubyan behind her is an overlapping zionazi Zionist !!\\nFaKe pro Palestina<br>account!!!",
           "1"
          ],
          [
           "QAnon repeats Hitler’s lies about The Jews.\\nThe Republican Party embraces QAnon.\\nThe Republican Party may seek<br>to repeat The Holocaust.",
           "1"
          ],
          [
           "🎦 Please Retweet: #MAGA The limit of kikes unfortunately is very unlikely rawr xd Rad<br>. 🐢 🗼 🏰 🐉 👃 💗 8⃣ 🍁 🆙 🍄 🚤 🚅",
           "1"
          ],
          [
           "\"The Jews are not loyal to the state.\" — Adolf Hitler\\n\\n\"Any Jew that votes Democrat<br>is disloyal.\" — Donald Trump",
           "1"
          ],
          [
           "@Wilson__Valdez Dude, that theory was lit. He got everyone in there besides the Bilderbergers and<br>the 5 Jews who plan the world economy each year at a lodge on the<br>Greifensee",
           "1"
          ],
          [
           "The model of the entire class is “See this footage of Jews being loaded into<br>cattle cars? Here’s footage of German POWs being sent to Siberia. Pretty similar, huh?”",
           "1"
          ],
          [
           "10 Who was the king of Israel when David slew Goliath?\\nA Saul\\nB Jonathan\\nC Cyrus\\nD Darius",
           "1"
          ],
          [
           "Patrilineal Jews are Jews\\nSecular or Atheist Jews are Jews\\nJews who were not born Jewish are<br>Jews\\nAnti-Zionist Jews are Jews\\nJews of color are Jews\\nOrthodox, Conservative, Reform, Reconstructionist and Renewal Jews are<br>all Jews.\\nChristians are not Jews.",
           "1"
          ],
          [
           "@DrZhaoyongchen America bailed out the Jews during WW2 at great sacrifice and now every white<br>American is viewed with fierce, unrelenting suspicion as a latent Nazi.\\n\\nBe careful, Ambassador. No good<br>deed goes unpunished.",
           "1"
          ],
          [
           "Any time someone wants to quote Old Testament theology at me as a moral guideline<br>for modern society, I'm going to remind them of when Pharaoh was more than happy<br>to let the Jews go and then God was like \"I think I will cause<br>problems on purpose\" and made him an asshole.",
           "1"
          ],
          [
           "🌾 I bet #MAGA The basis of kikes unsurprisingly should have been not very trustworthy<br>rawr Bad ! 🐽 〽 👅 ⏪ 🌐 🔡 ↕ 🐔 💔 👏 💤 🚖",
           "1"
          ],
          [
           "👽 Please Retweet: #randum The saddest thing about kikes overall will be due to a<br>great A E S T H E T I C . #alternativefacts ! 🙏 🆙<br>☝ ⛽ 💨 7⃣ 🌔 🐧",
           "1"
          ],
          [
           "the phrase \"those damn witches and kikes\" uttered by one of the members is pretty<br>seared into my memory",
           "1"
          ],
          [
           "🏡 Did you know? #randum The media's biased view of kikes heading up in the<br>world will be aliens ? Fad :) ⛄ 🚡 👔 🍀 🐻 🌎 ⚡ 9⃣<br>🎠 🙅 ✋ 🎩",
           "1"
          ],
          [
           "🌴 RT This: #lol The problem with kikes in most cases was due to Mint<br>Slices rawr xd #alternativefacts ? ⛵ 🗿 🐣 👙 5⃣ 🔄 🐯 ✨ 🈯 💬<br>🚶 🐘",
           "1"
          ],
          [
           "Agolf Twitler is following in Hitlers footsteps, Hitler killed 6 Million Jews, Trump will have<br>killed a minimum of 35 million if he attacks Social Security, and Medicare. More than<br>half of the 66 million who receive earned income through Social Security will die because<br>of him.",
           "1"
          ],
          [
           "Obama/Biden gave pallets of cash to the largest state sponsor of terror, abandoned Israel, and<br>allowed Chinese aggression to go unchecked. President Trump is standing up to our adversaries while<br>securing peace deals and putting AMERICA FIRST.",
           "1"
          ],
          [
           "Most Jews are Democrats. It was Jewish protestors who just got driven into by an<br>ICE guard. It was Trump who inspired a synagogue shooting and keeps taking the side<br>of fascists.\\n\\nWith all due respect, GOP, get your fake ass concern about anti-Semitism the fuck<br>out of here.",
           "1"
          ],
          [
           "Socially progressive Jews once every 7 1/2 years get to celebrate Berakhot 62a day, where<br>we remember that one sage crawled under the bed of another to listen to him<br>have sex with his wife as if he were a feral beast and then declared,<br>\"It is Torah, and I must learn\"",
           "1"
          ],
          [
           "@salsabilaatt Your loony.\\n\\nThere is no distinction of innocent civilians.\\n\\nIn WW2 did Jews shoot random Germans<br>to retaliate?\\n\\nYour a terrorist",
           "1"
          ],
          [
           "So #Marxism is founded on a man who was Jewish but hated Jews, a racist,<br>and who had zero significance while he was alive? So why are ppl worshipping at<br>the house of Marx today?",
           "1"
          ],
          [
           "President @realDonaldTrump's historic peace agreement between Israel and UAE was easier than negotiating aid relief<br>with Nancy Pelosi.\\n\\nDemocrats should be ashamed!",
           "1"
          ],
          [
           "A lot of y’all ladies be talkin cash shit but be jews",
           "1"
          ],
          [
           "RT @ShehabiFares: No one is really safe inside the large colonial settlement called Israel..! Especially,<br>people who are not Jewish.",
           "1"
          ],
          [
           "David Reich is Jewish. He knows very well that most of the people he claim<br>to be White are actually Jews. This is Jewish supremacy. Learn the difference! #BLM should<br>learn the truth.",
           "1"
          ],
          [
           "@GoldenxSal they are the slave trade. jews werent liked by their ppl so they had<br>to fins somebody everybody hated kore than them. research william leeve amd what he had<br>to do with slavery, he was a jew. its many many more. thats just one<br>of rhe top of my head.",
           "1"
          ],
          [
           "Trump isn't the chosen one. He is not the King of the Jews. He is<br>a crazy asshole.\\n\\n#25thAmendmentNow",
           "1"
          ],
          [
           "�If Biden wins the presidency, USA will be a dictatorship of Jews and Blacks.� This<br>disgusting message, by Trump supporters aired today on Miami @Caracol1260 All of us-regardless of party<br>affiliation-have an obligation to repudiate &amp; condemn this pro-Nazi and racist message!",
           "1"
          ],
          [
           "RT @realDSteinberg: He�s *protecting* Jews from themselves, you see. Nothing creepy at all.",
           "1"
          ],
          [
           "President Donald J Trump stands up for the Unborn. President Donald J Trump stands up<br>for Christians and Jews. President Donald J Trump publicly gives thanks and honor to God.<br>I am so grateful for our President. The hand of God is upon President Trump.<br>God bless our President.",
           "1"
          ],
          [
           "Today the Trump administration announced the successful brokering of an historic peace deal between UAE<br>and Israel. Not to be outdone, Brain-dead Biden reworded Trump’s current mask policy into angry-talk<br>and labeled it leadership.",
           "1"
          ],
          [
           "@RepLeeZeldin Trump called Jews who don't support him disloyal. Just like the Nazis called Jews<br>disloyal to the Reich.",
           "1"
          ],
          [
           "@letsgomathias He is a ZioNazi who takes his orders from Tel Aviv.",
           "1"
          ],
          [
           "@RahulEaswar It's holy day I should not says what was fate of Jews",
           "1"
          ],
          [
           "Workshopping list of things to call Kamala Harris: Cop Jailer Snitch Narc Flerp Halliburton zionazi<br>Woman Feedback appreciated",
           "1"
          ],
          [
           "@realDonaldTrump 1) Was it a \"Unite the Right\" or a \"Unite the Left\" rally at<br>which Trump supporting Nazis yelled \"Jews will not replace us\" and at which a woman<br>was run over an killed? \\n...",
           "1"
          ],
          [
           "🌲 Hear me out; #randum The basis of kikes (As of this decade) is due<br>to the socialist revolution ? FAKE ! 🏀 🏨 🔄 ⏩ 🈚 ☁ ⏪ 🐶<br>🌾 ✊ 4⃣ 🐀",
           "1"
          ],
          [
           "🏤 Nowadays, #randum The influence of kikes arguably will be (((THEM))) rawr Won't hear this<br>on mainstream media! :( 🈳 🍁 🌾 🚞 🎽 🐸 🐱 🌋 🌟 🐈 🙆",
           "1"
          ],
          [
           "okay so today the president said jews are stupid and got mad when he couldn't<br>buy greenland",
           "1"
          ],
          [
           "Mike Pence didn’t wear a mask at the Mayo Clinic and Bill DeBlasio told Jews<br>he might arrest them if they don’t shape up. Only one of these will get<br>coverage. Y’all I might just actually be most angry at our crisis of information and<br>accountability and how journalism has failed",
           "1"
          ],
          [
           "🌰 I guarantee that #MAGA The media's biased view of kikes being rife with corruption<br>is a result of dog on grog xD #alternativefacts :) 🌓 🌽 🏣 😼 🐐",
           "1"
          ],
          [
           "@js_newswatch Very misguided people who are fooled by the lies of the left. The very<br>people who hate the Jews.",
           "1"
          ],
          [
           "Iran chants \"Death to America\" Dems are silent Iran wages war on Jews, Dems are<br>silent Iran executes gays, Dems are silent Iran oppresses women, Dems are silent Iran slaughters<br>innocent men, women and children, Dems are silent AN IRANIAN GENERAL IS KILLED, DEMS SPEAK<br>OUT!",
           "1"
          ],
          [
           "@the_hindu Israel makes sea water drinkable, while indian experts think this is not possible. When<br>you are made an expert out of reservation, this sort of nonsense is normal thing.",
           "1"
          ],
          [
           "@YourFriendZippy ZioNazis propoganda hopefully Brits not going to fall for this zionists shit",
           "1"
          ],
          [
           "RT @123RHGreen: Not much different than Nazis sending Jews to the gas chambers.",
           "1"
          ],
          [
           "@TrumpJew Pretty good song, really! Jews are not the only ones praying for Trump! Christians<br>like me are as well! Last chance USA has to turn things around.",
           "1"
          ],
          [
           "I sympathize with Jews and hate antisemitic sentiments, but demanding Twitter to censor antisemitism is<br>a terrible idea. Recognizing Twitter as a moral authority which regulates speech will backfire very<br>badly. We need fair treatment, not authoritarianism. #NoSafeSpaceForJewHate",
           "1"
          ],
          [
           "@silkandglitters pick your head up, queen of the kikes; your crown is falling...",
           "1"
          ],
          [
           "“God is going to save Christians, Muslims, Buddhists, Hindus, Catholics, Protestants, Jews—all religious people\"\\n\\nA lot<br>of professing Christians believe this\\n\\nIt's simply NOT true\\n\\nSalvation is in Christ alone. \"For by grace<br>are ye saved through faith; and that not of yourselves\"",
           "1"
          ],
          [
           "The only people I see speaking out about the Jewish man being stabbed are Jews<br>, no one else . The only people posting about the France protest , that<br>turned into an anti Semitic protest saying “dirty jews” are jews , no one else.",
           "1"
          ],
          [
           "(4/5)\\nRepeatedly talking about all thieves being \"N*gg*rs\" &amp; naming \"The Jews,\" before remember to use<br>his code words. Only to go back to naming \"them.\"\\n\\nNobody tells him what to do!\\n\\nNow<br>he's defaming, with obscene vulgarity, other #dLive creators, just like he did YT.",
           "1"
          ],
          [
           "RT @mithisa_motho: There is no Adolf Hitler Foundation. The Jews respect themselves",
           "1"
          ],
          [
           "NYC is cracking down on Jews who are doing nothing wrong while violent rioters are<br>destroying the city On the political left truth and reality are inverted and are presented<br>as the opposite of the way they really are: Up is down. Left is right.<br>Right is wrong and wrong is right",
           "1"
          ],
          [
           "@catovitch He'd be tweeting that he couldn't have gassed the jews because he was out<br>collecting boulders.",
           "1"
          ],
          [
           "⛅ Without a doubt, #MAGA The best thing about kikes in the near future could<br>have been due to Queenslanders rawr Fad . 🚽 💗 👭 🚩 🆗 🌠 💚<br>🏤 🎽 📍 3⃣",
           "1"
          ],
          [
           "🌋 Share This: #randum The influence of kikes undoubtedly might have been due to the<br>sale of weapons to small african children :) #altfacts :) ▶ 🇯🇵🇰🇷🇩🇪🇨🇳🇺🇸🇫🇷🇪🇸",
           "1"
          ],
          [
           "Guarantee if Israel was run by a left wing party the entire Trump cult would<br>be calling us kikes to our faces instead of just behind our backs",
           "1"
          ],
          [
           "@Marshall_H15 Left as nomads, came back as godless thieves and murderers;\\nleft as Jews, came back<br>as parasitic profiteering zionists.",
           "1"
          ],
          [
           "Trump: I'm treated worse than Lincoln, worse than Jews at the holocaust, worse than Jesus<br>on the cross, worse than slaves on plantations, 😭👶😭👶😭pity me everybody, poor, poor pitiful me.",
           "1"
          ],
          [
           "Hitler had not only killed 6 million Jews but also 5 million non-Jews too -<br>No one is safe when you get a Hitler as the leader.",
           "1"
          ],
          [
           "@RaniaKhalek If this was a Nazi he would be all over the world news. But<br>no so when it comes to Zionazis.",
           "1"
          ],
          [
           "@BeholdIsrael Why would Israel care what Trump says? Who is he to Israel? He doesn’t<br>decide the future of anything! The Trump worship amongst evangelicals is sickening!",
           "1"
          ],
          [
           "FINALLY #HinduGenocide is taken up by @NewsX. While Holocaust of the natives of S. America<br>&amp; of Jews is well known, #Holocaust of Hindus by Muslim invaders is hidden from<br>public.\\n\\nEstimates say 8 crore Hindus were put to death only for being Hindus.\\n\\nWe owe truthfulness<br>to them.",
           "1"
          ],
          [
           "@POTUSFOURTYFIVE This is what the Nazis said ab the Jews &amp; we know what Omar<br>thinks of Jews. She is dangerous.",
           "1"
          ],
          [
           "Anti-Semite CNN contributor refers to Jewish Stephen Miller as �it.� This is the same way<br>Hitler spoke about Jews. Ana Navarro is a literal Nazi.",
           "1"
          ],
          [
           "🌟 BREAKING NEWS!!! #Syria The desperate state of kikes sadly will be the lack of<br>Jobs and Growth rawr Bad ! 🏈 ⬇ 🚂 🚠 💏 ⏬ 🇮🇹 ❤ 🐪<br>🚩 🐬 🎽",
           "1"
          ],
          [
           "Jews don�t control the BBC, and no one is �Force feeding� the Holocaust down people�s<br>throats.",
           "1"
          ],
          [
           "There�s two possible conclusions, but one of them is for sure: the Kikes from Hollywood<br>are mocking the Lord (again)",
           "1"
          ],
          [
           "🆕 Nowadays, #MAGA The only thing preventing kikes heading up in the world could have<br>been due to the lack of Jobs and Growth ? #alternativefacts :) 🎩",
           "1"
          ],
          [
           "And what's with all those meetings in the middle east between Pompeo and Israel and<br>Saudi Arabia? Probably discussing which country he's going to flee to because he knows he's<br>going downnnnnnnn",
           "1"
          ],
          [
           "@IvankaTrump President Trump has denounced the following types of Americans: Muslims, Jews, LGBTQ, immigrants, Democrats,<br>people in cities, coasts, California, New York. He has called the vast majority of US<br>not real Americans, but yet Republicans still playing the victim card.",
           "1"
          ],
          [
           "Trump’s outrageous accusation that most American Jews show “a total lack of knowledge or great<br>disloyalty” is the most anti-Semitic thing he’s ever said. He owes an apology to the<br>more than 6 million Jews in America—over 75% of whom voted Democrat in 2016.",
           "1"
          ],
          [
           "@Socialismilucra He killed Jews and Slavs and just about every other group because he was<br>an insane ethno-nationalist not because he was right wing. He was beyond racist, he thought<br>that Germans (and Austrians) were the master-race and all others were inferior.",
           "1"
          ]
         ],
         "hovertemplate": "%{customdata[0]}<br><b>cluster:</b> %{customdata[1]}<extra></extra>",
         "legendgroup": "1",
         "marker": {
          "color": "#636efa",
          "opacity": 0.85,
          "size": 7,
          "symbol": "circle"
         },
         "mode": "markers",
         "name": "1",
         "orientation": "v",
         "showlegend": true,
         "type": "scatter",
         "x": {
          "bdata": "+rJRQYZjZEEvpA9AO+CmwAIfvEGlrpvAumsrQfApDcBGedtA6/JQwPYkKUD/pehA8vSnwWBpF0G1RgxAMYIKQRa0r8CL9W5BtX0/wFnb676f02tBFG04wR6YHUF9fzpBsM7LQKzMGUGL51RBD48HQUlQIMFUNN5ALDuAwHdHFkAQIg9Bl2U3QI+6Ej62CnbARyExQQqSUL68qam+Aux9QZw84kCXYFDBazX4vuWC9cCk2dW/s3qyv7IqP8EkRetAbNcYwcoXrsBtd8hAmnIBwRLFdMCiZ5BAqppUwUuwI8HdTZfA8cEUwf3tPcHnjoFBk0kEQQ4+GEArumRBUWRuwKDqm0GmbgNBWzUkQA7bN0HkkxHBLaiUQUZ3jUFI2rHAuFphQadxA0FB6AxBD2j5QOdYxL79VtA/sM7LQGOmhUAAvTHBD9sfwVTEUEFfoc5A3Cg4wTnEvkHK13ZA1jHMv/CHE0EQR11Ba2eWQHM7FkEEbIzAvCf2QGMQEcEzi4BBB6Q7QVmLRcHH04NBUzdMwThYQcHps0a+DEbCwI4RdECbDoZB3L2YQblTjUFtn4zBUZGWwVA9YcBAhS7BAlgUwdmHYr2kFUnBYLF9QZ1HsEDnHXBBSMeDQQ==",
          "dtype": "f4"
         },
         "xaxis": "x",
         "y": {
          "bdata": "bmUowYTlhMAINPa+zDh7QIA2h8AVmNvApZIrQVZRJ0FtzBBBMDSJP9Ta2UAPM1m+4Sc7wDPIuMAEZpxAvlNXwVAZ2EChI1pBp0chQcL7RkBab/7AcBvFQbjeQ0GJAStBW4tiwY/bjsEwWZPBc0fRPjclyUFedSJBjGq3wG2rRUBAYjDBA8LoP/djKsE2M6FAwrayQWBOeMDrw0xBJuL4QJHOA8G+SltBWlxZwMUAEUEocBVB7e0MwH7Yz0FeHntBFtfIwCN7wz/bFHdAeke4wQBF3UBhUuI+gLfOQYLszUHPYhFA3mnJQZat1kEVidxAtWdCQU9dDUFAewHBqRCFQQDowsDACiNBWGmiwEf/lME2AX7BjfIAwRnJO0ErmZ1AAu5TwYxCTkGRETtBB9lzQabNO0FTPNbAW4tiwVeUHkBb2rtBB3rEQTk2KME307zAXADRQW/PfsAu34dAGDwIQYIXv8CuXIbBmPs2wIDN4793d4lBlbD1wE05GUG0QQnBSt6FwXJcQcGSx87As+fHQeFhvkGT2GtAcufxQNcykD+tkAFBxs3/v11ZPEEPlsrA0gaCQPhB/0CqQMdBpuoSQQD07r8rwMdB3vH0wCLAVkEoiFlBpefPwA==",
          "dtype": "f4"
         },
         "yaxis": "y"
        },
        {
         "customdata": [
          [
           "There will be some other crisis going on at the time where like water raises<br>3 meters and we lose most of the coast but all the mailers will be<br>like \"are they a friend of Israel?\" and \"why don't they support destroying all public<br>housing for the GrubHub Corp Headquarters?\"",
           "2"
          ],
          [
           "If Iran ever got to possess, let alone detonate a nuclear weapon, Israel would obliterate<br>mulitple Iranian military targets within hours. Israel is reckoned to have between 60 and 90<br>nuclear devices available. . .",
           "2"
          ],
          [
           "I don't see him we're supposed to meet, like, a string of these kikes in<br>here and here.",
           "2"
          ],
          [
           "Then they came for the Jews, and I did not speak out—\\n Because I was<br>not a Jew.\\n\\nThen they came for me—and there was no one left to speak for<br>me.\\n\\n#اعدام_نکنید",
           "2"
          ],
          [
           "RT @JohnEdelweiss1: Jews very pleased with the current situation in South Africa.",
           "2"
          ],
          [
           "It�s sad how some people cater to Zionist Jews feelings and are afraid to say<br>anything that upsets their fragile feelings. It�s the truth, and Israelis don�t like hearing it.<br>They live in a bubble filled with rotten rabbi shit and they feed off false<br>sob propaganda.",
           "2"
          ],
          [
           "@marklevinshow Mark Levin, another ZioNazi. This isn't about Iran, moron. Nuclear-armed, rogue, violent, aggressive, Apartheid<br>Israel and its ZioNazi amen corner are threatening world peace due to its overwhelming desire<br>for regional and global hegemony. On 9/11 Israel murdered 3,000 Americans.",
           "2"
          ],
          [
           "@_short_and_ish Jews stay rich ... keep them in ur corner for direction ... Jews own<br>soo much !",
           "2"
          ],
          [
           "To prove the role of the Jews in the martyrdom of Imam Hussein (AS), it<br>is enough that Mu'awiyah ordered his son Yazid not to have anything to do with<br>Hussein ibn Ali and not to harass him, because \\n#Hussain \\n#حبيبي_حُسين",
           "2"
          ],
          [
           "Iran, past 24 hours.\\n\\n- Fired missiles at US base in Iraq\\n\\n- Threatened to strike UAE<br>and Israel\\n\\n- Soleimani buried\\n\\n- 45 killed in stampede\\n\\n- Ukrainian Boeing 737 with 176 passengers crashes<br>near Tehran, all die\\n\\n- 4.9 magnitude earthquake in country's southwestern region",
           "2"
          ],
          [
           "According to statistics released by the FBI last November, Jews were again the victims of<br>the majority of hate crimes based on religion in the United States in 2019.",
           "2"
          ],
          [
           "Rebecca Long Bailey purged. Stance against human rights abuses in Israel and India have been<br>abandoned by Starmer. Britain needs a new socialist party.",
           "2"
          ],
          [
           "@biker_JP I call out jews all the time for their bullshit, why should they get<br>a free pass?",
           "2"
          ],
          [
           "#TheJewishVote is the electoral sister organization to @JFREJNYC. We are a home for New York<br>Jews to secure a pluralistic city in which all of us are free to thrive...through<br>the power of the Jewish vote.\\n\\nToday we’re proud to announce our first round of local<br>2020 endorsements.",
           "2"
          ],
          [
           "It really upsets certain asajews that Jews are standing up to antisemitism. They insist that<br>we can only do so after we jump through several flaming intersectional hoops and preconditions.<br>A demand no other minority group would ever be asked to comply with to receive<br>solidarity.",
           "2"
          ],
          [
           "80% of American Jews vote Democratic. We're literally the second most reliable Democratic voters after<br>black folks. Trump saying we don't know our history or are traitors is both anti-Semitic<br>AND echoes the gibberish from 1936 that is WHY we've voted Democratic since the 1960's.",
           "2"
          ],
          [
           "@AajKamranKhan I think the only lesson it teaches ???? is why the so called Muslim<br>Countries don't do anything substantive for #Kashmir Accepting Israel means accepting their subjugation of Palestine,<br>Labanon, Golan heights in Syria and also the terrorism that they generate in the world...(cont)",
           "2"
          ],
          [
           "@codepink Since Zionazi #terrorUSt$ ideologues of #USrael have yet to get the U.S. beyond economic<br>war sanctions on Iran and on to terrorUSt$' full-scale warfare on Iran, the tactic now<br>has to be getting Zionazi proxy Saudi Arabia to war on Iran.",
           "2"
          ],
          [
           "“@AIPAC is a platform for countering the bigotry that Jews the world over are subject<br>to.” #AIPACProud",
           "2"
          ],
          [
           "@Omer_C1 Ever notice how it's always the anti-Zionists who conflate diaspora Jews with Israel? Must<br>be a coincidence...",
           "2"
          ],
          [
           "Historians have a word for Germans who were complicit with the Nazi party, not because<br>they hated Jews, but because they had a misplaced sense of patriotism, or economic anxiety,<br>or dislike of their opponents, political opportunism, ignorance, or greed. That word � is \"Nazi.\"",
           "2"
          ],
          [
           "Fox News literally compared Trump supporters to German Jews in the 1930s. They really don’t<br>get it. Some of the biggest, unforgivable scumbags on the planet.",
           "2"
          ],
          [
           "The claim by the prosecutor of the International Criminal Court that Jews do not have<br>a right to live in the Jewish homeland is pure Antisemitism. So is the claim<br>that Jews have no right to defend themselves against those who seek their annihilation.",
           "2"
          ],
          [
           "“Fauci or the Jews” is trending because the Washington Post doesn’t use the Oxford comma<br>&amp; gosh Fred there’s a good illustration of why you should use the Oxford comma",
           "2"
          ],
          [
           "Democrats hate:\\n\\nBabies\\nAirplanes\\nCows\\nJews\\n\\nJust want to make sure I’m accurately following their 2020 platform.",
           "2"
          ],
          [
           "israel is set to begin annexing over THIRTY PERCENT of the west bank in less<br>than three weeks. i don’t wanna hear SHIT from liberal zionists pretending to care while<br>actively supporting a state and ideology whose very core principle is land theft.",
           "2"
          ],
          [
           "@IIIDeaton By the way, that�s the second one making such claims in a few days<br>time. Seems a Rabbi in Israel came across one said to be the Messiah.",
           "2"
          ],
          [
           "@Shenaz10 as the people that own the us, uk, france, also own israel and i'm<br>clearly not talking about presidents here",
           "2"
          ],
          [
           "@juliaioffe I’m an American Jew &amp;immigrant fr USSR like yourself. It’s unfortunately common for US-born<br>Jews to not ascertain the importance of Israel. It’s rare for Soviet Jews,who were let<br>out of that socialist shithole &amp;into US on refugee visas thanks to ISRAEL’s influence,to not<br>grasp it",
           "2"
          ],
          [
           "Jews nowadays believe that with the power of transhumanism they can achieve anything, become robotically<br>trans even, which they strongly advocate for, a theocratic leader chooses those who can transition",
           "2"
          ],
          [
           "Arabs in Israel:\\n\\n✔️Have the same rights as Jews\\n\\n✔️Ride the same buses\\n\\n✔️Go to the same schools\\n\\n✔️Go<br>to the same hospitals\\n\\n✔️Are elected to parliament\\n\\n✔️Serve as judges\\n\\n✔️Fight in the military\\n\\nIsrael isn't an apartheid<br>state.\\n\\nIt's a beacon of democracy in the Middle East.",
           "2"
          ],
          [
           "@zainabsikander Does not Quran have this \" It is duty of every muslim to kill<br>jews Christians Kafirs and Apostates \" perhaps sura 19 .Per my knowledge Mullahs in madrassa<br>aredrilling this in children ...",
           "2"
          ],
          [
           "@brat_skoff This is so harmful to Jews. It makes us seem like enemies of black<br>folks when we are among their staunchest supporters. It upholds a dangerous stereotype and the<br>police KNOW this. They’re trying to divide us.",
           "2"
          ],
          [
           "@mbueckert Well, investigating Israel hits a little too close to home, it might draw comparisons<br>to Canada’s treatment of Indigenous people’s. And we can’t have that.",
           "2"
          ],
          [
           "I respect @cthagod, but his comment that Nick Cannon’s firing proves “Jews have the power”<br>is off base. \\n\\nDid the hundreds of white people who have been fired over these<br>past few months for disagreeing with the radical goals of black lives matter prove that<br>we have the power?",
           "2"
          ],
          [
           "23 January 1943 | A transport of 2,000 Jews deported by the Germans from the<br>ghetto in Grodno arrived at #Auschwitz. SS doctors sent 235 men &amp; 191 women to<br>the camp. 1,574 people were murdered in gas chambers.",
           "2"
          ],
          [
           "@temasmith Blaming Black Jews for antisemitism WE ALSO EXPERIENCE is antisemitic and anti-Black. I’m so<br>sick of the racism in this community where I can’t even talk about my EXPERIENCE<br>OF ANTISEMITISM without being victim blamed and attack by racists who want me to shut<br>up and disappear",
           "2"
          ],
          [
           "Today’s announcement that Bahrain and Israel will establish full diplomatic relations is yet another historic<br>breakthrough secured by @realDonaldTrump. It takes an outsider to accomplish what no other President has<br>been able to do.",
           "2"
          ],
          [
           "@RealJamesWoods If they were BLM protesters, how would they deal with it? Stand down? Jews<br>need to burn down NYC to get respect.",
           "2"
          ],
          [
           "CHRISTIANS: this verse in the old testament says X\\nJEWS: It doesn't say that\\nCHRISTIAN: maybe. Who<br>knows?\\nJEWS: we do. That's not in the Hebrew\\nCHRISTIAN: no one knows what the original language<br>means\\nJEWS: Yes we do. We can read it.\\nCHRISTIAN: It's lost forever",
           "2"
          ],
          [
           "The Labour party is so full of hate now.\\n\\nHate for Tories, Jews, Israel, Blairites, Brownites,<br>America, the West in general\\n\\nWhilst a love for Venezuela, Russia, Iran &amp; Palestine",
           "2"
          ],
          [
           "@dianabuttu Palestinian didn't exist before Israel was given to the Jews after WWII by the<br>previous owners, the British. Palestinian are Egyptians and other Arabs that chosen to stay, after<br>losing the 6 day war.",
           "2"
          ],
          [
           "@NYGovCuomo Please do something!!! Thousands protesting but not practicing safety!!!! Same way Jews couldn’t gather<br>because of the pandemic and were threatened.",
           "2"
          ],
          [
           "On Holocaust Remembrance Day, we remember the six million Jews and other victims of Nazism.\\n\\nWe<br>honor their memories by speaking out against anti-Semitism, injustice, and hatred in all forms. Never<br>Again.",
           "2"
          ],
          [
           "@HSajwanization The Arabs have almost surrendered since the UAE-Israel agreement.� The banner of Islam against<br>the Jews will now be entirely the responsibility of the non-Jews.� May Allah bless you.�<br>Amen",
           "2"
          ],
          [
           "@HananyaNaftali Israel is the basis of violence and terrorism in the world",
           "2"
          ],
          [
           "Last night on the streets of London, British Jews were racially abused by a mob<br>of @uklabour supporters.\\n\\nThe footage is terrifying. Watch it.\\nIf this were any other minority group -<br>the racists would be considered Nazis.\\n\\nSo why are you treating racism against Jews differently?",
           "2"
          ],
          [
           "@mmpadellan I mean theres only a small difference... imo. They openly promoted white supremacy, indoctrinated<br>all their citizens into believing it, then proceeded to slaughter 6 million jews. But i<br>mean youd be really splitting hairs if you got into that debate.",
           "2"
          ],
          [
           "RT @White2to4: Do the Jews get to ask for reparations? They were the original slaves,<br>after all.",
           "2"
          ],
          [
           "$600 for me and $500,000,000 for Israel? Got it. Talk about goniffs",
           "2"
          ],
          [
           "Once and for all, as I�ve stated over and over again: Ashkenazi Jews are just<br>as indigenous to Israel as any Jew. Recognizing Black Jews, Jews of Color, Mizrahi Jews<br>does not negates any Jew�s connection to Israel. But y�all have to stop obsessing over<br>how other Jews identify.",
           "2"
          ],
          [
           "satan used hitler to persecute talmudic &amp; kabbalah following jews so that later they would<br>be protected. no one can speak against them. They hate Christ and believe he was<br>a bastard who practiced divination. So many people in charge are freemasons &amp; Talmudic jews.",
           "2"
          ],
          [
           "@BlakeFlayton “especially in America where our largest...[delete] [delete] [delete]...” vast majority of Jews are Zionists<br>and you can’t divorce Zionism from Judaism, and the extreme anti-Zionists are a tiny fraction<br>of our community but they sure all have twitter accounts to attack us.",
           "2"
          ],
          [
           "Jews in 1907: Planning World War One, Inventing Bolshevism, pre-writing German Surrender Documents, inventing anal<br>sex in a graveyard in Prague, creating Newspaper \\n\\nJews in 2020: ummmmmmmmmmm hehe anyways here’s<br>a video :)",
           "2"
          ],
          [
           "So let me get this straight, bhikari Pakistan is threatening to #BoycottUAE because UAE is<br>supporting Israel ???? &amp; Russia ???? against Turkey ???? This is like Imran Khan threatening<br>to boycott begging from rich countries ??",
           "2"
          ],
          [
           "It�s true that Jews were not coded as white in Europe, very much the opposite.<br>And that our white privilege in the US is conditional. AND it�s also true that<br>in the US, built as it is (literally) on antiblackness, I am seen as white<br>&amp; afforded the protections of whiteness in +",
           "2"
          ],
          [
           "Heartbreaking. Greatest police force in the world reduced to this�tasked to bully Orthodox Jews and<br>bend a knee to terrorists.",
           "2"
          ],
          [
           "UAE-Israel became friends. Saudi Arabia to follow suit soon. Where does that leave the �wanna<br>be Arabs of the World�- Pakistan? India enjoys good relations with all 3. Pakistan will<br>just become a cry baby at OIC now ??",
           "2"
          ],
          [
           "RT @BeholdIsrael: 50 years record of rainfalls in Israel within the last two weeks. The<br>level of the Sea of Galilee is rising very fast!",
           "2"
          ],
          [
           "Christians got what they wanted (“religious freedom”) in exchange for loyalty to the regime.\\nJews got<br>exterminated.\\nThat was the deal.",
           "2"
          ],
          [
           "The World used to be artificially divided between Whites &amp; Blacks;Poor &amp; Wealthy;Muslims,Christians,Jews&amp; Hindus;Super Powers<br>and Non Powers;First World &amp; Third World;Western World &amp; the rest of the World;Now is<br>between testing Positive &amp; testing Negative #staysafe #Convid_19",
           "2"
          ],
          [
           "How does it matter that whether the Muslims are right, Christians, Jews or other religions<br>believing in savior? We shall all accept the savior, whether be ours or yours. During<br>this harsh section of humanity life, we should pray god to send him the sooner<br>#ThePromisedSaviour",
           "2"
          ],
          [
           "@LomaahhMore Lomaahh, if he becomes the nominee, I think that a lot of Jews will<br>Jexodous from the Democrat Party! I'm not sure how you would feel about that, but<br>I think it's time for them to leave. Even without considering the rising antisemitism, the<br>party has just gone stark raving mad.",
           "2"
          ],
          [
           "Gonna come out here and say it: Fellow Jews, racism towards Black people is an<br>issue in our community too. You have a responsibility to listen to us, learn from<br>us, and make us feel welcome in the community. The othering and erasure of black<br>Jews needs to stop.",
           "2"
          ],
          [
           "In last 7 days (Lockdown-2) India surpassed countries like South Korea, Japan, Israel, Saudi Arabia,<br>Austria, Sweden, Ireland etc in total #Covid19 cases. Many of these countries were worst affected<br>at one point of time.\\n\\nIn fact, our cases are almost double of South Korea now!",
           "2"
          ],
          [
           "NYTimes� opeds calling for the end of Israel, the tiny sliver of land where Jews<br>exercise sovereignty in their ancestral home: -Muammar Qaddafi, 1/21/09 -Peter Beinart, 7/8/20 Can anyone recall<br>the NYTimes publishing opeds urging the end of any other nation (&amp; UN member)? Hmm.",
           "2"
          ],
          [
           "@hamedmoj Ah yeah, Haifa In ISRAEL is a beautiful city!!! Jews, Muslims, Christians, Bahai all<br>living together in harmony!!! Only in Israel!!!! 👏🏼👏🏼",
           "2"
          ],
          [
           "The Jews are the ones who kill him, and they incite the killing of children,<br>women, youth, and the elderly.",
           "2"
          ],
          [
           "$500,000,000 for Israel\\n$2 billion for Air Force missile procurement and related expenses\\n$4 billion for Navy<br>weapons procurement\\n$2 billion for Space Force\\n135 million to Burma\\n85.5 million to Cambodia\\n1.4 billion for the<br>Asia Reassurance Initiative Act (what ever that is)",
           "2"
          ],
          [
           "I keep seeing this narrative here about how the Jews were passive and meek during<br>the Holocaust, didn’t protest, and it makes me furious. It is wrong, it is dangerous,<br>and it is harmful af. \\n\\n1/x thread",
           "2"
          ],
          [
           "ISRAEL IS PLANNING TO ANNEX THE WEST BANK ON JULY 1ST WHICH MEANS TAKING ALL<br>THE LANDS OF PALESTINE WHICH MEANS THAT PALESTINE WILL BE WIPED OFF THE MAPS!! COMPLETELY!!!<br>DO SOMETHING ABOUT IT PLEASE RAISE AWARENESS AND SIGN PETITIONS!!!!!!!!!!!",
           "2"
          ],
          [
           "@descripticon Communism is described by religious Jews as \"secular Jewish messianism\"...they got tired waiting for<br>moshiach (Messiah)&amp;decided to take over the world for themselves.why dyu think the world's biggest bankers<br>were behind communism?",
           "2"
          ],
          [
           "Gotta tell ya. Antisemitism is really sickening.\\n\\nWanna know what else is sickening?\\n\\nSeeing the same people<br>who baited Jews for 4 years and tried to get Corbyn into power - hijacking<br>an attack on British Jews just to make political capital out of it and pretend<br>they care.",
           "2"
          ],
          [
           "Brad Pitt movie Meet Joe Black\" changed to Smithenheimer and jews are outraged! Then changed<br>to Miller and Amish outranged.",
           "2"
          ],
          [
           "ZioNazi calmly says the Torah tells Jews it's OK to kill idol worshippers, including Christians",
           "2"
          ],
          [
           "Food for thought:\\n\\n-~25m jews vs ~60m brahmins \\n-2K years vs 10K years of existence \\n-Jews<br>faced only Nazi vs Brahmins faced Buddhists, Islamists, X-tians and now other Hindus",
           "2"
          ],
          [
           "The Communist attacked Christian &amp; Jews, Observe how the DNC has done the same thing:<br>WW IRS, FDR Separation of Church &amp; State, BHO Gay Rts",
           "2"
          ],
          [
           "Our Administration will never tolerate the suppression, persecution, or silencing of the people of Israel.<br>Under President @realDonaldTrump, we have fought for the Jewish people on the world stage and<br>at home:",
           "2"
          ],
          [
           "The #Antisemitism I have read in response to the stabbing of Monsey Jews in Rockland<br>County is astounding. Black people, white people and others with hate for their fellow man<br>because they are Jewish. I pray that these people are the minority.",
           "2"
          ],
          [
           "India &amp; Israel developing Covid rapid testing kit for results in less than 30 seconds.\\n\\nIsrael<br>will transport mechanical ventilators to express its gratitude for India's authorisation to Israel for acquiring<br>medicine, masks &amp; protective gear in initial stages of Covid-19 outbreak",
           "2"
          ],
          [
           "RT @cchukudebelu: \"Jews are using Aisha Yesufu to destroy Islam in Nigeria\". The amount of<br>sheer madness in Nigeria is unquantifiable.",
           "2"
          ],
          [
           "\"American Jews\" has been trending for the last few hours and folks, that's never a<br>good sign.",
           "2"
          ],
          [
           "It is #HolocaustMemorialDay. \\n\\nThe Nazis targeted \\n\\nJews\\nRomani people \\nDisabled people \\nQueer and trans people\\nPeople with<br>the “wrong” political beliefs \\nSlavs\\nand others. \\n\\nNever again means we all have to stand together<br>when any of us is under attack. \\n\\nNever again is now.",
           "2"
          ],
          [
           "#BREAKING: President @realDonaldTrump has announced that Sudan and Israel have agreed to the normalization of<br>relations— another major step toward building peace in the Middle East with another nation joining<br>the Abraham Accords 🇸🇩 🇮🇱 🇺🇸",
           "2"
          ],
          [
           "@adamgarriereal No it wouldn't. They would have surrendered in 1938 and joined in the abuse<br>of the jews.",
           "2"
          ],
          [
           "@TrumpJew Remember everyone, Jews never do ANYTHING wrong, and antisemitism is always the result of<br>irrational HATRED from goyim who are JEALOUS of jewish success. Jews are the best, most<br>virtuous, innocent people in the world.",
           "2"
          ],
          [
           "@ntsikimazwai Oh, did you also know that the freedom charter was drafted by the white<br>jews in the anc? Kudala basiphatha abelungu. That is why I have never and never<br>will support the anc. Ngumbutho wabelungu lowa.",
           "2"
          ],
          [
           "It is #HolocaustMemorialDay. \\n\\nThe Nazis targeted \\n\\nJews\\nRomani people \\nDisabled people \\nQueer and trans people\\nPeople with<br>the “wrong” political beliefs \\nSlavs\\nand others. \\n\\nNever again means we all have to stand together<br>when any of us is under attack. \\n\\nNever again is now.",
           "2"
          ],
          [
           "LRT... I feel like publishing really needs an education on Palestine and Israel. It's especially<br>disheartening to see a Palestinian author approach this with so much care and diplomacy�DESPITE HER<br>PAIN�and be ignored in such a way.",
           "2"
          ],
          [
           "A mentor to Justin and Chrystia!! Wow, Canada is in great hands ??. Explains Justin�s<br>betrayal of Israel at the UN, no? @CPC_HQ",
           "2"
          ],
          [
           "13 April 1943 | A transport of 2,800 Greek Jews deported by Germans from ghetto<br>in #Thesaloniki arrived at the #Auschwitz camp. During the selection SS doctors sent 1,936 people<br>to be murdered in gas chambers. 500 men &amp; 364 women were registered in the<br>camp as prisoners.",
           "2"
          ],
          [
           "Why the changes to Luke 23:34? Father, forgive them, for they know not what they<br>do. KJV Father, forgive them, for they do not know what they are doing. NIV<br>Father, forgive them, because they do not know what they are doing. Holman Is Jesus<br>forgiving the Jews, or the soldiers?",
           "2"
          ],
          [
           "1388.just bc nazi israelis pretend they'r jews it doesn't mean they get to violate humanrights.&amp;just<br>bc some cover countries have jews in power positions&amp;feel that isr is exempt bc of<br>the holocaust,it also doesn't mean they get to abuse humanrights. from oppression to oppressor g",
           "2"
          ],
          [
           "I will say this until the day I die I hate ISRAELIS AND ANYONE WHO<br>SUPPORTS THEM fuck Israel ????",
           "2"
          ],
          [
           "And WTH is the #GOP? If they think any Jews or people of color (or<br>Danes) will EVER trust them again after their silence on all this - they are<br>sorely mistaken.",
           "2"
          ],
          [
           "This Holocaust Remembrance Day, we honor the six million Jews who were killed during the<br>Holocaust &amp; we remind ourselves of our continuing responsibility to fight back against those who<br>try to divide us. #YomHaShoah",
           "2"
          ],
          [
           "*_What Israel gains:_*\\n\\n_▪️Settlers will no longer be subject to military management._\\n_▪️Settlement limitations will be removed<br>in the future._\\n_▪️Israel will control 30% of the West Bank._\\n\\n*_What the U.S will give Israel:_*\\n\\n_▪️Consent<br>for Israel’s control over settlements._",
           "2"
          ],
          [
           "24 June 1943 | A transport of 1,600 Jews deported by the Germans from ghetto<br>at Środula district &amp; hospital in Sosnowiec, and ghetto in Będzin arrived at #Auschwitz. SS<br>doctors during the selection sent 19 men &amp; 6 women to the camp. 1,575 people<br>were murdered in a gas chamber.",
           "2"
          ],
          [
           "CHRISTIANS: this verse in the old testament says X\\nJEWS: It doesn't say that\\nCHRISTIAN: maybe. Who<br>knows?\\nJEWS: we do. That's not in the Hebrew\\nCHRISTIAN: no one knows what the original language<br>means\\nJEWS: Yes we do. We can read it.\\nCHRISTIAN: It's lost forever",
           "2"
          ],
          [
           "Israel has been bombing Gaza for 8 consecutive nights! The silence from the media and<br>international community is shameful #GazaUnderAttack",
           "2"
          ],
          [
           "@swilkinsonbc Is the UN still looking in the opposite direction from ZioNazi Israel’s War Crimes?",
           "2"
          ],
          [
           "Fuck Israel and fuck the mothers of every single one of their supporters.",
           "2"
          ],
          [
           "Warning : Pakistan's state media have started frothing venom against Hindus and Jews. Govt of<br>India should immediately call for population exchange between India and Pakistan. India has a moral<br>right to demand safe passage for percecuted minorities in South Asia.",
           "2"
          ],
          [
           "Until 1917, some of my ancestors were serfs and others couldn't live in any major<br>city in Russia bc they were Jews. In 1941, my grandfather was taken as a<br>slave labourer to Germany. My grandmother was born in a Soviet concentration camp. Hit me<br>up when the reparations start.",
           "2"
          ],
          [
           "@RationalSettler “The murder of Jews is the ultimate honor”, a known Hitlerian slogan, proudly in<br>use by the Palestinian Authority and its 50+ terrorist gangs. And the world looks on.<br>No, in fact it endorses &amp; funds terrorism",
           "2"
          ],
          [
           "RT @mehrettt: This is a perfect example of how Jews across NYC are allowed to<br>do as they please.",
           "2"
          ],
          [
           "But Emma, as a Jewish girl, has no issue when Jews only date other Jews.<br>Really, it's only a problem for her when it's White on White preference.",
           "2"
          ],
          [
           "It’s not enough to memorialize the Holocaust.\\n\\nWe barely acknowledge:\\n\\n🔯 cultural &amp; physical violence against Soviet<br>Jews\\n\\n🔯 ethnic cleansing of Mizrahi Jews\\n\\n🔯 state persecution of Kaifeng Jews\\n\\n🔯 institutional antisemitism in France<br>&amp; UK\\n\\nthe war on Jews didn’t end in 1945.",
           "2"
          ],
          [
           "@bopanc Wow!, Merkel has let in illegals Migrants, and most are Muslims, and they want<br>to push out Kikes!",
           "2"
          ],
          [
           "@MeganPlays Did Meggan Roblox literally kikes me out of Roblox and now I cant play.<br>On my sisters account they took away all her pets on adopt me",
           "2"
          ],
          [
           "Israel is shutting down COVID-19 Clinics in PALESTINE and THEY ARRESTED THE STAFF. Palestinians don�t<br>even have the RIGHT TO GET TESTED FOR CORONA DURING A PANDEMIC! I�m so tired<br>of seeing my peoples BASIC HUMAN RIGHTS CONSTANTLY being violated.",
           "2"
          ],
          [
           "Antichrist will not be a Muslim Jews would never accept a Muslim Christ",
           "2"
          ],
          [
           "@SpokespersonCHN The Chinese ambassador died after the US Secretary of State visited Israel. There is<br>some black in the pulses.",
           "2"
          ],
          [
           "I’m simultaneously a “Zionazi” for saying “after the Holocaust the Jews really needed a homeland<br>&amp; this is what we’ve got so probably a bit extreme / murdery to destroy<br>it now” &amp; an idiotic “lib” for saying “hey Palestinians also have rights &amp; maybe<br>let’s not shit on those”",
           "2"
          ],
          [
           "There seems to be some misunderstanding out there re the BoD.\\n\\nYes, it's an org that<br>represents some UK Jews. \\n\\nBut also yes, it's an org that is constitutionally committed to<br>advancing Israel's security, welfare and standing.\\n\\nAs such, it plays a role within the UK Israel<br>Lobby.",
           "2"
          ],
          [
           "Bizarro history a la Rashida Tlaib @RashidaTlaib: \"Arabs warmly welcomed Jews to the land after<br>the Holocaust\". \\nSo wrong and not even close. Exactly the opposite. Arabs violently opposed Jewish<br>immigration for decades, closing the door to Jews at their greatest hour of need.",
           "2"
          ],
          [
           "@Scripteladora Tell me more about how Israel oppresses Jews of Iran, please tell me more<br>Ariel. Why don�t you ask Israel�s first rapper Subliminal, who�s family was welcomed gladly into<br>Israel when they were forced out of Iran after their money/homes were taken from them<br>by the Iranian gov",
           "2"
          ],
          [
           "@swilkinsonbc ZioNazi regime in Israel has been engaged in ethnic cleansing for decades right before<br>our eyes &amp; with impunity &amp; there is not a single world leader condemn this<br>crime against humanity this shows the zionist regime in Israel is untouchable, terrifying",
           "2"
          ],
          [
           "Moses�s goodbye speech. Moses stood before the entire congregation of Israel and declared, �Well, goodbye.�<br>- Deuteronomy 33:1-2",
           "2"
          ],
          [
           "Imagine if there were even half of the attention paid to the huge rise in<br>hate crimes against Jews and the massive anti-semitic response to the Sanders campaign as to<br>the fact that random accounts with 8 followers on twitter are mean.",
           "2"
          ],
          [
           "Asshole Joe Biden must be confused about why Israel loves Trump. Could it be because<br>Israel doesn't believe the Fine People Hoax? I mean, you'd have to be the dumbest<br>fucker in the world to think Israel would let that pass IF IT ACTUALLY FUCKING<br>HAPPENED. Ask @Israelipm.",
           "2"
          ],
          [
           "@Jerusalem_Post so jews like Bernie Sanders, Harvey Weinstein, and Woody Allan gave bad impressions of<br>jews to many Americans. \\n\\nthats changing. now Americans are getting exposure to practicing or conservative<br>jews who are patriotic and capitalist. Ben Shapiro, Dave Horowitz, Benjamin Netanyahu.",
           "2"
          ],
          [
           "Sikhs have the spirit to make world peaceful. Dear christians, muslims, jews and bodhis lets<br>be together to kill the evils.",
           "2"
          ],
          [
           "@palinfoen Israel settlers are psicopath zionazis murderes, the scum of many other countries. 😡",
           "2"
          ],
          [
           "@NBCNewYork So if only those jews stayed where they belonged there wouldn't be any antisemitism.<br>Congratulations on the first worst take of the decade.",
           "2"
          ],
          [
           "Warning. Every land that rid if its Jews w/persecution, secularization/conversion, threats, exile, genocide destroyed itself.<br>Because as we know the toxin was never us - but those blaming us for<br>society's failures. The toxin was these failures- &amp; antisemitism their manifestation.",
           "2"
          ],
          [
           "British people love to talk about saving Jews from the Nazis. Do you imagine they<br>were flown in by benevolent aircrafts? \\n\\nThey came in the bowels of boats, on crowded<br>trains, walked for miles across mountains. They were turned away at ports, put in prisons,<br>called invaders.",
           "2"
          ],
          [
           "I can name Nigerians/people of Nigerian descent who have excelled in their fields; Anthony Joshua,<br>Israel Adesanya etc., but you'll be hard pressed to find anything of world standard created<br>by Nigerians in a group.\\n\\nAnd that is one of our biggest problems.",
           "2"
          ],
          [
           "Isaiah 45:17 But Israel shall be saved in the LORD YAHAWAH BAHASHAM YAHAWASHI with an<br>everlasting salvation: ye shall not be ashamed nor confounded world without end.",
           "2"
          ],
          [
           "@TheRaDR It is indeed correct. For a number of reasons, first and foremost zoning. By<br>forcing jews to live extramuros for the majority of European history, in settlements just outside<br>city walls, coupled with kashrut and general greater attention to hygiene, spared a lot of<br>Jew cmties.",
           "2"
          ],
          [
           "JLM and the LFI are weaponising antisemitism within @UKLabour it's clear they want speaking out<br>against Israel banned . I for one shall not be told that we can't speak<br>up for the people of Palestine and criticise Israel I would rather leave the party.",
           "2"
          ],
          [
           "Will apparently found the person complaining about leftists calling Jews kikes, searched his TL and<br>put him on blast to discredit him. so that's where chapo comes in. not directly<br>approving, but providing cover for his shitty podcast buddies.",
           "2"
          ],
          [
           "@WileyCEO Jews marched arm in arm with MLK and were almost the only whites to<br>support the ANC for decades.",
           "2"
          ],
          [
           "I'm the bad guy. Yeah that is awesome. I was doing what rock n roll<br>taught me to do. Then some Jews and Ns in company with bitches tell me<br>i got a cellphone.",
           "2"
          ],
          [
           "Next time you hear Erdogan supporting Palestine remember that:\\n\\n- Israel is one of Turkey’s top<br>trading partners\\n\\n- Turkey is part of pro-Israel NATO and conducts military training with Israel\\n\\n- Turkey<br>and Israel are occupying/fighting Syria, the last Arab pro-Palestine cradle",
           "2"
          ],
          [
           "1247 Meknes: Jews were again offered Islam or death in Meknes, many were massacred 1275<br>Fez: Moors massacre 40 Jews in Fez 1290 Baghdad, Iraq: the Jews of Baghdad are<br>massacred 1465 Fez: the entire Jewish community of Fez is again massacred",
           "2"
          ],
          [
           "100 years ago.\\n\\nMarch 1 1920 Arabs attack Tel Hai\\n(8 Jews killed, Jews leave village).\\n\\nMarch 3<br>1920 Arabs attack Kfar Giladi\\n(Jews leave village).\\n\\nApril 1920 - Arabs attack Jews in Jerusalem.\\n\\nThis violence<br>led to the creation of the Haganah. The seeds of the IDF were planted.",
           "2"
          ],
          [
           "... Oh, and of course, \"baby killing Zionazi\" and \"k!ke\"\\n\\nThat seems to go without saying.",
           "2"
          ],
          [
           "@TXLADY7061 In the Bible, Magog is Turkey. We are moving forward. It is Turkey who<br>will attack Israel.",
           "2"
          ],
          [
           "NJ arrested and fined 15 Jews for attending their Synagogue, denying them the religious rights<br>enshrined in the Constitutions Bill of Rights.. Did they arrest any Muslims for celebrating Ramadan<br>at a Mosque? I haven't heard of any arrests of Muslims, have you?",
           "2"
          ],
          [
           "Last night the Democrats doubled down on their hatred of whites, Jews, and America.\\n\\nAnd RINOs<br>like the McCains joined them. \\n\\n@GOP still hasn’t condemned the “Republicans” speaking at the DNC.",
           "2"
          ],
          [
           "So far in 2020 “woke” people have complained about TOO protection given to Jews being<br>beaten and stabs and about the most evil man in the world being killed...",
           "2"
          ],
          [
           "@NathanJRobinson What a strange type of white supremacy. It allows Jews, black Africans, Latinos, Asians<br>to do well in the USA. ??",
           "2"
          ],
          [
           "Nigerians shouldn't let overzealous religion hamper public safety from Coronavirus. Saudi Arabia, Israel, the Vatican,<br>others have restricted religious congregation. Science is part of God's creation. Let's take medical precautions,<br>and observe social distance while we pray!",
           "2"
          ],
          [
           "It�s insane how the news of Israel bombing Gaza barely makes it to the newspapers.<br>It�s so normalized and Palestinian lives are so dehumanized by the West that they don�t<br>even believe it�s relevant news.",
           "2"
          ],
          [
           "The UAE has come out in the open with their unholly alliance with Israel. Using<br>\"stopping annexation\" as an excuse to continue to claim to be pro Palestine. But like<br>we we said when the gulf Arab states waged war on Syria, they were always<br>doing it on behalf of Israel.",
           "2"
          ],
          [
           "@anewjusta It's too unsettling to teach the Holocaust. And it was only Jews... So there's<br>that... &lt;insert sarcasm font&gt;",
           "2"
          ],
          [
           "Notice the fake news media won�t even report on the terrorist attack on the Orthodox<br>Jews but if the suspect they captured was White we would hear about this on<br>every fake news media channel for months.",
           "2"
          ],
          [
           "@leftyjew I agree and believe Judaism is a nationality as well as a religion, and<br>that Jews deserve their own state in their ancestral homeland, Israel, in the same way<br>the French people deserve France or the Welsh people deserve Wales and so on.Zionism is<br>a species of colonising .",
           "2"
          ],
          [
           "75 years after the liberation of Auschwitz, we remember the 6 million Jews murdered by<br>the Nazis and all Nazi victims, including Roma, gay and disabled people. On this special<br>#HolocaustMemorialDay we recommit to fight hatred and prejudice everywhere. #Auschwitz75 #StandTogether",
           "2"
          ],
          [
           "@CityBureaucrat \"Unlike old colonial powers, even early Zionist leaders saw Jews and Muslim Palestinians living<br>side by side.\"\\n\\nYeah, Stern Gang was really great at fostering tolerance.",
           "2"
          ],
          [
           "Pakistan 🇵🇰 has strong Friendly / brotherly relations with Saudi Arabia 🇸🇦\\n\\nWill 🇸🇦 be the<br>next one after UAE 🇦🇪 to accept Israel 🇮🇱 and direct flights between 🇸🇦 and<br>🇮🇱 ?\\n\\n#Pakistan #SaudiArabia #UAE #Israel #Islam #IsraelUAE #IsraelUAEDeal #UAEIsrael #UAEStabsMuslims",
           "2"
          ],
          [
           "10 February 1944 | A transport of 1,015 Jews deported by the Germans from #Westerbork<br>in occupied Netherlands arrived at #Auschwitz. SS doctors sent 142 men &amp; 73 women to<br>be registered in the camp. 800 people were murdered in gas chambers.",
           "2"
          ],
          [
           "@legallybae a more realistic narrative is that most “true” democrats aren’t on the Bernie circus<br>train and Jews are not on it in the same proportions as gentiles. But that’s<br>definitely not something the cult wants to highlight. So instead they selectively highlight the classic<br>“villains”.",
           "2"
          ],
          [
           "\"We can't afford to be so politically correct anymore!\" Get ready niggers, faggots ,beaners, dykes,<br>kikes, etc. the gloves are off.",
           "2"
          ],
          [
           "The only anti-semitic trope even remarkably close to shouting \"piggy Morty\" involves Jews ingesting or,<br>doing other... unmentionables w/ pigs. This connection is a major stretch of the imagination.",
           "2"
          ],
          [
           "The Holocaust was legal. Slavery was legal. Segregation was legal.\\n\\nPeople who hid Jews in their<br>homes were criminalized. People who freed slaves were criminalized. People who stood up for equality<br>&amp; justice were vilified and criminalized. \\n\\nLegality is not a guide for morality!",
           "2"
          ],
          [
           "Why so? Because soon Passover, Pesach, will be upon us.\\n\\nAbout 3500 years ago we Jews<br>became what we now call preppers, probably the first ones. Upon leaving Egypt we had<br>to figure out how to make bread, quickly, in the wilderness, this we know as<br>Matzo.",
           "2"
          ],
          [
           "@swilkinsonbc If the Zionazis thought they would get away with it, they would have gas<br>chambers for the Palestinians. They only want Lebensraum for new settlers and I think it<br>must be obvious that they do not see the Palestinians as human beings at all.",
           "2"
          ],
          [
           "Keir Starmer's conflation of Jews and the State of Israel in sacking Rebecca Long-Bailey is<br>classic, knee-jerk antisemitism. \\n\\nAs defined by the code Labour signed up to. \\n\\nHe must therefore<br>resign as Leader.\\n\\nLet him forensic himself out of that.",
           "2"
          ],
          [
           "@willchamberlain 75% of American Jews voted for Obama despite the fact his pastor of 20<br>years was critical of Israel. If the majority of American Jews don't view criticizing Israel<br>as antisemitic, why do you?",
           "2"
          ],
          [
           "@MartinDaubney I’ve never understood why there is this hatred of Jews. We don’t see them<br>rioting on our streets, raping young white girls, stirring up racial hatred in our cities,<br>especially London etc. They just live quietly law abiding lives and work hard.",
           "2"
          ],
          [
           "Jews could no longer handle all of the love, tolerance, and peace that the Noble<br>Ones were levying at them. So they fled. For example, we left Lebanon because we<br>were loved too much. Jewish extermination and exodus from Arab lands is proof that Arabic<br>Jews are Islamophobic.",
           "2"
          ],
          [
           "As I look at the rhetoric in the Jewish community around the violence visible Jews<br>are experiencing, I feel like well meaning (and I'm giving the honest good faith here)<br>people on the right and left are polarizing this issue for their existing view of<br>what Jews need",
           "2"
          ],
          [
           "@DavidBCohen1 The strength of conviction of Hindus &amp; Jews can be measured by the fact<br>that conversion is not a basic tenet of their faith. We believe in being good,being<br>righteous, not just being many. Hindus &amp; Jews have faced centuries of persecution &amp; genocide,<br>yet we're still here.",
           "2"
          ],
          [
           "There are worldly jews, which have a bad rep. They love money too much and<br>need to be tested. Then there's me, I will spend my money on whatever God<br>deems necessary. My money will go towards building God's kingdom. Other people can worry about<br>the poor, like Doug.",
           "2"
          ],
          [
           "been very focused on the music business - quick break from that to speak to<br>my fellow jews. we speak with ZERO nuance about the warsaw ghetto uprising. just strictly<br>an act against murder and evil. lets bring that same passion and zero tolerance to<br>racism in america.",
           "2"
          ],
          [
           "@RajRitu9 This is how stereotypes get falsely reaffirmed.\\nRun the same argument with \"black people steal\"<br>or \"Jews are greedy\" or \"women are hoes\" and it will still reach the same<br>conclusion.\\nDoesn't mean that it's right.",
           "2"
          ],
          [
           "30 March 1942 | 1st mass transport of Jews from occupied #France arrived at #Auschwitz<br>from the #Compiègne camp with 1,112 people. Part of them were also interned in #Drancy.<br>The transport did not undergo a selection process - all people were registered. 23 of<br>them survived.",
           "2"
          ],
          [
           "I keep seeing this narrative here about how the Jews were passive and meek during<br>the Holocaust, didn�t protest, and it makes me furious. It is wrong, it is dangerous,<br>and it is harmful af. 1/x thread",
           "2"
          ],
          [
           "Today 722 yrs ago 20.000 Jews were massacred in Wursburg, Germany, after rumors of a<br>Jew desecrating a piece of communion bread.\\nNo wonder some Jews are suspicious of Christians, with<br>this history of persecution OR indifference toward it.\\nWe're called to be our brother's keepers!",
           "2"
          ],
          [
           "People get upset when some Muslims compare our plight/current situation to Jews in Europe circa<br>1920s/early 1930s. But the president tonight praised/endorsed a woman who calls Islam a �cancer� &amp;<br>demands Muslims be banned from public office. And most journalists have said nothing.",
           "2"
          ],
          [
           "Ben &amp; Jerry�s literally operates a factory in Israel�built on top of an ethnically cleansed<br>Palestinian village�that runs on water stolen from Palestinians. It�s frankly absurd that they�re pretending to<br>be against �unequal, racist� policies when they�re profiting off of them.",
           "2"
          ],
          [
           "RT @SamSlamDunkIAm: \"I'm not antisemitic, I'm just against Jews feeling safe in Israel. \"",
           "2"
          ],
          [
           "@AJEnglish Ok it's ok. No problem. But where are those liberal champs who say Israel<br>is only democracy? This man is talking about control because kings ruled here. Isn't that<br>a 3000-4000 years old phenomenon? How will you rationalize it in present context?",
           "2"
          ],
          [
           "In 1348, Pope Clementine issued two papal bulls cautioning that Jews couldn't be the cause<br>of the Black Death, because there was no pattern linking Jewish habitation and plague\\n\\nNobody cared\\n\\nToday,<br>nobody cares that there is zero link between lockdowns and COVID-19 deaths",
           "2"
          ],
          [
           "It's becoming clearer by the minute how spineless and appeasing the US ZioNazi empire's opponents<br>on the Left actually are. From #Corbyn to #Putin to #Xi and everywhere else, the<br>motto is 'Hide your head in the sand and appease the Empire...don't retaliate!'#CapeTown #SouthAfrica",
           "2"
          ],
          [
           "Regardless of the current story we hear, the Polish assistance to the Jews during the<br>Ghetto Uprising was vital and determined. Without Polish aid, there would be no real uprising.<br>Poles also fought and died in this crucial event and should be identified for their<br>heroism.",
           "2"
          ],
          [
           "@DEsfandiary Ignore them. They're a bunch of ZioNazis foaming at the mouth.",
           "2"
          ],
          [
           "�Holocaust was legal -People who hid Jews were criminals �Slavery was legal -People who freed<br>slaves were criminals �Segregation was legal -People who stood up for equality and justice were<br>criminals Our government and laws aren�t a guide to human decency and morality.",
           "2"
          ],
          [
           "Things that aren't actually to blame for coronavirus:\\n\\n1) The Rothschilds (aka Jews)\\n2) The New World<br>Order (aka Jews)\\n3) The Illuminati (aka Jews)\\n4) The Chinese (aka the Chinese)\\n\\nThings that are to<br>blame:\\n\\n1) Evolution (and no, Charles Darwin wasn't Jewish, despite the beard)",
           "2"
          ],
          [
           "1 Cor 1:22-24\\n\\nThe Jews demand miracles and the Greeks look for wisdom, but we are<br>preaching a crucified Christ; to the Jews an obstacle that they cannot get over, to<br>the pagans madness, 1/2",
           "2"
          ],
          [
           "Fox News is where people who hate blacks, people who hate Jews, people who hate<br>Gays, people who hate Latinos, and people who hate Muslims can all gather to pretend<br>they are just people who hate Liberals.",
           "2"
          ],
          [
           "People think that Hollywood is run by Jews but it’s actually run by pedophiles and<br>serial rapiats of all ethnicities and religions",
           "2"
          ],
          [
           "�Judeo-Christian� isn�t a thing. It a) positions Jews &amp; Christians against Muslims, is Islamophobic b)<br>elides Christian oppression &amp; murder of Jews over more than 1000 years &amp; c) ignores<br>Jewish civilization worldwide &amp; facts of key Jewish developments in Middle East &amp; N Africa.",
           "2"
          ],
          [
           "They better shut that shit down. Christians and Jews couldn�t worship at their places of<br>worship, then muzzies shouldn�t be allowed to either",
           "2"
          ],
          [
           "Anyway, the point of texts like the protocols of the elders of zion is to<br>claim that capitalism run by a secret cabal of rich Jewish people and if you<br>just get rid of the Jews we can 'go back' to a more 'heroic' time<br>without credit and debt or whatever.",
           "2"
          ],
          [
           "On International Holocaust Remembrance Day, we mourn the lives of 6 million Jews who were<br>systematically murdered.\\n\\nToday and every day, we must redouble our efforts to confront anti-Semitism and all<br>forms of religious discrimination and say #NeverAgain.",
           "2"
          ],
          [
           "Meanwhile, kids in a Philly mosque caught on video singing about beheading Jews. The call<br>to jihad is global, it knows no borders. There will never be 'peace' between the<br>Israelis and the Fakestinians. Their doctrine of Sharia won't allow it. Dar al harb vs<br>Dar al Islam.",
           "2"
          ],
          [
           "@swilkinsonbc Unless the civilised world does something to stop them, the zionazis will implement their<br>Endlösung (final solution) to the Palestinian \"problem\", and that will also involve gas, but in<br>chambers. They have emulated the German nazis in pretty well every other way",
           "2"
          ],
          [
           "@irishzionist Arabs and Jihadi supporters scratching their heads wondering how they can blame Jews. \\n\\nWait<br>until a Gazan gets eaten by a shark lol",
           "2"
          ],
          [
           "Today we honor the memories of the 6 million Jews who lost their lives during<br>the Holocaust. As we do so, it is imperative that we never forget the lessons<br>learned so that �never again� remains a reality. #HolocaustRemembranceDay",
           "2"
          ],
          [
           "@anasinqilabi How will the Muslim World feel if Israel converted Al Aqsa mosque into a<br>synagogue? \\n\\nOr if crusaders ever converted the Kaaba into a church?\\n\\nHagia Sophia was, is and<br>will forever remain a historic orthodox byzantine church NO matter what evil Erdogan’s regime do<br>with it.",
           "2"
          ],
          [
           "@swilkinsonbc Don't those zionazi snipers have any kind of a moral compass? They shoot and<br>kill unarmed people who are only protesting for their rights.",
           "2"
          ],
          [
           "British people love to talk about saving Jews from the Nazis. Do you imagine they<br>were flown in by benevolent aircrafts? They came in the bowels of boats, on crowded<br>trains, walked for miles across mountains. They were turned away at ports, put in prisons,<br>called invaders.",
           "2"
          ],
          [
           "Fox News is where people who hate blacks, people who hate Jews, people who hate<br>Gays, people who hate Latinos, and people who hate Muslims can all gather to pretend<br>they are just people who hate Liberals.",
           "2"
          ],
          [
           "ZioNazis are on the prowl, the Orcs are coming. Block. Block. Block. No argument. Just<br>block.",
           "2"
          ],
          [
           "RT @eliyahu_george: kinda sick of goyim being casted as jews whilst more Semitic-looking jews struggle<br>for roles",
           "2"
          ],
          [
           "@LeighStewy It's really sad to think about how many innocent kind Jews died in the<br>Holocaust and Susan's family weren't taken instead ??",
           "2"
          ],
          [
           "1938 Germans truly believe that Jews are evil and must be exterminated. By Any Means<br>Necessary!\\n\\n2020 Democrats truly believe that Patriots are evil and must be \"re-educated\" or exterminated. \\nBy<br>Any Means Necessary!",
           "2"
          ],
          [
           "Ilhan Omar says that for Jews “it’s all about the Benjamins.” This requires a fairly<br>sophisticated knowledge of culture and the English language. “Benjamins” refers to Franklin who’s on the<br>$100 bill. Ilhan’s anti-Semitism is deliberate &amp; not due to poor comprehension of English",
           "2"
          ],
          [
           "Fascists hate blacks, Jews, Muslims, gays, academics, feminists, and intellectuals. Anti-fascists hate ... fascists.",
           "2"
          ],
          [
           "\"Don't take the Jews and the Christians for friends; they are friends of each other.\"\\n\\n<br>-Al Qur'aan 5:51.",
           "2"
          ],
          [
           "@MichailBoris I think there's no UN when you talk about the right of Muslims.\\nUN is<br>made for the rights of American and jews' Dogs.",
           "2"
          ],
          [
           "Past/ Emergency Supply: � France ???? will deliver additional Rafale Jets. � Israel ???? will<br>deliver Air Defence system and Bombs. � US ???? delivers Precision Artillery rounds and Intel.<br>� Russia ???? will make early deliveries of Ammunition and Weapons. \"Sabka Sath Sabka Vikas\"",
           "2"
          ],
          [
           "#Palestine now faces complete extinction as #Israel's US backed ZioNazis plan full annexation.The US-blackmailed UN<br>&amp; Islamic &amp; #Arab govts other than Iran all turn their backs. This is the<br>worst, most disgusting dereliction of moral duty in modern times. #Capetown #SouthAfrica",
           "2"
          ],
          [
           "Fucking Jews, other franchises giving out way more shit for half court shots",
           "2"
          ],
          [
           "that called out the * directly in a veiled way, in which he clearly called<br>them kikes (in the original cuts you can't find anymore, that's where the word \"kike\"<br>is from, ) and that was the end, before he could make a comeback they<br>killed him and blamed it on drugs.",
           "2"
          ],
          [
           "@ApostateRidvan It’s only bad when Hitler hates Jews and kills them when Mohammed does it,<br>it’s peaceful hate and murder",
           "2"
          ],
          [
           "@Vanoossaa They gave the Jews all the money they need they don�t give not 3<br>fucks!!!! They gon look the other way",
           "2"
          ],
          [
           "It is #HolocaustMemorialDay. \\n\\nThe Nazis targeted \\n\\nJews\\nRomani people \\nDisabled people \\nQueer and trans people\\nPeople with<br>the “wrong” political beliefs \\nSlavs\\nand others. \\n\\nNever again means we all have to stand together<br>when any of us is under attack. \\n\\nNever again is now.",
           "2"
          ],
          [
           ".@kschnurbein’s German forefathers murdered Jews by the millions in the name of German Values. Today<br>in name of “European Values” and to cover up her Nazi guilt, @kschnurbein applauds as<br>Israel murders and dispossesses Palestinians and she claims this = “atonement.”",
           "2"
          ],
          [
           "Nothing suspicious about this! The Cold War Spy Johnathan Pollard who spent 30 years in<br>prison lands in Israel greeted by Ben Netanyahu. I don�t need another person telling me<br>to wait for judgement on Netanyahu. He�s seriously a danger to the US and to<br>Israel.",
           "2"
          ],
          [
           "The Nazis murdered millions of Jews because they were \"unwanted.\"\\n\\nWe murder millions of unborn babies<br>because they are \"unwanted.\"\\n\\nPeople are valuable not because they are \"wanted\" but because they are<br>people.",
           "2"
          ],
          [
           "It’s much easier to blame Orthodox Jews for a contagious disease outbreak than it is<br>to translate public health materials into Yiddish, recruit community leaders, and do community education on<br>the disease",
           "2"
          ],
          [
           "I read Israeli newspapers reporting US Intel briefed Israel on Covid-19 in November 2019",
           "2"
          ],
          [
           "The World must not just hold the Caucasian west accountable for racism;The Arabs,Jews,Indians and the<br>Chinese have over the years also demonstrated an equal degree and intensity of hatred for<br>black people.We must have the moral courage to call them out for a real change.",
           "2"
          ],
          [
           "@HananyaNaftali God Bless the Brave Sons &amp; Daughters of Israel.\\nLove &amp; Prayers from the UAE<br>&amp; Kerala, India.",
           "2"
          ],
          [
           "Read this thread in full so that you can understand why Russian-speaking Israeli Jews are<br>at the forefront of reducing the political influence of Haredi parties, who enable and shield<br>this travesty to Jewish law and Jewish peoplehood.",
           "2"
          ],
          [
           "\"Jews must stop bringing religion into this fight because don't want religious extremism in our<br>resistance. Why can't they come out as normal Germans and not Jews? Unless our movement<br>is secular and committed to Germany, it won't win against Nazi fascism.\"",
           "2"
          ],
          [
           "I am MUSLIM.\\nChristians kill me in Iraq.\\nBuddhists kill me in Burma.\\nJews kill me in Palestine.\\nHindus<br>kill me in Kashmir.\\nAtheists kill me in New Zealand.\\nBut still, I am the terrorist \\n#NewZealandShooting<br>#ChristchurchMosque",
           "2"
          ],
          [
           "republicans sure do love israel for a group of people that hate jews so much",
           "2"
          ],
          [
           "Really something just profoundly moving to consider all of the awful, dangerous conditions under which<br>Jews have had seders throughout the millenia and how a seder in a pandemic over<br>Zoom is a kind of a link in a chain back through that history.",
           "2"
          ],
          [
           "(Acts 29:23164) AND SO THE WHITE PEOPLE began calling themselves \"WHITE JEWS\" like today, that<br>inhabit devil's murderous White Supremacist White Superiority Nazi Gestapo Hitler Israel of the Middle East,<br>still demon Communist guided today, the WHITE JEWS impostor fraud people,",
           "2"
          ],
          [
           "if increasing police presence doesn’t actually prevent/reduce hate crimes or increase the safety of Jews<br>targeted, but it *does* place Black people at increased risk of police violence, racialized overpolicing,<br>etc., the only people who benefit from this response are politicians",
           "2"
          ],
          [
           "Following @haaretzcom query, The Prime Minister’s Office added that in #UAE talks, Israel “has not<br>changed its consistent positions against the sale of tie-breaking arms and advanced defense technologies to<br>any state in the Middle East”",
           "2"
          ],
          [
           "@HowardA_Esq The Germans didn’t just wake up one day and say “the Jews gotta go.”<br>\\n\\nSeduction doesn’t happen suddenly. It happens slowly, it takes its time to supplant itself into<br>your reality. \\n\\nThe pathway to hell, and to all tyranny is paved with good intentions.",
           "2"
          ],
          [
           "All of this talk about American Jews supporting Trump because of Sanders' anti-Israel stance is<br>premised on a common assumption: That American Jews are single issue voters on Israel. That<br>hasn't been the case for decades -- if it was ever true.",
           "2"
          ],
          [
           "BREAKING: Israel is now introducing quarantine FOR ALL PEOPLE entering the country.\\n\\nThe quarantine is for<br>14 days and even Israeli citizens must be quarantined when entering the country.\\n\\nWhy didn't we<br>do this a month ago?",
           "2"
          ],
          [
           "The most dangerously anti-semitic ideology in human history is the one that promises and aims<br>for the extermination of all Jews: Islam.",
           "2"
          ],
          [
           "In 1920 when Arab rioters killed Jews in Jerusalem there was no Israel. Nor in<br>1921 Jaffa, 1929 Hebron or 1938 Tiberias. 1000s of Jews were killed before any 'occupation'<br>Oslo's 'peace' only saw even more murdered Jews. Israel can't end this. The hatred of<br>Jews must end first.",
           "2"
          ],
          [
           "IDF believes a mortar was shot into Israel and landed in an open space a<br>short time ago.",
           "2"
          ],
          [
           "ZioNazis are on the prowl, the Orcs are coming. Block. Block. Block. No argument. Just<br>block.",
           "2"
          ],
          [
           "And thus we will rest on the Jews, and upon the earth.",
           "2"
          ],
          [
           "Iran became the peaceful, open, friendly, America-loving, Israel friendly, non-terrorism-supporting Utopia that it is today<br>thanks to policies of Dems &amp; pallets of cash. How dare @realDonaldTrump mess up such<br>a great relationship!",
           "2"
          ],
          [
           "�Florida becoming the epicentre of Coronavirus, I asked God to do that.... because Jews stopped<br>us helping brothers in Cuba� - Farrakhan�s sermon this weekend Yet Democrats continue to celebrate<br>this murderous vile anti-Semitic terrorist.",
           "2"
          ],
          [
           "@OxfordDiplomat After the war, Britain and the US decided to give Palestinian land to Zionists<br>settlers, they did it, so they could loot the ME, under the guise, they were<br>protecting Israel.",
           "2"
          ],
          [
           "@AlexandraChalup A human rights hobbyist that likes offending Jews by comparing someone that followed through<br>on killing over 6 million Jews to a guy who is defenitly a bad president<br>and a borderline racist? Ya, so why don’t u call anyone who’s somewhat of a<br>racist in power Hitler too!",
           "2"
          ],
          [
           "Dr Priya Gopal likens attack on Muslims, their mosques, homes &amp; businesses in New Delhi<br>to the pogrom of Jews carried out by the Nazis, esp in 1938 � the<br>Kristallnacht (Night of Broken Glass)when Nazis attacked Jews, their synagogues, homes, businesses.� #HindutvaVsArabWorld",
           "2"
          ],
          [
           "The people who believe this official secrets act crap are the same sort that think<br>5G causes coronavirus, jews run the world and that the world is flat. It�s bollocks.<br>You are bollocks. Get in the bin.",
           "2"
          ],
          [
           "They didn�t just blame the virus on another country, they blamed EVERYTHING on EVERYONE else:<br>Blacks, Muslims, Jews, LGBTQ+, etc. They even blamed people with underlying health conditions, because why<br>not?? Any individual and group living on the fringe of society was marked.",
           "2"
          ],
          [
           "Today we remember the 6 million Jews and others killed by the Nazis, together with<br>all other victims of genocide and oppression past and present. With prejudice, racism and hatred<br>of the other on the rise again, it's never been more vital that #WeRemember. #HolocaustMemorialDay",
           "2"
          ],
          [
           "On International Holocaust Remembrance Day, we mourn the lives of 6 million Jews who were<br>systematically murdered.\\n\\nToday and every day, we must redouble our efforts to confront anti-Semitism and all<br>forms of religious discrimination and say #NeverAgain.",
           "2"
          ],
          [
           "@icecube Cube, this is an Anti-Semitic trope. Please take it down as it suggests Jews<br>control everything. And trust me, we don’t. Because if Jews controlled everything, I would be<br>rich af &amp; Donald Trump would be in prison #DoBetter",
           "2"
          ],
          [
           "Like many Jews, I am temped to endlessly discuss the extent to which Taika Waititi's<br>Jewishness informed Jojo Rabbit, but I don't want to take away from the fact that<br>he is also a M?ori from New Zealand and that people with this heritage also<br>know a thing or two about genocide.",
           "2"
          ],
          [
           "TIL Harvard invented the college interview and evaluation of extracurricular activities to weed out Jews<br>in the selection process.",
           "2"
          ],
          [
           "As Israel moves forward with the annexation of the West Bank, and mainstream British politics<br>is gagged of the right to critique Zionism, and Israel’s settler colonial pursuits, we loudly<br>and clearly stand beside our Palestinian comrades. \\n\\nFREE PALESTINE.",
           "2"
          ],
          [
           "@Gemini728616565 Yes people don�t know who runs the top industries in the world the run<br>the entire music industry fashion banking food travel and they are all Jews that�s not<br>anti~Semitic it�s facts!",
           "2"
          ],
          [
           "#OTD in 1943, when Jews were being rounded up across Nazi-occupied Europe, Bulgaria did what<br>no other nation in Europe did – defied the Nazis to save its Jewish population<br>of nearly 50,000. Their courage reminds us to take a stand each and every day<br>against injustice.",
           "2"
          ],
          [
           "@GiladAtzmon �The road to a genuine revolution in Judaism � to making it humane, allowing<br>Jews to understand their own past, thereby re-educating themselves out of its tyranny � lies<br>through an unrelenting critique of the Jewish religion.� Israel Shahak (1994)",
           "2"
          ],
          [
           "On Holocaust Remembrance Day, we remember the six million Jews and other victims of Nazism.\\n\\nWe<br>honor their memories by speaking out against anti-Semitism, injustice, and hatred in all forms. Never<br>Again.",
           "2"
          ],
          [
           "@ogclovis I bought a fucking skate board lol I am insane. Jews don�t skate board",
           "2"
          ],
          [
           "when it was GCSE History class and I learned about the 6 million Jews that<br>died to the hands of Nazis, i couldn�t believe how cold hearted the Germans were<br>! 75 years later our Uyghur Muslim brothers and sisters deathcount has surpassed The Holocaust<br>, YET THE WORLD STAYS QUIET?!",
           "2"
          ],
          [
           "Prime Minister Imran Khan has categorically said that Pakistan could not recognise Israel as a<br>state unless it gave freedom to Palestine.\\n\\n#PakForeignPolicyForPeace \\n@Team4Pakistan",
           "2"
          ],
          [
           "@GeographyNow So many Judeo languages on that map, undeniable that Jews were really important in<br>the Arab world.",
           "2"
          ],
          [
           "Name one Republican that isn't owned by the banks..donors..corporations...Israel... and that is a true \"of<br>the people for the people\" politician. There is no such thing. Same goes for the<br>Democrats. They are a criminal cabal. Both party's.",
           "2"
          ],
          [
           "I see that @JarvisDupont is also suspended by Twitter. Kristallnacht was the Night of Broken<br>Glass, a pogrom against Jews carried out by the Nazis in Germany. We are in<br>the midst of Twitter's own Kristallnacht.",
           "2"
          ],
          [
           "CHRISTIANS: this verse in the old testament says X JEWS: It doesn't say that CHRISTIAN:<br>maybe. Who knows? JEWS: we do. That's not in the Hebrew CHRISTIAN: no one knows<br>what the original language means JEWS: Yes we do. We can read it. CHRISTIAN: It's<br>lost forever",
           "2"
          ],
          [
           "@IlhanMN Lots of American Jews feeling no Love for Right Wing Criminals in Israeli Government.<br>#IStandWithIlhan",
           "2"
          ],
          [
           "@danielocarmon As you know, Hindus of India have tremendous respect for Israel &amp; Jews. \\n\\nThe<br>way israel handles its safety &amp; security while being surrounded &amp; hounded by neighbours is<br>very inspirational !!!",
           "2"
          ],
          [
           "I always love hearing Dems talk about America. Obama just now: \"Jews and Catholics, Muslims<br>and Sikhs, made to feel suspect for the way they worshipped. Black Americans chained and<br>whipped and hanged. Spit on for trying to sit at lunch counters. Beaten for trying<br>to vote...\"",
           "2"
          ],
          [
           "STOP ATTACKING BLACK JEWS.\\n\\nBlack Jews are a part of our Jewish community.\\n\\nBlack Jews are not<br>responsible for what happened in Jersey City.\\n\\nBlack Jews are not Black Hebrew Israelites.\\n\\nBlack Jews are<br>in mourning too.\\n\\nOur Jewish community is only safe when Black Jews are too.",
           "2"
          ],
          [
           "@dufrianord Well all Jews has to be traumatised in early years so they can accept<br>zionism",
           "2"
          ],
          [
           "I see there's been some fake trollish outrage on here about Jews making jokes about<br>Nazis. They're going to have their minds blown when they find out about Mel Brooks.",
           "2"
          ],
          [
           "THE LAST JEWS IN YEMEN ARE ABOUT TO BE ETHNICALLY CLEANSED. THE LAST JEWS IN<br>YEMEN ARE ABOUT TO BE ETHNICALLY CLEANSED. THE LAST JEWS IN YEMEN ARE ABOUT TO<br>BE ETHNICALLY CLEANSED. THE LAST JEWS IN YEMEN ARE ABOUT TO BE ETHNICALLY CLEANSED. THE<br>LAST JEWS IN YEMEN ARE ABOUT TO BE E",
           "2"
          ],
          [
           "I am a Muslim. \\nISIS kill me in Syria and Iraq.\\nJews kill me in Palestine.\\nHindus<br>kill me in Kashmir.\\nBhuddists kill me in Burma.\\nChristians kill me in Afghanistan and Africa.\\nAn Australian<br>kill 50 muslims in New Zealand. \\nBut still i am the TERRORIST. #NewZealandMosqueAttacks",
           "2"
          ],
          [
           "It was powerful to march with thousands of Jews today, in the face of antisemitism.<br>I am so proud of the vibrant Jewish Left that showed up. We won’t be<br>pushed out of our community, we won’t silence our voices, we won’t check our values<br>at the door. We are #JewishAndProud.",
           "2"
          ],
          [
           "When orthodox Jews in NYC were enduring a measles epidemic, they were met with attacks<br>not empathy.\\n\\nWhen they were enduring a wave of anti-semitic attacks they were ignored.\\n\\nNow in the<br>midst of a pandemic they are being scapegoated based on actions of a few.\\n\\nEnough.",
           "2"
          ],
          [
           "@ChaimDeutsch What possible explaination could those Hasidic Jews have for congregating in the thousands during<br>this global pandemic crisis? They blatantly broke the law and put my life and my<br>fellow New Yorker’s life in danger. I couldn’t be prouder of what mayor Deblasio did<br>and said.",
           "2"
          ],
          [
           "What's a special relationship with Israel other than a relationship with war, racism, apartheid, surveillance,<br>division, brutality, propaganda, lies, arrogance, disrespect, abuse, arms sales, drones, ultra right-wing politics, land theft,<br>steel barriers and walls?",
           "2"
          ],
          [
           "@MoroccanIndex when palestinians are constantly pushing out christians and literally banned all jews in gaza",
           "2"
          ],
          [
           "@kingvukan \"Serbian anti-Semitism\" is Croatian subversion and deception. Jews,being a people of great intellectual prowess,have<br>great potential for both good&amp;evil.Serbian Jews have mostly been a positive force in our history&amp;we<br>have no reason to hate them(quite the contrary).",
           "2"
          ],
          [
           "The agreement between Israel and UAE is historic. UAE, being one of the most influential<br>Islamic power centre not only now recognizes the State of Israel but also is formally<br>engaging in an agreement. \\n\\nIndia, at the same time, maintains strong relations with both!",
           "2"
          ],
          [
           "@michel_ehrlich \"We believe Jews can't tell the difference between criticism of Israel and antisemitism.\"\\n\\n\"We believe<br>Jews can tell the difference but conflate them anyway, knowing this is a dirty trick,<br>in order to silence criticism of Israel.\"",
           "2"
          ],
          [
           "@AnonnDownnUnder I find nazis despicable for all of their atrocities, for their hatred, their inhumane<br>treatment of anyone that would not fall in line. Yeah, nobody seems to advocate for<br>Jehovahs witnesses or gays that died with the jews. Can we not hate nazis for<br>the absolute shit they were?",
           "2"
          ],
          [
           "Just last month everyone cared about racism when Jews weren't safe in this country anymore.<br>Now there's no such thing as racism in the UK because it's black people...",
           "2"
          ],
          [
           "@icecube I don�t know what�s up with the American Jews always being offended. They literally<br>seem to have forgotten about our own history and our black ancestors ??",
           "2"
          ],
          [
           "Does the @nytimes want to help combat anti-Semitism? Report accurately on anti-Semitic jihadists targeting Jews<br>with rockets.",
           "2"
          ],
          [
           "Citizens of Israel, our accomplishments measure up to every global standard, all the more so<br>since we live in a very small and crowded country. Therefore, your achievement here is<br>very important.",
           "2"
          ],
          [
           "Jews are shot dead in synagogues, media outlets run antisemitic cartoons, Jewish centres are seen<br>as places to 'march on', Jewish businesses are targetted &amp; newspapers run polls about boycotting<br>a music festival just because it is in the Jewish state.\\n\\nWhat a wonderful world.",
           "2"
          ],
          [
           "are jews a problem ? probably but its only my relatives so i just duff<br>them up again lol, but i dont know what that was other than his other<br>kid and their murderous ways like on that phone in palestine.......",
           "2"
          ],
          [
           "The Synagogue controls the East &amp; West\\n\\nThe Jews control the cinema and the film industry,<br>not only in America but in almost all countries of the world, including the Soviet<br>Union. The textile industry and the cotton trade is also nearly everywhere in the hands<br>of Jewry.",
           "2"
          ],
          [
           "That said, I was wrong. I should have done more research before saying anything. In<br>such research, I found that this particular temple does support Israel and regularly supports trips<br>and classes there. They do support apartheid and that is horrific.",
           "2"
          ],
          [
           "@JareerKassis OTOH, your moral superiority is fact based. Your neighborhood in Ramallah had lots of<br>Jews attending nearby Bir Zeit University. Palestinian society has welcomed people of all faiths in<br>an effort to build a beautiful diverse mosaic.",
           "2"
          ],
          [
           "@LevineJonathan If the gays are hating Jews, I think the Messiah will soon appear.",
           "2"
          ],
          [
           "Medieval and Renaissance Europe had nothing approaching capitalism, but Jews were still associated with finance<br>and banking, and therefore with hardship faced by ordinary people. Saying capitalism causes antisemitism doesn't<br>just ignore that, it concedes the basic premise",
           "2"
          ],
          [
           "So why are Jews forced and not allowed to wear a kippah in Congress when<br>this Muslim hating Jew can wear a hijab?",
           "2"
          ],
          [
           "NYTimes’ opeds calling for the end of Israel, the tiny sliver of land where Jews<br>exercise sovereignty in their ancestral home:\\n\\n-Muammar Qaddafi, 1/21/09\\n-Peter Beinart, 7/8/20\\n\\nCan anyone recall the NYTimes publishing<br>opeds urging the end of any other nation (&amp; UN member)?\\n\\nHmm.",
           "2"
          ],
          [
           "It’s unclear who @POTUS is claiming Jews would be “disloyal” to, but charges of disloyalty<br>have long been used to attack Jews. As we’ve said before, it's possible to engage<br>in the democratic process w/o these claims. It's long overdue to stop using Jews as<br>a political football.",
           "2"
          ],
          [
           "They're removing the roof top technological devices that the kikes exposed that was probably causing<br>so much cancer, mind reading, etc. What to do ? Could we not confiscate them<br>? Emitting waves on our people ! Discuss.",
           "2"
          ],
          [
           "It�s much easier to blame Orthodox Jews for a contagious disease outbreak than it is<br>to translate public health materials into Yiddish, recruit community leaders, and do community education on<br>the disease",
           "2"
          ],
          [
           "@BowenBBC The BBC took part in the campaign to smear Corbyn and the left, and<br>in doing so have endangered Jews and emboldened fascists. Many Jews have explained how the<br>smears harm the fight against antisemitism.",
           "2"
          ],
          [
           "@talkRADIO If it were made about Israel, there’d be howls of “Antisemitism!!” So yes, it<br>was racist.",
           "2"
          ],
          [
           "I wonder why @IlhanMN, who: �Accused American Jews of dual loyalty �Claims Israel has \"hypnotized\"<br>America �Has been endorsed by anti-Semite David Duke �Tweeted \"it's all about the Benjamins\" in<br>reference to Jewish people Supports sanctions on Israel but not on Iran ??",
           "2"
          ],
          [
           "@travislasanimas Israel has done it! They have taken in Jews. Try to find a condo<br>in Tel Aviv for less than half a million dollars! God has blessed Israel. God<br>can do the same with the US!",
           "2"
          ],
          [
           "The progressive left and alt-right are Tweeting almost the exact same things to me about<br>DASTARDLY JEWS today, so I guess we can finally say we know where the \"common<br>ground\" is in politics. 😳",
           "2"
          ],
          [
           "@saintvalent1ne Charlamenge said that Jews have all the power to get what they want and<br>shit",
           "2"
          ],
          [
           "why can't both the samaritans and the jews be favored by God",
           "2"
          ],
          [
           "BREAKING: Netanyahu: Everyone who enters Israel from abroad will have to be in self quarantine<br>for 14 days",
           "2"
          ],
          [
           "Corporate mercenaries, oil and gas shills, spooks, pro-Israel flacks, influence peddlers, bundlers, billionaires, weapons contractors,<br>Pharma lobbyists, union-busters, health insurance industry execs, bank directors�a real who�s who of everything rotten<br>in the Democratic Party.",
           "2"
          ],
          [
           "Jews can never be friends of Muslims. If the PTI government tries to recognize Israel,<br>the worst will come.\\n#NoToIsraelYesToPalestine",
           "2"
          ],
          [
           "When islamists say \"The Saudi authorities must ensure the exercise of the freedom of belief<br>to all\", they mean nothing different than what's applied in islamic countries since 1400 yrs:<br>allow Christians, Jews, Hindus etc to worship their gods, but kill Muslims if they leave<br>Islam",
           "2"
          ],
          [
           "@campbellclaret Glyn Secker, who recently called me a fifth columnist &amp; said Jews were in<br>the gutter with rats has also not been expelled yet. Priorities are all wrong.",
           "2"
          ],
          [
           "LOL LARPing minoriies really are menatl!! deport to africa! let me build wakanda!! send jews<br>too!",
           "2"
          ],
          [
           "Israel remains everything that South Africa aspired to become but with a greater and more<br>accomplished thirst for genocide.",
           "2"
          ],
          [
           "sorry white jews are still pretending it's antisemitism to state the plain fact that jewish<br>people can AND DO work to uphold white supremacy? STILL? it's 5781 this is tired.",
           "2"
          ],
          [
           "RT @CatPrince33: How come when I say Jews run the world I get called anti<br>Semitic? Nigga that�s a COMPLIMENT",
           "2"
          ],
          [
           "#BDS#supporters \"pervasive anti-Semitic rhetoric among boycott supporters that too often equates all things Israel and<br>Jewish with the oppression of Palestinian rights.\" @jstreetdotorg",
           "2"
          ],
          [
           "Fox News is where people who hate blacks, people who hate Jews, people who hate<br>Gays, people who hate Latinos, and people who hate Muslims can all gather to pretend<br>they are just people who hate Liberals.",
           "2"
          ],
          [
           "3). In October 1936, Jeremy Corbyn’s mother participated in the battle of Cable Street indefence<br>of British Jews after British fascists had staged an assault on the area. Corbyn was<br>raised in a household passionately opposed to antisemitism in all its forms.",
           "2"
          ],
          [
           "Jews and Muslims can wear skull caps.\\n\\nSikh can wear turban and carry katar.\\n\\nTribals can openly<br>flaunt their tattoos. \\n\\nChristians flaunt their cross. \\n\\nBut many lose their mind when a brahmin<br>wears janeu !!",
           "2"
          ]
         ],
         "hovertemplate": "%{customdata[0]}<br><b>cluster:</b> %{customdata[1]}<extra></extra>",
         "legendgroup": "2",
         "marker": {
          "color": "#EF553B",
          "opacity": 0.85,
          "size": 7,
          "symbol": "circle"
         },
         "mode": "markers",
         "name": "2",
         "orientation": "v",
         "showlegend": true,
         "type": "scatter",
         "x": {
          "bdata": "Q33BQLMBhUAVXcPAf2Qowc8rLEEmwmQ/nl2oQIL82z8vkfS/c6Y7Py+XyMCzEga/p1kfwP5lf8FY513AiQSEwTqNScF8Iq9AJbIewW9UAUHnHppARF0IQRfp98APtFXAIrpaQV7Prj/A9YvA++VLwe5zi8FaIOy/yJY1wfCgo8CUT4HBVRprwHFE98CWdbvBvupLwSO40EBWJOc/JDvgwfyAn0Ha4DDAnLOwQIYBv8EKnELAg/c3wWK1+8AyLkg/w+XPv4+RL0EG2bq/yZObQchpbMFD5Uy/MHIPv7xlOMGGaHzAS1UIQU0eOMCmABRAgLejwb9cFT5YpzlBXZBxwSYaHD+cg4PBp2SFPCVzI0A0ni9B2Y2CwVmu+kA9DSnBfO49QFUWgED+E19AOL8HQDrAmsHn/+rA0kUXwbfXT0GzPCFBhEcgQKlBeMH3c8hA8fH1wLQB9sCH7BHBqUF4wVa1lj8AUSbAfKK5wZJ1I0AqEv0/KyJvQXcsr0DmU63B0UdSQXYTvMEkO+DBt15DQPe57b48b16/dEy/QBU5EsG9NzLBDfnuQLtBJcF26YvBIf8RQS+A1MDXkOnAORRIQRurf8CTspbBspcQwTp5eMA+iKFALFe2Pi47XT8FX6vAbjhYQUV2o0B3p2tAM9lWPQlsJMAtnDRBhaWjwcPQq8DNPxpA6NwKwFfTEMGJRSZBkRSMwMlbMMG/Nm1AV07QwAwVacC8smJA0jsJQW7Hi0AfVtbAwX8xwaWkA8HqmUo/lsJ2PgZ6iUCNJxrBLWCYwKsDRsFV8KrBiIA1QFN6CEHvnbjBRFJOwe5tg8BmeWNBG12xQTiYh8GWolE/IUpBwI/Y6L9AAWnBU0JdwWexNMHm85HBiCSjQMqNC8AOBjW/xda3weWNgsErIc3AMze6QI48HkDoPkdBuLsSQV3BTMBFObjA1o7/wOmNCkAUUbFBWVMWwdkmFMGw5ctB7Vj5QIAHnsGS0H1Ae4WmwDgbtMHblSNBD4AlwbdeUMADFKPBw1EsQUmemEAkp6PBsOXLQZhJ0MGbazRB6FHiQMDgg0BLt8k/uUdeQY76jkDwqsi/Oe1qQaTWFT8o3TBAvONZQaktjr9XJs0/qUF4wUoisMDFyNlAXtqAQDUNu0HfpQQ/z18AwbsIocFxDcPAV3tiwasRgMFPkaBBs0cbwHTVH8GqRhPBaJyrQCQwyEC3YPI/olEuQWmtV0G1CqzAmARWQJhJ0MEhgINBgPchQDaqYMDsG6k/muadQegQBMHJsTLBUr1zQLeOr8E4G7TB+HZQwX0xN0Gbq8PAQ8c5QCzxNcHv68vAIue1wIYBv8Ej+CZAEICZvwRKl0D3o0XBeQcYwT4vA8FeNODB1b08v5QVpcFJ2bZAIRwGwXi0g8DJqVnByEgDP2ASgMHkkoPBB71MQBiZ98CdOd8/W8bUQLyGQcFz6wlBftaLwJuD+r9gllXArnWEwXxMW0ESvVY/cREqwRHWHUE+FjTBLvoBwIryecBLnDhB0wTyQE4elsChhIPBMz8IwP8fZsE1DbtBwDzuwO4ZFsHALQVAuzehQPOVhsHQfM4/gpKJwOtJOkGnxPtADtA6QUdJLUAEqZdAbB6OQFDI7kCrThnBRbwYQW7mTEGw5ctBRiq2wFXSgsA=",
          "dtype": "f4"
         },
         "xaxis": "x",
         "y": {
          "bdata": "fYDEwPYZn0Bpc5c/F08aQLBnecGmuIPBuJS3QBWBAMC62RHBY9aqQCMwRMDSVvA/dTikwXsoZ79Z+kPB4yIfP/6SiMDaxs5AZP7+wEjmOT+15pDBEEpxQeoCLMGHbbvApLVMvzSWF0CBWnY+XCFgv/TaQMEdvYjBc9nnPvhoGEHcfMNASTk0wYsvMMFvqVBBBF+DQLLJMUEyh5PBMIriwJtgrkCrPWrAdeiJwXqr17/YC6XAVPl6wPfibcBg/U7BRjakwdJH4EA4h06/uRgLwT2UgUA3OerAiHsMQeV1gsHJHgnBSI/6QLnuB8CdEeTAZ/ERwVWpKsEKU6/AUFmTQHnJQ7+dGYnBlnH4wHJjOMEKz9xARKuDQUj+NUDPjwjBaIppwaxnmr/rexfBgj7Yv6SmEsElfgrBLqVQwSP84kDLBYXBOIVEQVRUuMFkiyZBJIDmPoDEz8D2HZ/AVFS4wZNcckDvE8BAhlNUQQ9oqcEfL3rB1VKBPzb8l8FmIKe+Ks5zQLcATkEwiuLAl6BAQevFLEF3G3U/zH0QQImOn0DciWjAiEGIwY3kksH4ZiHBVmMqwW8RNkGcz7hAGjHhPzwatL8YkjnBSeFXQao8gsBkKnNAXlv3QPYlZz97oVDAIQ4aQdYm4r9FnxvBLtXavQvk4cBXAd2/1yXrQK0gIsE3fJjAIhcVPotY3D/UmpnAOf4+wJByzECnAMFAHoetwG1dc8AfPty+q2pTQL7x8MCQpmPAMcMWQX81i8F7lgc/YyyBwe9Q9UD8S29B4+VAQbpjyL7xWzfA8WyEPsyiBEHKgU5BRUoVwW+JS8Hlx3tB3yGBPxcVKsDZsKPBd1Yzul2OhEADidg/r6znwLibOcEf7ezAkZUZv1vW8D+Q1T/BUOdAQT2rg0GcR6zAQgkgwcfdycF6NJPBonBGQNStG0B+kGlBLBzaP++Ex8Hx3YA/5OvywCZYBsFvNRDAPfJwwFzLHcHjLJrA0H73wL5stDsh4fM/o532v+tohcFOBpK/LGUYQLPVAMGKG+tAbzUQwOfkZMHWp2nB9kisvpD3lsDGGRRBnt0pv1fu0sBVYchA6PJNQN2h2UAgCyXA5+mkwJwFZsGKCqHBVFS4wTbDa0BLNbdAsqqXwQByH0EGq61AHPUFwT/0GsH3gmvBaK4BQFIsKUGXlKtArgMPv/SAh8GTjVXBgX0fQWcMgsDVhSVBNlylQARab0Hn0J/ApWVNQOfkZMG6yFpA1CWXQKRgI0GBcp3B22qowFC8I8D829nA6nKKwce9R8C+bLQ7CnJbQbyTgMDzAp6/rK3bQJz9y8AnRUhAw9cNv3qr178EO66/pcuvwPJ/EkGzigHBqbR1vgFCKcAAqeLAPEClQJEqKcE1J30/qtK2weBmYsHiTe1A7w2swLcmKUEXVdy+8qKXwZ6fiUApQKQ/7jAbwTtAHUGNWg1BVFYrwZz9kcGFnGZAtv3bP5k7hkG7Ig1Aq4ggwQuwasBARH/An44dQBQRhUGN0VA/KSI4wGTAcsFoGYnBD5gdwXJrB8EAch9BEFEfvxDDZ0GO2SpBqEc0QcHrMsCc6mrBETuMwcY1mkBVrpdA4I++P/WcAsGFsV5Bbt8QwFUjEMAm0obBBmmnwXUwfEFvNRDA4qEKwK1gfME=",
          "dtype": "f4"
         },
         "yaxis": "y"
        },
        {
         "customdata": [
          [
           "That's right, Jews. . . But where have you been, to be honest? . .",
           "0"
          ],
          [
           "@FreePalstine3 The true Jews to understand well what I can say?I wish I could make<br>it private send you.",
           "0"
          ],
          [
           "@iamhamzaabbasi Even Pakistanis can visit Jerusalem. You can remove Israel visa sticker (and Israel permits<br>it) after your visit to Haram as Sharif, Al Aqsa. Many Pakistanis visit this way<br>(remove visa stickers after visit; browse You Tube for such videos)",
           "0"
          ],
          [
           "@RudyGiuliani Corruption is you covering up 9/11. You are utterly corrupt, cowardly, and evil -<br>a ZioNazi and nefarious traitor, giving aid and comfort to the ZioNazi enemy that attacked<br>the US on 9/11.",
           "0"
          ],
          [
           "Here's the deal. If you, after hearing Jews speak up about antisemitism over the last<br>week or so, are still praising Farrakhan or are spreading his words... You're no longer<br>just indifferent to the antisemitism. You're now actively stating \"fuck the Jews.\"",
           "0"
          ],
          [
           "Then Pilate asked Jesus “Are You the King of the Jews?”\\n\\nHe answered and said to<br>him, “It is as you say.”\\nMark 15:2",
           "0"
          ],
          [
           "Here's the thing, progressives: if you want to vote Labour, do so. But don't tell<br>Jews that you're doing it *despite* the anti-Semitism thing; that you know that's very shameful,<br>but in the grand scheme of things etc etc. Because all we hear is: Jews<br>don't count.",
           "0"
          ],
          [
           "@realDonaldTrump You know US Israel relation is not getting to its high potential. You probably<br>know who can help. Americans should be liking to have their ally standing in Middle<br>East. But it won't happen as well as we need w/o your helping. The first<br>hit was iron dome..",
           "0"
          ],
          [
           "RT @coolrunning8: Hitler was funded by Whom Jews The same jews Whi scream Anti SEMITISM<br>Burning candle both Ends Either way You WIN",
           "0"
          ],
          [
           "According to ZioNazis in order for you NOT to be anti Semitic you have to<br>support israel’s murder of Palestinian children daily. You have to praise the illegal occupation of<br>Palestine and support the bombings and besiegement of Gaza. Then maybe, you’re ok... that’s the<br>mentality.",
           "0"
          ],
          [
           "have you ever noticed how when Christians are religious they�re considered devout and righteous but<br>when Jews and Muslims are religious they�re all extremists and part of a brainwashed cult<br>or is it just me",
           "0"
          ],
          [
           "I just heard Trump doing the antisemitism thing against the US Democrats. Casually switching between<br>'Israel' and 'Jews', misquoting, misrepresenting, falsifying.\\nWitch hunters: you are indistinguishable from the racist liar in<br>the Whitehouse. \\nNice company you're keeping.",
           "0"
          ],
          [
           "Could you imagine being German in the 30s and being like, \"I don't hate Jews<br>at all. I have Jewish friends. But you can't deny that Hitler is doing great<br>things for the economy so I'm going to vote for him.\" That's what y'all sound<br>like.",
           "0"
          ],
          [
           "dear antisemites: please stop telling the Jews what is and is not antisemitism. though you<br>might be experts in trafficking hate, you do not get to define it for us.<br>signed, the jews",
           "0"
          ],
          [
           "@PHARAOH_ATEN_ Well you can�t just get on YouTube and call all Jews bad and evil<br>??",
           "0"
          ],
          [
           "RT @koshersemite: Accounts ran by Nazis pretending to be Jews that you should definitely report:<br>A THREAD",
           "0"
          ],
          [
           "@tonyschwartz Consider this: What if your teacher told you that the Holocaust was a story<br>Jews made up to advance Zionist claims to a homeland in Israel? Would you try<br>to educate him? Or would you conclude that your teacher was an unapologetic anti-Semite. Could<br>you continue the relationship?",
           "0"
          ],
          [
           "@LearsiReverof The threat to the Jews isn't nazis or jihadis but zionists like you who<br>despise us and call us 'Batshit crazy.' If you hate me so much, how much<br>more so 6 million? We are more useful to you as a statistic. That's how<br>the holocaust happened. Now you know.",
           "0"
          ],
          [
           "RT @samwhuut: Wtf. Even you don't like Israel, you can't do this. It is do<br>disrespectful. Please don't disrecpect your shoes.",
           "0"
          ],
          [
           "You know what would be really cool? \\n\\nIf Christians and Jews rallied behind Muslims with<br>empathy and love as they prepare for the Holy Month of Ramadan. Easter and Pesach<br>were very different this year, Ramadan will be too. Time to beef up that solidarity<br>game.",
           "0"
          ],
          [
           "Please stop using �solidarity with jews� as a cover-up to continue with anti-Israel and anti-Zionist<br>rhetoric. We see through it and don't appreciate it. Seriously. We want the support but<br>don't need more hate and y'all ain't helping. We see you.",
           "0"
          ],
          [
           "tis time has not; and whom kikes this dryden they for if you. - @thePoeticRobot",
           "0"
          ],
          [
           "@RobertGSilvermn I take it that you are Zionazi propagandist,\\n\\nOtherwise you would mention the British White<br>Paper of 1939 wherein the UK clarified tha Balfour was seeking a small village within<br>#Palestine. \\n\\nShortly thereafter Menachem Begin and the Irgun Zionazi Gang blew up the King David<br>Hot.",
           "0"
          ],
          [
           "Revelation 3:9 \\nBehold, I will make those of the synagogue of Satan who say that<br>they are Jews and are not, but lie—behold, I will make them come and bow<br>down before your feet and they will learn that I have loved you. #MiracleMonday",
           "0"
          ],
          [
           "pls hard block me if you’re pro israel or refuse to have an opinion on<br>this bc u “dont wanna take sides” and also fuck off",
           "0"
          ],
          [
           "O Children of Israel, remember My favor which I have bestowed upon you and that<br>I preferred you over the worlds.\\n- Saheeh International",
           "0"
          ],
          [
           "RT @ali: Jews should fight back against the Communist Mayor! Dare the police to arrest<br>all of you. Sabbath it up! Damn the mayor to hell!",
           "0"
          ],
          [
           "Question: \\n@UKLabour\\nWhen will you make your statement about Israel bombing Palestine for 11 consecutive days?",
           "0"
          ],
          [
           "Dear Israel, \\nNo matter how many elections you hold — 4 in 2 years —<br>you won’t be a democracy. You’re an apartheid state. \\nSincerely,\\nThe world",
           "0"
          ],
          [
           "@RudyGiuliani Hey, Rudy, you still covering up 9/11 for your ZioNazi buddies? Still framing the<br>innocent for your crimes? Terrorist, terrorist, terrorist -why, that's you!",
           "0"
          ],
          [
           "Hindu's, Sikhs, Jews, Chirstians and Atheists would include &amp; support EVEYONE! Evidence as if you<br>needed it that a certain community just refuse to integrate &amp; separate themselves from the<br>rest of ????. We are NOT all in it together - clearly ??",
           "0"
          ],
          [
           "\"Dear British Jews, we are so furious you have a voice. Why don't you shut<br>up? Signed: middle-class Guardian readers, Corbyn supporters, with all our 8 Twitter accounts per person\".",
           "0"
          ],
          [
           "I have been pretty polite about this and so have other American Jews. But you<br>really have to leave us out of your racist talking points. You are not helping<br>us, you are not helping society, you are not helping Israel. Your racism is your<br>thing and we are not your shield.",
           "0"
          ],
          [
           "@Mubin_Bajwa Yes you are right and i am.💪 i dont care About these fucking kikes.😂😂",
           "0"
          ],
          [
           "I think you're always going to have tension in the Middle East when there's people<br>who want to kill the Jews and Jews who don't want to be killed and<br>neither side is willing to compromise.",
           "0"
          ],
          [
           "@realDonaldTrump No, they�re losing jobs because YOU unleashed a deadly pandemic on America, one the<br>U.S. warned Israel about in NOVEMBER and you were calling a hoex in MARCH, you<br>lying, racist, grim reaping, son of a klansman.",
           "0"
          ],
          [
           "@TRNshow You'll fit right in with the other neoliberal propagandists on the show. Saw you<br>on Joe Rogan you ZioNazi piece of shit.",
           "0"
          ],
          [
           "Don't try to get clever and think you can strategically side with the Jews or<br>something. They have six million advocacy organizations, top bankers, the media and a direct line<br>to politicians in several countries. They don't need you, and they wouldn't pluck a hair<br>to help you.",
           "0"
          ],
          [
           "1 Chronicles 4:10 �And Jabez called on the God of Israel saying, �Oh, that You<br>would bless me indeed, and enlarge my territory, that Your hand would be with me,<br>and that You would keep me from evil, that I may not cause pain!� So<br>God granted him what he requested.� I asked.",
           "0"
          ],
          [
           "Keeping Charlie's legacy alive. - TeamCDB/BW\\n\\n\"To the Jews who had believed him, Jesus said, “If<br>you hold to my teaching, you are really my disciples. Then you will know the<br>truth, and the truth will set you free.”” - John - John 8:31-32 NIV",
           "0"
          ],
          [
           "If you criticized Hasidic Jews in NY/NJ for having relatively small funerals and weddings (as<br>I did) but are now totally on board with exponentially larger mass protests and riots,<br>you clearly should never have been taken seriously in the first place. You should apologize",
           "0"
          ],
          [
           "Don�t compare Trump to Hitler, they said. Trump: American Jews are officially a separate nationality.<br>If you�re not alarmed now, you�re not paying attention.",
           "0"
          ],
          [
           "You praised Castro, and attacked the Jews Bang up day today Boy-n�e...keep it going sweetie<br>??????",
           "0"
          ],
          [
           "@Ilhan You of course realize that Passover is about Jews leaving our oppressors to return<br>to our indigenous homeland, Israel. Right? You realize the holiday ends with declaring �next year<br>in Jerusalem�, yes? I�m being facetious. You�re so clueless.",
           "0"
          ],
          [
           "@AriFleischer You’re bad for the Jews, Ari. Go find another evangelical to fluff.",
           "0"
          ],
          [
           "RT @TheMongoose0861: If you were in 1940s Germany you would be reporting hiding Jews to<br>the Gestapo.",
           "0"
          ],
          [
           "A lot of my “so called fans” are asking why I don’t just shut up<br>and make you laugh. My Grandparents were Jews. For THAT they were sent to Camps<br>&amp; forced to see their families murdered. If you have a voice &amp; you remain<br>silent, you are a part of the problem. Not the solution.",
           "0"
          ],
          [
           "@AmichaiStein1 They missed? What a shame... Better luck to them next time. ZioNazis can't be<br>appeased, you see.",
           "0"
          ],
          [
           "@NYCMayor Assuming you mean the ultra Orthodox community...Also assuming you're aware ultra Orthodox Jews aren't<br>on Twitter... What was the point of this tweet? To confirm the deep seeded prejudices<br>against Jews in America, or to confirm you're a complete ignoramus? Perhaps both.",
           "0"
          ],
          [
           "y'all, sobbing: please, think about what you're doing, you can't just ferment *everything*\\n\\njews: [putting a<br>whole brisket in pickle brine] oh yeah? Watch us.",
           "0"
          ],
          [
           "\"I'm not antisemitic! That's just what the kikes want you to think!\"",
           "0"
          ],
          [
           "We Jews, we, the destroyers, will remain the destroyers forever. Nothing that you will do<br>will meet our needs and demands. We will forever destroy because we need a world<br>of our own. � Maurice Samuel, You Gentiles",
           "0"
          ],
          [
           "@IlhanMN And yet you hate Jews and have them on blast all the time. How<br>does that marry o.j up with your tweet?",
           "0"
          ],
          [
           "This is ludicrous. We Jews do not control \"most governments.\" We control all of them.<br>You're never going to cast off Judaic domination if you can't even get your basic<br>facts straight.",
           "0"
          ],
          [
           "You do know that saying anything negative about jews is antisemitism?",
           "0"
          ],
          [
           "In the US, Jewish stores have been looted and synagogues have been vandalised. Israel has<br>even been blamed for the violence and racism of some US police. \\n\\nThese are the<br>acts of anti-Jewish racists. No ifs, no excuses.\\n\\nIf you don't call this out - you're<br>not fighting racism.",
           "0"
          ],
          [
           "@Beth_Alize being anti Israel doesn't makes you anti semitic or Holocaust revisionist! They are all<br>very different issues!",
           "0"
          ],
          [
           "You've done absolutely nothing to bring people together. You hate Jews &amp; Israel. I will<br>always remember 9-11 &amp; who was responsible for the killing of 3,000 Americans &amp; it<br>wasn't Jews.",
           "0"
          ],
          [
           "And the Jews and Muslims fight in similar ways. Jesus was a prophet. You killed<br>our prophet! Umm I cut the cords in my mother's house, nearly died and went<br>to jail. Umm same thing.. And she tried to stab me with a butcher knife.<br>Same thing. And I still won't kill her or anything.",
           "0"
          ],
          [
           "A lot of my “so called fans” are asking why I don’t just shut up<br>and make you laugh. My Grandparents were Jews. For THAT they were sent to Camps<br>&amp; forced to see their families murdered. If you have a voice &amp; you remain<br>silent, you are a part of the problem. Not the solution.",
           "0"
          ],
          [
           "He hate two types of Jews those who betrayed him and tried to kill him<br>and those who sold idols and conspired with the Catholic Church to destroy him and<br>gave them the wisdom of Allah. You have Muslims that's pedophiles do you have Muslims<br>is that these robbers",
           "0"
          ],
          [
           "I do not look down on niggers, kikes, wops or greasers.\\nHere you are all equally<br>worthless!\\n「黒豚、ユダ豚、イタ豚を、俺は見下さん すべて平等に価値がない！」",
           "0"
          ],
          [
           "...Be they Jews Christians Muslims Agnostics...gay, be they straight whatever you are doing with your<br>life now that death has claimed you with this virus your life and your death<br>has been raised &amp; you are considered martyrs by Prophet Muhammad (PBUH) #Farrakhan #MessageToTheWorld",
           "0"
          ],
          [
           "@Leyawynn If you are not a German schizo who believes White people were descended from<br>the Annunaki, and Jews are shapeshifting reptilians, you are not a real nazbol man, sorry...",
           "0"
          ],
          [
           "Hey, you know who benefits from blaming Islamophobia on Jews and antisemitism on Muslims?\\n\\nThe white<br>supremacists who keep killing us, that's who.",
           "0"
          ],
          [
           "As someone who grew up with lots of �you killed Jesus� people, people genuinely do<br>believe that shit and will attack Jews for it to this day",
           "0"
          ],
          [
           "You never hear of Hindus or Sikhs being trouble makers, do you? Nor Jews. Hmm...<br>not Buddhists either. Have I missed anybody out?",
           "0"
          ],
          [
           "Christians and Jews have lived alongside Muslims during the time of Muhammad (SAW). They even<br>saved him from persecution. Don�t say that you�re doing this for Islam because this is<br>not what Muhammad (SAW) taught.",
           "0"
          ],
          [
           "my parents made a clear distinction between jews and zionists and even my grandmother who<br>was born in akka palestine would tell me stories about a time where jews neighboured<br>palestinian muslims/christians and lived in peace, YOUR*** parents taught you to be antisemitic",
           "0"
          ],
          [
           "Dude, get the fuck out of Israel if it bothers you that much to see<br>Jews in religious garb. They're not forcing you to convert to Judaism or else you<br>die. Do you make a big fuss when you see a Muslim wearing a hijab<br>in public or a Catholic on Ash Wednesday?",
           "0"
          ],
          [
           "@realDonaldTrump At the start did Hitler ever say the jews in Germany are actually very<br>angry with all the other jews? Sounds plausible now....anyway all there is to say is<br>go take a fucking ritalin or 20 you extremist piece of gibbering nonsense.. all gods<br>will judge you for this shit!",
           "0"
          ]
         ],
         "hovertemplate": "%{customdata[0]}<br><b>cluster:</b> %{customdata[1]}<extra></extra>",
         "legendgroup": "0",
         "marker": {
          "color": "#00cc96",
          "opacity": 0.85,
          "size": 7,
          "symbol": "circle"
         },
         "mode": "markers",
         "name": "0",
         "orientation": "v",
         "showlegend": true,
         "type": "scatter",
         "x": {
          "bdata": "Nw/hwHVz88ANnqFBeNXbv4tUmEDNf7y+VeUHQXYIMUFeQ0tBh5CXP9Uw50D8mK1AmtsuQU/+LEHavWTAdXFfQWeslT8/pP1AjMKdQZnNAMEheTFBpxoiQcLY579mmW1BoSgtwFHuej9+6uK/yFpPQb4Qd0CzQD7AUjuNwcycQEARk0u/0IhvQWKKnkCSwHJATR7qvp59/D5KnSHBt25WvvcD7D8wv99AfnWlPyJYWkBsGa5AfsB0QUdF08EW+aU/z9RlQP4swUCKMD5Bvx+FQWWa8r+icZVBnnntQMQeLD+wUWxBpQKdwaIELMFHRdPB266GQG+WfkHHHNe/CZTnwAB6CEEc7IZBnLtjQLwlGUGc6xfBEBZLQFgWqz8=",
          "dtype": "f4"
         },
         "xaxis": "x",
         "y": {
          "bdata": "qwlBwTV1jMFxw1jB88yaQVFkq0HgGr9BMP+xQQY8ur+6OXTBxh20QdTWJsGxIatBj7+yQWID/cDKKaXBFWd5wcurqEH28LVBIE1UwfpJZ0Cot4tBauYTwXQrnUHe8jZAx6dKQfhktkHxlWfA7DioQJYMpUGIno9B7UYzwZk3i0FuxINBudFEwHgVOcGMNbNBniGdQfBhkcFyBNhA6+q+QeLpk0HDJodB5mhcwBiGo0Hb0pVBlLJzwbrYwkA/o8DBuJWqQb5spkGGhdjABbBbQP/QdEGK10nB8CKhQdGpgUGqb4RBK9E0wWhnj0C62MJA+dw8wQDyP8Dg0IFB7I68wTmKqEAe+gG9pp6YQciVBcFEobFAlkmuQRC/EcE=",
          "dtype": "f4"
         },
         "yaxis": "y"
        }
       ],
       "layout": {
        "legend": {
         "title": {
          "text": "cluster_id"
         },
         "tracegroupgap": 0
        },
        "template": {
         "data": {
          "bar": [
           {
            "error_x": {
             "color": "#2a3f5f"
            },
            "error_y": {
             "color": "#2a3f5f"
            },
            "marker": {
             "line": {
              "color": "#E5ECF6",
              "width": 0.5
             },
             "pattern": {
              "fillmode": "overlay",
              "size": 10,
              "solidity": 0.2
             }
            },
            "type": "bar"
           }
          ],
          "barpolar": [
           {
            "marker": {
             "line": {
              "color": "#E5ECF6",
              "width": 0.5
             },
             "pattern": {
              "fillmode": "overlay",
              "size": 10,
              "solidity": 0.2
             }
            },
            "type": "barpolar"
           }
          ],
          "carpet": [
           {
            "aaxis": {
             "endlinecolor": "#2a3f5f",
             "gridcolor": "white",
             "linecolor": "white",
             "minorgridcolor": "white",
             "startlinecolor": "#2a3f5f"
            },
            "baxis": {
             "endlinecolor": "#2a3f5f",
             "gridcolor": "white",
             "linecolor": "white",
             "minorgridcolor": "white",
             "startlinecolor": "#2a3f5f"
            },
            "type": "carpet"
           }
          ],
          "choropleth": [
           {
            "colorbar": {
             "outlinewidth": 0,
             "ticks": ""
            },
            "type": "choropleth"
           }
          ],
          "contour": [
           {
            "colorbar": {
             "outlinewidth": 0,
             "ticks": ""
            },
            "colorscale": [
             [
              0,
              "#0d0887"
             ],
             [
              0.1111111111111111,
              "#46039f"
             ],
             [
              0.2222222222222222,
              "#7201a8"
             ],
             [
              0.3333333333333333,
              "#9c179e"
             ],
             [
              0.4444444444444444,
              "#bd3786"
             ],
             [
              0.5555555555555556,
              "#d8576b"
             ],
             [
              0.6666666666666666,
              "#ed7953"
             ],
             [
              0.7777777777777778,
              "#fb9f3a"
             ],
             [
              0.8888888888888888,
              "#fdca26"
             ],
             [
              1,
              "#f0f921"
             ]
            ],
            "type": "contour"
           }
          ],
          "contourcarpet": [
           {
            "colorbar": {
             "outlinewidth": 0,
             "ticks": ""
            },
            "type": "contourcarpet"
           }
          ],
          "heatmap": [
           {
            "colorbar": {
             "outlinewidth": 0,
             "ticks": ""
            },
            "colorscale": [
             [
              0,
              "#0d0887"
             ],
             [
              0.1111111111111111,
              "#46039f"
             ],
             [
              0.2222222222222222,
              "#7201a8"
             ],
             [
              0.3333333333333333,
              "#9c179e"
             ],
             [
              0.4444444444444444,
              "#bd3786"
             ],
             [
              0.5555555555555556,
              "#d8576b"
             ],
             [
              0.6666666666666666,
              "#ed7953"
             ],
             [
              0.7777777777777778,
              "#fb9f3a"
             ],
             [
              0.8888888888888888,
              "#fdca26"
             ],
             [
              1,
              "#f0f921"
             ]
            ],
            "type": "heatmap"
           }
          ],
          "histogram": [
           {
            "marker": {
             "pattern": {
              "fillmode": "overlay",
              "size": 10,
              "solidity": 0.2
             }
            },
            "type": "histogram"
           }
          ],
          "histogram2d": [
           {
            "colorbar": {
             "outlinewidth": 0,
             "ticks": ""
            },
            "colorscale": [
             [
              0,
              "#0d0887"
             ],
             [
              0.1111111111111111,
              "#46039f"
             ],
             [
              0.2222222222222222,
              "#7201a8"
             ],
             [
              0.3333333333333333,
              "#9c179e"
             ],
             [
              0.4444444444444444,
              "#bd3786"
             ],
             [
              0.5555555555555556,
              "#d8576b"
             ],
             [
              0.6666666666666666,
              "#ed7953"
             ],
             [
              0.7777777777777778,
              "#fb9f3a"
             ],
             [
              0.8888888888888888,
              "#fdca26"
             ],
             [
              1,
              "#f0f921"
             ]
            ],
            "type": "histogram2d"
           }
          ],
          "histogram2dcontour": [
           {
            "colorbar": {
             "outlinewidth": 0,
             "ticks": ""
            },
            "colorscale": [
             [
              0,
              "#0d0887"
             ],
             [
              0.1111111111111111,
              "#46039f"
             ],
             [
              0.2222222222222222,
              "#7201a8"
             ],
             [
              0.3333333333333333,
              "#9c179e"
             ],
             [
              0.4444444444444444,
              "#bd3786"
             ],
             [
              0.5555555555555556,
              "#d8576b"
             ],
             [
              0.6666666666666666,
              "#ed7953"
             ],
             [
              0.7777777777777778,
              "#fb9f3a"
             ],
             [
              0.8888888888888888,
              "#fdca26"
             ],
             [
              1,
              "#f0f921"
             ]
            ],
            "type": "histogram2dcontour"
           }
          ],
          "mesh3d": [
           {
            "colorbar": {
             "outlinewidth": 0,
             "ticks": ""
            },
            "type": "mesh3d"
           }
          ],
          "parcoords": [
           {
            "line": {
             "colorbar": {
              "outlinewidth": 0,
              "ticks": ""
             }
            },
            "type": "parcoords"
           }
          ],
          "pie": [
           {
            "automargin": true,
            "type": "pie"
           }
          ],
          "scatter": [
           {
            "fillpattern": {
             "fillmode": "overlay",
             "size": 10,
             "solidity": 0.2
            },
            "type": "scatter"
           }
          ],
          "scatter3d": [
           {
            "line": {
             "colorbar": {
              "outlinewidth": 0,
              "ticks": ""
             }
            },
            "marker": {
             "colorbar": {
              "outlinewidth": 0,
              "ticks": ""
             }
            },
            "type": "scatter3d"
           }
          ],
          "scattercarpet": [
           {
            "marker": {
             "colorbar": {
              "outlinewidth": 0,
              "ticks": ""
             }
            },
            "type": "scattercarpet"
           }
          ],
          "scattergeo": [
           {
            "marker": {
             "colorbar": {
              "outlinewidth": 0,
              "ticks": ""
             }
            },
            "type": "scattergeo"
           }
          ],
          "scattergl": [
           {
            "marker": {
             "colorbar": {
              "outlinewidth": 0,
              "ticks": ""
             }
            },
            "type": "scattergl"
           }
          ],
          "scattermap": [
           {
            "marker": {
             "colorbar": {
              "outlinewidth": 0,
              "ticks": ""
             }
            },
            "type": "scattermap"
           }
          ],
          "scattermapbox": [
           {
            "marker": {
             "colorbar": {
              "outlinewidth": 0,
              "ticks": ""
             }
            },
            "type": "scattermapbox"
           }
          ],
          "scatterpolar": [
           {
            "marker": {
             "colorbar": {
              "outlinewidth": 0,
              "ticks": ""
             }
            },
            "type": "scatterpolar"
           }
          ],
          "scatterpolargl": [
           {
            "marker": {
             "colorbar": {
              "outlinewidth": 0,
              "ticks": ""
             }
            },
            "type": "scatterpolargl"
           }
          ],
          "scatterternary": [
           {
            "marker": {
             "colorbar": {
              "outlinewidth": 0,
              "ticks": ""
             }
            },
            "type": "scatterternary"
           }
          ],
          "surface": [
           {
            "colorbar": {
             "outlinewidth": 0,
             "ticks": ""
            },
            "colorscale": [
             [
              0,
              "#0d0887"
             ],
             [
              0.1111111111111111,
              "#46039f"
             ],
             [
              0.2222222222222222,
              "#7201a8"
             ],
             [
              0.3333333333333333,
              "#9c179e"
             ],
             [
              0.4444444444444444,
              "#bd3786"
             ],
             [
              0.5555555555555556,
              "#d8576b"
             ],
             [
              0.6666666666666666,
              "#ed7953"
             ],
             [
              0.7777777777777778,
              "#fb9f3a"
             ],
             [
              0.8888888888888888,
              "#fdca26"
             ],
             [
              1,
              "#f0f921"
             ]
            ],
            "type": "surface"
           }
          ],
          "table": [
           {
            "cells": {
             "fill": {
              "color": "#EBF0F8"
             },
             "line": {
              "color": "white"
             }
            },
            "header": {
             "fill": {
              "color": "#C8D4E3"
             },
             "line": {
              "color": "white"
             }
            },
            "type": "table"
           }
          ]
         },
         "layout": {
          "annotationdefaults": {
           "arrowcolor": "#2a3f5f",
           "arrowhead": 0,
           "arrowwidth": 1
          },
          "autotypenumbers": "strict",
          "coloraxis": {
           "colorbar": {
            "outlinewidth": 0,
            "ticks": ""
           }
          },
          "colorscale": {
           "diverging": [
            [
             0,
             "#8e0152"
            ],
            [
             0.1,
             "#c51b7d"
            ],
            [
             0.2,
             "#de77ae"
            ],
            [
             0.3,
             "#f1b6da"
            ],
            [
             0.4,
             "#fde0ef"
            ],
            [
             0.5,
             "#f7f7f7"
            ],
            [
             0.6,
             "#e6f5d0"
            ],
            [
             0.7,
             "#b8e186"
            ],
            [
             0.8,
             "#7fbc41"
            ],
            [
             0.9,
             "#4d9221"
            ],
            [
             1,
             "#276419"
            ]
           ],
           "sequential": [
            [
             0,
             "#0d0887"
            ],
            [
             0.1111111111111111,
             "#46039f"
            ],
            [
             0.2222222222222222,
             "#7201a8"
            ],
            [
             0.3333333333333333,
             "#9c179e"
            ],
            [
             0.4444444444444444,
             "#bd3786"
            ],
            [
             0.5555555555555556,
             "#d8576b"
            ],
            [
             0.6666666666666666,
             "#ed7953"
            ],
            [
             0.7777777777777778,
             "#fb9f3a"
            ],
            [
             0.8888888888888888,
             "#fdca26"
            ],
            [
             1,
             "#f0f921"
            ]
           ],
           "sequentialminus": [
            [
             0,
             "#0d0887"
            ],
            [
             0.1111111111111111,
             "#46039f"
            ],
            [
             0.2222222222222222,
             "#7201a8"
            ],
            [
             0.3333333333333333,
             "#9c179e"
            ],
            [
             0.4444444444444444,
             "#bd3786"
            ],
            [
             0.5555555555555556,
             "#d8576b"
            ],
            [
             0.6666666666666666,
             "#ed7953"
            ],
            [
             0.7777777777777778,
             "#fb9f3a"
            ],
            [
             0.8888888888888888,
             "#fdca26"
            ],
            [
             1,
             "#f0f921"
            ]
           ]
          },
          "colorway": [
           "#636efa",
           "#EF553B",
           "#00cc96",
           "#ab63fa",
           "#FFA15A",
           "#19d3f3",
           "#FF6692",
           "#B6E880",
           "#FF97FF",
           "#FECB52"
          ],
          "font": {
           "color": "#2a3f5f"
          },
          "geo": {
           "bgcolor": "white",
           "lakecolor": "white",
           "landcolor": "#E5ECF6",
           "showlakes": true,
           "showland": true,
           "subunitcolor": "white"
          },
          "hoverlabel": {
           "align": "left"
          },
          "hovermode": "closest",
          "mapbox": {
           "style": "light"
          },
          "paper_bgcolor": "white",
          "plot_bgcolor": "#E5ECF6",
          "polar": {
           "angularaxis": {
            "gridcolor": "white",
            "linecolor": "white",
            "ticks": ""
           },
           "bgcolor": "#E5ECF6",
           "radialaxis": {
            "gridcolor": "white",
            "linecolor": "white",
            "ticks": ""
           }
          },
          "scene": {
           "xaxis": {
            "backgroundcolor": "#E5ECF6",
            "gridcolor": "white",
            "gridwidth": 2,
            "linecolor": "white",
            "showbackground": true,
            "ticks": "",
            "zerolinecolor": "white"
           },
           "yaxis": {
            "backgroundcolor": "#E5ECF6",
            "gridcolor": "white",
            "gridwidth": 2,
            "linecolor": "white",
            "showbackground": true,
            "ticks": "",
            "zerolinecolor": "white"
           },
           "zaxis": {
            "backgroundcolor": "#E5ECF6",
            "gridcolor": "white",
            "gridwidth": 2,
            "linecolor": "white",
            "showbackground": true,
            "ticks": "",
            "zerolinecolor": "white"
           }
          },
          "shapedefaults": {
           "line": {
            "color": "#2a3f5f"
           }
          },
          "ternary": {
           "aaxis": {
            "gridcolor": "white",
            "linecolor": "white",
            "ticks": ""
           },
           "baxis": {
            "gridcolor": "white",
            "linecolor": "white",
            "ticks": ""
           },
           "bgcolor": "#E5ECF6",
           "caxis": {
            "gridcolor": "white",
            "linecolor": "white",
            "ticks": ""
           }
          },
          "title": {
           "x": 0.05
          },
          "xaxis": {
           "automargin": true,
           "gridcolor": "white",
           "linecolor": "white",
           "ticks": "",
           "title": {
            "standoff": 15
           },
           "zerolinecolor": "white",
           "zerolinewidth": 2
          },
          "yaxis": {
           "automargin": true,
           "gridcolor": "white",
           "linecolor": "white",
           "ticks": "",
           "title": {
            "standoff": 15
           },
           "zerolinecolor": "white",
           "zerolinewidth": 2
          }
         }
        },
        "title": {
         "text": "TF-IDF KMeans Clusters (k=10) with t-SNE"
        },
        "xaxis": {
         "anchor": "y",
         "domain": [
          0,
          1
         ],
         "title": {
          "text": "x"
         }
        },
        "yaxis": {
         "anchor": "x",
         "domain": [
          0,
          1
         ],
         "title": {
          "text": "y"
         }
        }
       }
      }
     },
     "metadata": {},
     "output_type": "display_data"
    }
   ],
   "source": [
    "# TF-IDF -> KMeans(k=10) -> t-SNE(2D) -> Plotly hover with <br> every 15 words\n",
    "\n",
    "# pip install plotly scikit-learn\n",
    "\n",
    "import pandas as pd\n",
    "from sklearn.feature_extraction.text import TfidfVectorizer\n",
    "from sklearn.cluster import KMeans\n",
    "from sklearn.decomposition import TruncatedSVD\n",
    "from sklearn.manifold import TSNE\n",
    "import plotly.express as px\n",
    "\n",
    "\n",
    "def wrap_every_n_words(s: str, n: int = 15, br: str = \"<br>\") -> str:\n",
    "    words = s.split()\n",
    "    return br.join(\" \".join(words[i : i + n]) for i in range(0, len(words), n))\n",
    "\n",
    "\n",
    "df_sampled = df.sample(500, random_state=42)\n",
    "# 1) TF-IDF\n",
    "texts = df_sampled[\"Text\"].astype(str).fillna(\"\")\n",
    "vectorizer = TfidfVectorizer(min_df=2, max_df=0.95)\n",
    "X = vectorizer.fit_transform(texts)\n",
    "\n",
    "# 2) KMeans on TF-IDF\n",
    "k = 3\n",
    "kmeans = KMeans(n_clusters=k, n_init=10, random_state=42)\n",
    "cluster_ids = kmeans.fit_predict(X)\n",
    "df_sampled[\"cluster_id\"] = cluster_ids\n",
    "\n",
    "# 3) Dim reduction then t-SNE (t-SNE works better after SVD on sparse TF-IDF)\n",
    "svd = TruncatedSVD(n_components=50, random_state=42)\n",
    "X_50 = svd.fit_transform(X)\n",
    "\n",
    "# t-SNE params (perplexity must be < n_samples)\n",
    "n_samples = len(texts)\n",
    "perplexity = max(5, min(30, n_samples - 1))  # safe default\n",
    "tsne = TSNE(\n",
    "    n_components=2,\n",
    "    init=\"pca\",\n",
    "    learning_rate=\"auto\",\n",
    "    perplexity=perplexity,\n",
    "    random_state=42,\n",
    ")\n",
    "coords_2d = tsne.fit_transform(X_50)\n",
    "\n",
    "# 4) Viz df with wrapped text for hover\n",
    "viz_df = pd.DataFrame(\n",
    "    {\n",
    "        \"x\": coords_2d[:, 0],\n",
    "        \"y\": coords_2d[:, 1],\n",
    "        \"cluster_id\": cluster_ids.astype(str),\n",
    "        \"text_wrapped\": [wrap_every_n_words(t, 15) for t in texts],\n",
    "    }\n",
    ")\n",
    "\n",
    "# 5) Plotly scatter with hover\n",
    "fig = px.scatter(\n",
    "    viz_df,\n",
    "    x=\"x\",\n",
    "    y=\"y\",\n",
    "    color=\"cluster_id\",\n",
    "    title=\"TF-IDF KMeans Clusters (k=10) with t-SNE\",\n",
    "    custom_data=[\"text_wrapped\", \"cluster_id\"],\n",
    ")\n",
    "fig.update_traces(\n",
    "    marker=dict(size=7, opacity=0.85),\n",
    "    hovertemplate=\"%{customdata[0]}<br><b>cluster:</b> %{customdata[1]}<extra></extra>\",\n",
    ")\n",
    "fig.update_layout(legend_title_text=\"cluster_id\")\n",
    "fig.show()"
   ]
  },
  {
   "cell_type": "code",
   "execution_count": null,
   "id": "b71e9c14",
   "metadata": {},
   "outputs": [],
   "source": []
  }
 ],
 "metadata": {
  "kernelspec": {
   "display_name": "meaningful-transparency (3.12.11)",
   "language": "python",
   "name": "python3"
  },
  "language_info": {
   "codemirror_mode": {
    "name": "ipython",
    "version": 3
   },
   "file_extension": ".py",
   "mimetype": "text/x-python",
   "name": "python",
   "nbconvert_exporter": "python",
   "pygments_lexer": "ipython3",
   "version": "3.12.11"
  }
 },
 "nbformat": 4,
 "nbformat_minor": 5
}
