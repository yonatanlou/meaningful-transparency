{
 "cells": [
  {
   "cell_type": "markdown",
   "id": "c1686756-542e-4bee-a8d5-853cd856da1d",
   "metadata": {},
   "source": [
    "# Imports"
   ]
  },
  {
   "cell_type": "code",
   "execution_count": 78,
   "id": "a80554bb-2109-4c67-ad73-eb083a06f21b",
   "metadata": {},
   "outputs": [],
   "source": [
    "# for importing code\n",
    "import sys, os\n",
    "\n",
    "module_path = os.path.abspath(os.path.join(\"..\", \"src\"))\n",
    "if module_path not in sys.path:\n",
    "    print(f\"Adding {module_path} to sys.path\")\n",
    "    sys.path.append(module_path)"
   ]
  },
  {
   "cell_type": "code",
   "execution_count": 79,
   "id": "b75032f2-d3fd-49c5-8046-4e4127edc3a0",
   "metadata": {},
   "outputs": [
    {
     "data": {
      "application/vnd.microsoft.datawrangler.viewer.v0+json": {
       "columns": [
        {
         "name": "index",
         "rawType": "int64",
         "type": "integer"
        },
        {
         "name": "original_index",
         "rawType": "int64",
         "type": "integer"
        },
        {
         "name": "text",
         "rawType": "object",
         "type": "string"
        },
        {
         "name": "is_antisemitic",
         "rawType": "int64",
         "type": "integer"
        },
        {
         "name": "keyword",
         "rawType": "object",
         "type": "string"
        },
        {
         "name": "prediction",
         "rawType": "object",
         "type": "string"
        },
        {
         "name": "description",
         "rawType": "object",
         "type": "string"
        },
        {
         "name": "model",
         "rawType": "object",
         "type": "string"
        },
        {
         "name": "max_tokens",
         "rawType": "int64",
         "type": "integer"
        },
        {
         "name": "temperature",
         "rawType": "float64",
         "type": "float"
        },
        {
         "name": "usage",
         "rawType": "object",
         "type": "unknown"
        }
       ],
       "ref": "bc736a56-691b-4807-aa25-c1fe684f6b44",
       "rows": [
        [
         "0",
         "113",
         "Following  query, The Prime Minister’s Office added that in #UAE talks, Israel “has not changed its consistent positions against the sale of tie-breaking arms and advanced defense technologies to any state in the Middle East”",
         "0",
         "Israel",
         "False",
         "This text is a factual report about Israel's official position on arms sales in the Middle East during UAE talks. It contains no hatred toward Jews, antisemitic stereotypes, conspiracy theories, or any of the manifestations listed in the IHRA definition.",
         "anthropic/claude-sonnet-4",
         "800",
         "0.0",
         "{'prompt_tokens': 3812, 'completion_tokens': 73, 'total_tokens': 3885}"
        ],
        [
         "1",
         "848",
         "To the Jews, crucifixion is a stumbling block. The whole process of crucifixion was seen as unclean/curse in the Jewish culture.\\n\\n📖| The Power of the Cross\\n🎙| Pastor",
         "0",
         "Jews",
         "False",
         "This text appears to be a religious commentary discussing Jewish cultural/religious perspectives on crucifixion in a theological context. While it references Jews, it does not contain hatred, negative stereotypes, conspiracy theories, or other manifestations of antisemitism as defined by IHRA. It reads as educational religious content rather than antisemitic rhetoric.",
         "anthropic/claude-sonnet-4",
         "800",
         "0.0",
         "{'prompt_tokens': 3821, 'completion_tokens': 90, 'total_tokens': 3911}"
        ],
        [
         "2",
         "346",
         "Lots of American Jews feeling no Love for Right Wing Criminals in Israeli Government. #IStandWithIlhan",
         "0",
         "Jews",
         "False",
         "The text criticizes the Israeli government as 'Right Wing Criminals' but does not target Jews as a people or employ antisemitic stereotypes. It specifically distinguishes between American Jews (who are portrayed positively as opposing the Israeli government) and the Israeli government itself, which indicates criticism of Israel similar to that leveled against other countries rather than antisemitic targeting of Jews as a collective.",
         "anthropic/claude-sonnet-4",
         "800",
         "0.0",
         "{'prompt_tokens': 3793, 'completion_tokens': 101, 'total_tokens': 3894}"
        ],
        [
         "3",
         "121",
         "On a 1 to 10 scale, how important is the Israel UAE agreement to normalize relations? (A 10 being HUGE)",
         "0",
         "Israel",
         "False",
         "This text is a neutral question asking for an opinion on the importance of the Israel-UAE normalization agreement on a scale of 1-10. It contains no hatred toward Jews, antisemitic stereotypes, or any of the manifestations listed in the IHRA definition.",
         "anthropic/claude-sonnet-4",
         "800",
         "0.0",
         "{'prompt_tokens': 3799, 'completion_tokens': 77, 'total_tokens': 3876}"
        ],
        [
         "4",
         "734",
         "Hang on, is it NOT common knowledge amongst ppl in the west that christians, Muslims and Jews actually believe in the same god",
         "0",
         "Jews",
         "False",
         "This text discusses theological similarities between Abrahamic religions without expressing hatred toward Jews or employing antisemitic stereotypes. It appears to be a genuine question about religious commonalities rather than targeting Jews with negative characterizations.",
         "anthropic/claude-sonnet-4",
         "800",
         "0.0",
         "{'prompt_tokens': 3796, 'completion_tokens': 65, 'total_tokens': 3861}"
        ],
        [
         "5",
         "508",
         "75 years after the liberation of Auschwitz, we remember the 6 million Jews murdered by the Nazis and all Nazi victims, including Roma, gay and disabled people. On this special #HolocaustMemorialDay we recommit to fight hatred and prejudice everywhere. #Auschwitz75 #StandTogether",
         "0",
         "Jews",
         "False",
         "This text commemorates Holocaust victims and explicitly acknowledges the murder of 6 million Jews by the Nazis, which aligns with historical facts rather than denying them. The message promotes fighting hatred and prejudice, which is the opposite of antisemitic rhetoric.",
         "anthropic/claude-sonnet-4",
         "800",
         "0.0",
         "{'prompt_tokens': 3841, 'completion_tokens': 74, 'total_tokens': 3915}"
        ],
        [
         "6",
         "259",
         "I’m an American Jew &amp;immigrant fr USSR like yourself. It’s unfortunately common for US-born Jews to not ascertain the importance of Israel. It’s rare for Soviet Jews,who were let out of that socialist shithole &amp;into US on refugee visas thanks to ISRAEL’s influence,to not grasp it",
         "0",
         "Jews",
         "False",
         "This text expresses a Jewish person's perspective on the importance of Israel to Jewish identity and history, particularly for Soviet Jewish immigrants. While it contains strong political opinions and crude language about the USSR, it does not contain hatred toward Jews, antisemitic stereotypes, or any of the specific manifestations outlined in the IHRA definition.",
         "anthropic/claude-sonnet-4",
         "800",
         "0.0",
         "{'prompt_tokens': 3839, 'completion_tokens': 88, 'total_tokens': 3927}"
        ],
        [
         "7",
         "53",
         "She's only willing to call out the anti semitism in the US, while vilifying the Jews of Israel, more than half of which are descended from Mizrahim, aka refugees from muslim countries.\\n\\nMr. Gerber is an upper middle class American whose family wasnt forced to Israel for survival",
         "0",
         "Israel",
         "False",
         "The text criticizes someone's selective approach to addressing antisemitism and makes factual claims about Israeli demographics and an individual's background. While it discusses Jews and Israel, it does not contain hatred toward Jews, employ antisemitic stereotypes, or make mendacious allegations about Jewish people as defined by the IHRA guidelines.",
         "anthropic/claude-sonnet-4",
         "800",
         "0.0",
         "{'prompt_tokens': 3833, 'completion_tokens': 87, 'total_tokens': 3920}"
        ],
        [
         "8",
         "853",
         "Actually it wasn't just Christians, it was also Jews and Muslims. Not to mention\\nIt's in the first Amendment of the Constitution. Even during a pandemic the Constitution still applies.",
         "0",
         "Jews",
         "False",
         "The text discusses Christians, Jews, and Muslims in the context of Constitutional rights during a pandemic. There are no antisemitic allegations, stereotypes, or manifestations targeting Jews specifically, and the mention of Jews appears to be factual rather than expressing hatred or negative perceptions.",
         "anthropic/claude-sonnet-4",
         "800",
         "0.0",
         "{'prompt_tokens': 3806, 'completion_tokens': 76, 'total_tokens': 3882}"
        ],
        [
         "9",
         "1376",
         "�Judeo-Christian� isn�t a thing. It a) positions Jews &amp; Christians against Muslims, is Islamophobic b) elides Christian oppression &amp; murder of Jews over more than 1000 years &amp; c) ignores Jewish civilization worldwide &amp; facts of  key Jewish developments in Middle East &amp; N Africa.",
         "0",
         "Jews",
         "False",
         "The text critiques the term 'Judeo-Christian' on academic and historical grounds, arguing it creates false divisions and erases historical persecution. This is scholarly criticism of a concept rather than expressing hatred toward Jews or employing antisemitic stereotypes, allegations, or conspiracy theories as defined by IHRA.",
         "anthropic/claude-sonnet-4",
         "800",
         "0.0",
         "{'prompt_tokens': 3847, 'completion_tokens': 85, 'total_tokens': 3932}"
        ],
        [
         "10",
         "800",
         "You really are Anti-Christian aren't you? You will make up anything you can to prevent a Christian from being there. Would it matter if she were Muslim? They too are very conservative (except Omar, she just hates Christians and Jews) are you like her???",
         "0",
         "Jews",
         "False",
         "While the text contains negative statements about Omar allegedly hating Christians and Jews, it does not express hatred toward Jews or make antisemitic allegations. The mention of Jews appears to be describing someone else's alleged hatred rather than expressing the author's own antisemitic views.",
         "anthropic/claude-sonnet-4",
         "800",
         "0.0",
         "{'prompt_tokens': 3823, 'completion_tokens': 74, 'total_tokens': 3897}"
        ],
        [
         "11",
         "401",
         "On International Holocaust Remembrance Day, we mourn the lives of 6 million Jews who were systematically murdered.\\n\\nToday and every day, we must redouble our efforts to confront anti-Semitism and all forms of religious discrimination and say #NeverAgain.",
         "0",
         "Jews",
         "False",
         "This text commemorates Holocaust victims and condemns antisemitism, which directly opposes antisemitic sentiment. The text acknowledges the systematic murder of 6 million Jews and calls for confronting antisemitism, making it clearly not antisemitic by the IHRA definition.",
         "anthropic/claude-sonnet-4",
         "800",
         "0.0",
         "{'prompt_tokens': 3831, 'completion_tokens': 78, 'total_tokens': 3909}"
        ],
        [
         "12",
         "176",
         "#BREAKING: #Bahrain will normalize ties with Israel, Bahrain Crown prince will be in DC Monday, officials confirm to me",
         "0",
         "Israel",
         "False",
         "This text is a factual news report about Bahrain normalizing diplomatic ties with Israel. It contains no hatred toward Jews, antisemitic stereotypes, conspiracy theories, or other manifestations of antisemitism as defined by the IHRA guidelines.",
         "anthropic/claude-sonnet-4",
         "800",
         "0.0",
         "{'prompt_tokens': 3797, 'completion_tokens': 72, 'total_tokens': 3869}"
        ],
        [
         "13",
         "418",
         "Now the Berean Jews were of more noble character than those in Thessalonica, for they received the message with great eagerness and examined the Scriptures every day to see if what Paul said was true.\\nActs 17:11 NIV\\n#ThursdayMotivation",
         "0",
         "Jews",
         "False",
         "This text is a direct biblical quote from Acts 17:11 praising the Berean Jews for their noble character and eagerness to examine Scripture. It presents Jews in a positive light and contains no hatred, stereotypes, or negative characterizations of Jews.",
         "anthropic/claude-sonnet-4",
         "800",
         "0.0",
         "{'prompt_tokens': 3833, 'completion_tokens': 74, 'total_tokens': 3907}"
        ],
        [
         "14",
         "1122",
         "Cuz they both Nigerian. He might go up once Israel goes up too",
         "0",
         "Israel",
         "False",
         "The text mentions Israel in passing but does not contain any antisemitic content according to the IHRA definition. It appears to be discussing two Nigerian individuals and makes a brief reference to Israel without any negative stereotypes, conspiracy theories, or other antisemitic manifestations outlined in the guidelines.",
         "anthropic/claude-sonnet-4",
         "800",
         "0.0",
         "{'prompt_tokens': 3784, 'completion_tokens': 79, 'total_tokens': 3863}"
        ],
        [
         "15",
         "87",
         "Anointing oil from Israel? For what? I also see there is a benchmarking trip to Rome? Benchmarking for what exactly? 😏😏",
         "0",
         "Israel",
         "False",
         "The text expresses skepticism about anointing oil from Israel and a benchmarking trip to Rome, but does not contain any antisemitic content according to the IHRA definition. The questioning tone about Israel-related products does not constitute hatred toward Jews, employ antisemitic stereotypes, or target Israel in a way that would be considered antisemitic.",
         "anthropic/claude-sonnet-4",
         "800",
         "0.0",
         "{'prompt_tokens': 3805, 'completion_tokens': 95, 'total_tokens': 3900}"
        ],
        [
         "16",
         "302",
         "\"Given that last weekend Jews in the US were murdered in an attack on a synagogue, we have to wonder what it will take before this is taken seriously.”\\n3/4",
         "0",
         "Jews",
         "False",
         "This text expresses concern about antisemitic violence against Jews and calls for taking such attacks seriously. It does not contain hatred toward Jews, stereotypes, conspiracy theories, or any other manifestations of antisemitism as defined by IHRA.",
         "anthropic/claude-sonnet-4",
         "800",
         "0.0",
         "{'prompt_tokens': 3806, 'completion_tokens': 70, 'total_tokens': 3876}"
        ],
        [
         "17",
         "233",
         "Trump isn't the chosen one. He is not the King of the Jews. He is a crazy asshole.\\n\\n#25thAmendmentNow",
         "0",
         "Jews",
         "False",
         "The text criticizes Trump by rejecting claims that he is 'the chosen one' or 'King of the Jews' and calls him a 'crazy asshole.' This appears to be political criticism rejecting messianic or special status claims rather than expressing hatred toward Jews or employing antisemitic stereotypes.",
         "anthropic/claude-sonnet-4",
         "800",
         "0.0",
         "{'prompt_tokens': 3802, 'completion_tokens': 86, 'total_tokens': 3888}"
        ],
        [
         "18",
         "274",
         "10 February 1944 | A transport of 1,015 Jews deported by the Germans from #Westerbork in occupied Netherlands arrived at #Auschwitz. SS doctors sent 142 men &amp; 73 women to be registered in the camp. 800 people were murdered in gas chambers.",
         "0",
         "Jews",
         "False",
         "This text is a factual historical account documenting the deportation and murder of Jews during the Holocaust. It does not express hatred toward Jews, employ antisemitic stereotypes, or deny the Holocaust - rather it acknowledges the systematic murder of Jewish people by the Nazis.",
         "anthropic/claude-sonnet-4",
         "800",
         "0.0",
         "{'prompt_tokens': 3838, 'completion_tokens': 76, 'total_tokens': 3914}"
        ],
        [
         "19",
         "627",
         "Imagine being German in the 30s like “I dont hate Jews, not one bit! Nothing against them. How dare you imply that, IM A NICE PERSON!! But that hitler is doing great things for this economy, you can’t deny that, so he’s getting my vote”.... \\n\\nthat’s what you fucking sound like",
         "0",
         "Jews",
         "False",
         "This text criticizes people who support politicians despite their harmful policies, using a historical analogy about Germans who voted for Hitler while claiming not to hate Jews. The text does not express hatred toward Jews, make stereotypical allegations about Jews, or target Jewish individuals or institutions - it actually condemns those who enabled antisemitism.",
         "anthropic/claude-sonnet-4",
         "800",
         "0.0",
         "{'prompt_tokens': 3843, 'completion_tokens': 86, 'total_tokens': 3929}"
        ],
        [
         "20",
         "145",
         "I've always been really critical of Israel. If he can beat romero then he really got my respect",
         "0",
         "Israel",
         "False",
         "The text mentions being critical of Israel but does not contain any antisemitic content according to the IHRA definition. The criticism appears to be in the context of sports/competition ('beat romero') rather than targeting Israel as a Jewish collectivity, and lacks any stereotypes, conspiracy theories, or other antisemitic elements outlined in the guidelines.",
         "anthropic/claude-sonnet-4",
         "800",
         "0.0",
         "{'prompt_tokens': 3789, 'completion_tokens': 91, 'total_tokens': 3880}"
        ],
        [
         "21",
         "1309",
         "What a strange type of white supremacy. It allows Jews, black Africans, Latinos, Asians to do well in the USA. ??",
         "0",
         "Jews",
         "False",
         "The text questions the concept of white supremacy by noting that various ethnic groups including Jews succeed in the USA. While it mentions Jews, it does not express hatred toward Jews, make stereotypical allegations about Jewish power or conspiracy, or employ any of the antisemitic tropes outlined in the IHRA definition.",
         "anthropic/claude-sonnet-4",
         "800",
         "0.0",
         "{'prompt_tokens': 3801, 'completion_tokens': 84, 'total_tokens': 3885}"
        ],
        [
         "22",
         "1273",
         "have you ever noticed how when Christians are religious they�re considered devout and righteous but when Jews and Muslims are religious they�re all extremists and part of a brainwashed cult or is it just me",
         "0",
         "Jews",
         "False",
         "The text criticizes double standards in how religious devotion is perceived across different faiths, pointing out bias against Jews and Muslims compared to Christians. This is a critique of prejudice rather than expressing antisemitic views, and does not contain any of the antisemitic allegations, stereotypes, or manifestations outlined in the IHRA definition.",
         "anthropic/claude-sonnet-4",
         "800",
         "0.0",
         "{'prompt_tokens': 3813, 'completion_tokens': 90, 'total_tokens': 3903}"
        ],
        [
         "23",
         "744",
         "Cube, this is an Anti-Semitic trope. Please take it down as it suggests Jews control everything. And trust me, we don’t. Because if Jews controlled everything, I would be rich af &amp; Donald Trump would be in prison #DoBetter",
         "0",
         "Jews",
         "False",
         "The text explicitly identifies and rejects an antisemitic trope about Jewish control, stating 'we don't' control everything. The speaker is calling out antisemitism rather than promoting it, and uses humor to debunk the conspiracy theory.",
         "anthropic/claude-sonnet-4",
         "800",
         "0.0",
         "{'prompt_tokens': 3825, 'completion_tokens': 70, 'total_tokens': 3895}"
        ],
        [
         "24",
         "828",
         "Side note: if they want to count jews as brown people it would really throw off the statistics they try to use to claim systemic oppression.",
         "0",
         "Jews",
         "True",
         "The text makes stereotypical allegations about Jews as a collective group, suggesting they manipulate statistics about systemic oppression for their benefit. This aligns with IHRA guideline 2.1.2 regarding mendacious allegations about the power of Jews as a collective and their supposed control over societal narratives.",
         "anthropic/claude-sonnet-4",
         "800",
         "0.0",
         "{'prompt_tokens': 3798, 'completion_tokens': 87, 'total_tokens': 3885}"
        ],
        [
         "25",
         "326",
         "She didn’t say just that. She went so far as to say that Jews are actually safe in Iran. As someone who visited Iran, I dunno whether to laugh or cry",
         "0",
         "Jews",
         "False",
         "The text expresses skepticism about a claim that Jews are safe in Iran, based on the author's personal experience visiting the country. This is a factual disagreement about conditions in Iran rather than expressing hatred toward Jews or employing antisemitic stereotypes.",
         "anthropic/claude-sonnet-4",
         "800",
         "0.0",
         "{'prompt_tokens': 3804, 'completion_tokens': 73, 'total_tokens': 3877}"
        ],
        [
         "26",
         "197",
         "“The President's daughter and son-in-law -- who are Modern Orthodox Jews -- stayed silent publicly as Trump caused a firestorm by questioning the loyalty of some Jewish Americans to Israel.” Modern Orthodox Jews that I know renounce these two pretenders.",
         "0",
         "Jews",
         "False",
         "The text criticizes specific individuals (the President's daughter and son-in-law) for their actions or inactions, not Jews as a collective. While it mentions their Jewish identity, the criticism is directed at their individual behavior regarding a political situation, not at Jews generally or based on antisemitic stereotypes.",
         "anthropic/claude-sonnet-4",
         "800",
         "0.0",
         "{'prompt_tokens': 3821, 'completion_tokens': 84, 'total_tokens': 3905}"
        ],
        [
         "27",
         "392",
         "My definition of the Church in a nutshell: \"The Church is the messianic/New covenant community of Jews and Gentiles in this age between Acts 2 and the Rapture who have explicitly believed in Jesus the Messiah and have received the New Covenant ministry of the Holy Spirit.\"",
         "0",
         "Jews",
         "False",
         "This text presents a theological definition of the Christian Church that includes both Jews and Gentiles as believers in Jesus. It does not express hatred toward Jews, employ antisemitic stereotypes, or make any negative allegations about Jewish people or Judaism.",
         "anthropic/claude-sonnet-4",
         "800",
         "0.0",
         "{'prompt_tokens': 3833, 'completion_tokens': 69, 'total_tokens': 3902}"
        ],
        [
         "28",
         "657",
         "You know who has the luxury to not worry about security? Those who have it. It's a bit rich of American Jews to sit in America and tell Israel what it does &amp; doesn't need to survive.\\n\\nUnless you don't think we should survive at all.",
         "0",
         "Jews",
         "True",
         "The text makes stereotypical allegations about American Jews as a collective group, suggesting they have a privileged position and are disloyal to Israel's survival needs. This falls under IHRA guideline 2.1.2 regarding stereotypical allegations about Jews as a collective, and 2.1.6 about accusing Jewish citizens of disloyalty to Jewish interests.",
         "anthropic/claude-sonnet-4",
         "800",
         "0.0",
         "{'prompt_tokens': 3827, 'completion_tokens': 101, 'total_tokens': 3928}"
        ],
        [
         "29",
         "352",
         "“Fauci or the Jews” is trending because the Washington Post doesn’t use the Oxford comma &amp; gosh Fred there’s a good illustration of why you should use the Oxford comma",
         "0",
         "Jews",
         "False",
         "This text is making a grammatical observation about the Oxford comma and how its absence can create ambiguous meaning in headlines. It does not express hatred toward Jews, make stereotypical allegations about Jews, or contain any antisemitic content as defined by the IHRA guidelines.",
         "anthropic/claude-sonnet-4",
         "800",
         "0.0",
         "{'prompt_tokens': 3808, 'completion_tokens': 76, 'total_tokens': 3884}"
        ],
        [
         "30",
         "1243",
         "RT : Jews very pleased with the current situation in South Africa.",
         "0",
         "Jews",
         "True",
         "This text makes a stereotypical allegation about Jews as a collective group, suggesting they are pleased with negative developments in South Africa. This falls under IHRA guideline 2.1.2 which identifies 'stereotypical allegations about Jews as such or the power of Jews as collective' as antisemitic.",
         "anthropic/claude-sonnet-4",
         "800",
         "0.0",
         "{'prompt_tokens': 3781, 'completion_tokens': 87, 'total_tokens': 3868}"
        ],
        [
         "31",
         "818",
         "Today is Holocaust rememberance day.\\n\\nIt is now 75 years since Auschwitz was liberated. \\n\\n6 million Jews and 11 million other were brutally murdered by the Nazis.\\n\\nHistory has showed us time and time again the evils of the far-left.\\n\\nIt is pure evil.\\n\\n#NeverAgain #Auschwitz75",
         "0",
         "Jews",
         "False",
         "The text commemorates Holocaust Remembrance Day and acknowledges the murder of 6 million Jews by the Nazis, which aligns with historical facts. While it makes a political claim about 'far-left evils,' it does not express hatred toward Jews, employ antisemitic stereotypes, or deny/distort the Holocaust.",
         "anthropic/claude-sonnet-4",
         "800",
         "0.0",
         "{'prompt_tokens': 3860, 'completion_tokens': 90, 'total_tokens': 3950}"
        ],
        [
         "32",
         "651",
         "You know what would be really cool? \\n\\nIf Christians and Jews rallied behind Muslims with empathy and love as they prepare for the Holy Month of Ramadan. Easter and Pesach were very different this year, Ramadan will be too. Time to beef up that solidarity game.",
         "0",
         "Jews",
         "False",
         "The text promotes interfaith solidarity and empathy between Christians, Jews, and Muslims during religious observances. It contains no hatred, stereotypes, or negative characterizations of Jews, and instead advocates for positive cooperation between religious communities.",
         "anthropic/claude-sonnet-4",
         "800",
         "0.0",
         "{'prompt_tokens': 3832, 'completion_tokens': 66, 'total_tokens': 3898}"
        ],
        [
         "33",
         "373",
         "Today marks Holocaust Remembrance Day and 75 years since the liberation of Auschwitz. As we remember the six million Jews that were murdered in the Holocaust, let us recommit to the promise of ‘never again’ by working to eliminate anti-Semitism and bigotry wherever we see it.",
         "0",
         "Jews",
         "False",
         "This text commemorates Holocaust Remembrance Day and acknowledges the murder of six million Jews, which aligns with historical facts. It calls for eliminating antisemitism rather than promoting it, making it clearly not antisemitic by the IHRA definition.",
         "anthropic/claude-sonnet-4",
         "800",
         "0.0",
         "{'prompt_tokens': 3834, 'completion_tokens': 73, 'total_tokens': 3907}"
        ],
        [
         "34",
         "1138",
         "\"The Holocaust was legal. Slavery was legal. Segregation was legal.  People who hid Jews in their homes were criminalized. People who freed slaves were criminalized. People who stood up for equality and justice were criminalized.   Legality is not a guide for morality!\"",
         "0",
         "Jews",
         "False",
         "The text uses the Holocaust as a historical example alongside slavery and segregation to make a point about the distinction between legality and morality. It does not deny, minimize, or distort the Holocaust, nor does it contain any antisemitic stereotypes, conspiracy theories, or hatred toward Jews. The reference to people who hid Jews portrays them positively as moral actors.",
         "anthropic/claude-sonnet-4",
         "800",
         "0.0",
         "{'prompt_tokens': 3830, 'completion_tokens': 97, 'total_tokens': 3927}"
        ],
        [
         "35",
         "1500",
         "You hate pedos because you hate kikes, you fucking anti semite.",
         "0",
         "Kikes",
         "True",
         "The text contains the antisemitic slur 'kikes' which is a derogatory term for Jews, and explicitly calls someone an 'anti semite' in a hostile context. The use of this ethnic slur constitutes a manifestation of antisemitism as hatred expressed toward Jews through derogatory language.",
         "anthropic/claude-sonnet-4",
         "800",
         "0.0",
         "{'prompt_tokens': 3784, 'completion_tokens': 87, 'total_tokens': 3871}"
        ],
        [
         "36",
         "626",
         "well if this was the Hasidic Jews there would be riot police there for sure",
         "0",
         "Jews",
         "True",
         "The text makes a stereotypical allegation about differential treatment based on Jewish identity, implying that Hasidic Jews receive preferential treatment from authorities. This constitutes a mendacious stereotype about Jewish power and influence, fitting the IHRA definition's example 2.1.2 regarding stereotypical allegations about the power of Jews as a collective.",
         "anthropic/claude-sonnet-4",
         "800",
         "0.0",
         "{'prompt_tokens': 3786, 'completion_tokens': 95, 'total_tokens': 3881}"
        ],
        [
         "37",
         "47",
         "Israel-UAE peace deal is truly historic and a tremendous diplomatic achievement.  The president deserves enormous credit.  More on radio this evening.",
         "0",
         "Israel",
         "False",
         "The text expresses positive views about an Israel-UAE peace deal and praises diplomatic achievement. There are no negative stereotypes, conspiracy theories, or hostile rhetoric directed toward Jews, Jewish institutions, or Israel that would constitute antisemitism under the IHRA definition.",
         "anthropic/claude-sonnet-4",
         "800",
         "0.0",
         "{'prompt_tokens': 3797, 'completion_tokens': 74, 'total_tokens': 3871}"
        ],
        [
         "38",
         "1039",
         "trump is compromised by China, Russia, Saudi Arabia, Turkey, Israel, etc., big oil, coal co., cruise companies, anyone that will give him money, etc, etc.  So what's your point??????",
         "0",
         "Israel",
         "False",
         "The text lists Israel among multiple countries and entities that allegedly compromise Trump through financial influence, but this is presented as standard political corruption rather than invoking antisemitic stereotypes about Jewish control or conspiracy. The inclusion of Israel alongside China, Russia, Saudi Arabia, and various industries suggests criticism of foreign influence generally, not targeting Israel as a Jewish collectivity.",
         "anthropic/claude-sonnet-4",
         "800",
         "0.0",
         "{'prompt_tokens': 3813, 'completion_tokens': 91, 'total_tokens': 3904}"
        ],
        [
         "39",
         "1206",
         "RT : Jews should fight back against the Communist Mayor! Dare the police to arrest all of you. Sabbath it up! Damn the mayor to hell!",
         "0",
         "Jews",
         "False",
         "While the text contains strong language against a mayor described as 'Communist' and encourages Jews to 'fight back,' it does not contain antisemitic content according to the IHRA definition. The text appears to be encouraging Jewish resistance against what the author perceives as government overreach, rather than expressing hatred toward Jews or employing antisemitic stereotypes.",
         "anthropic/claude-sonnet-4",
         "800",
         "0.0",
         "{'prompt_tokens': 3802, 'completion_tokens': 95, 'total_tokens': 3897}"
        ],
        [
         "40",
         "1457",
         "RT : they represent at most 7% of Jews (and probably less than that) but sure great take",
         "0",
         "Jews",
         "False",
         "The text mentions Jews as a demographic group in what appears to be a statistical context, but does not contain hatred toward Jews, stereotypical allegations, conspiracy theories, or any other manifestations of antisemitism as defined by the IHRA guidelines. It appears to be a factual or argumentative statement about representation without employing antisemitic tropes or targeting Jews negatively.",
         "anthropic/claude-sonnet-4",
         "800",
         "0.0",
         "{'prompt_tokens': 3790, 'completion_tokens': 98, 'total_tokens': 3888}"
        ],
        [
         "41",
         "407",
         "This month, Jews, Christians and Muslims will be acknowledging and celebrating #Passover2020, #Easter and #Ramadan, respectively, during a coronavirus pandemic. \\n\\nWe are encouraged to do the most good and the least amount of harm. Please encourage people to #StayHomeStayHoly",
         "0",
         "Jews",
         "False",
         "The text respectfully acknowledges religious holidays of Jews, Christians, and Muslims during the pandemic and encourages staying home for safety. It contains no hatred, stereotypes, or negative characterizations of Jews or any religious group, and promotes interfaith respect and public health measures.",
         "anthropic/claude-sonnet-4",
         "800",
         "0.0",
         "{'prompt_tokens': 3836, 'completion_tokens': 75, 'total_tokens': 3911}"
        ],
        [
         "42",
         "571",
         "republicans sure do love israel for a group of people that hate jews so much",
         "0",
         "Jews",
         "True",
         "The text makes a stereotypical allegation about Republicans as a group 'hating Jews so much,' which constitutes a mendacious and stereotypical characterization. This falls under IHRA guideline 2.1.2 regarding stereotypical allegations about the power or nature of Jewish-related groups, and also implies collective responsibility or conspiracy thinking about political motivations regarding Israel and Jews.",
         "anthropic/claude-sonnet-4",
         "800",
         "0.0",
         "{'prompt_tokens': 3783, 'completion_tokens': 104, 'total_tokens': 3887}"
        ],
        [
         "43",
         "180",
         "The West Bank and the Gaza Strip are abysmally different from the U.S. or Italy. There is a stark difference in their ability to face the coronavirus. The Palestinians are oppressed by the Israel occupation. #SaveGazaFromCorona #EndGazaSiege #Act4Palestine",
         "0",
         "Israel",
         "False",
         "The text criticizes Israeli policies regarding Palestinian territories and calls for ending the Gaza siege, but this constitutes criticism of Israel similar to criticism leveled against other countries. It does not contain antisemitic stereotypes, conspiracy theories about Jews, or apply double standards that would make it antisemitic under the IHRA definition.",
         "anthropic/claude-sonnet-4",
         "800",
         "0.0",
         "{'prompt_tokens': 3832, 'completion_tokens': 86, 'total_tokens': 3918}"
        ],
        [
         "44",
         "790",
         "That's a very racist statement about Jews peter!I demand that u r fired!!",
         "0",
         "Jews",
         "False",
         "The text appears to be calling out someone named Peter for making a racist statement about Jews and demanding they be fired. This is opposing antisemitism rather than expressing it, as it condemns racist statements about Jews.",
         "anthropic/claude-sonnet-4",
         "800",
         "0.0",
         "{'prompt_tokens': 3785, 'completion_tokens': 63, 'total_tokens': 3848}"
        ],
        [
         "45",
         "85",
         "Israel has been bombing Gaza for seven consecutive nights. \\n\\nThe few news sources that are even reporting it are just reproducing IDF press releases almost word for word.",
         "0",
         "Israel",
         "False",
         "The text criticizes Israeli military actions and media coverage without employing antisemitic stereotypes, conspiracy theories, or targeting Jews as a collective. It focuses on specific military actions and journalistic practices, which constitutes legitimate criticism of a state's actions similar to criticism that could be leveled against any other country.",
         "anthropic/claude-sonnet-4",
         "800",
         "0.0",
         "{'prompt_tokens': 3804, 'completion_tokens': 83, 'total_tokens': 3887}"
        ],
        [
         "46",
         "1453",
         "That is why they are not Muslims, but rather imitate Islam. You can never convince me that all Christians, Jews and others are good, of course, every place has good and bad!!",
         "0",
         "Jews",
         "False",
         "The text acknowledges that there are both good and bad people among Christians, Jews, and others, which is a balanced statement rather than expressing hatred toward Jews or employing antisemitic stereotypes. The text does not contain any of the manifestations of antisemitism outlined in the IHRA definition.",
         "anthropic/claude-sonnet-4",
         "800",
         "0.0",
         "{'prompt_tokens': 3807, 'completion_tokens': 82, 'total_tokens': 3889}"
        ],
        [
         "47",
         "79",
         "HUGE breakthrough today! Historic Peace Agreement between our two GREAT friends, Israel and the United Arab Emirates!",
         "0",
         "Israel",
         "False",
         "The text celebrates a peace agreement between Israel and the UAE, expressing positive sentiment toward both countries. There are no antisemitic allegations, stereotypes, or manifestations present - it simply acknowledges Israel as a legitimate state and celebrates diplomatic progress.",
         "anthropic/claude-sonnet-4",
         "800",
         "0.0",
         "{'prompt_tokens': 3790, 'completion_tokens': 69, 'total_tokens': 3859}"
        ],
        [
         "48",
         "516",
         "People discovering Louis Farrakhan for the first time and lecture Jews about antisemitism is so 2020.",
         "0",
         "Jews",
         "False",
         "The text criticizes people who discover Louis Farrakhan and then lecture Jews about antisemitism, but does not itself express hatred toward Jews or make antisemitic allegations. It appears to be commentary on a social phenomenon rather than expressing antisemitic views.",
         "anthropic/claude-sonnet-4",
         "800",
         "0.0",
         "{'prompt_tokens': 3792, 'completion_tokens': 73, 'total_tokens': 3865}"
        ],
        [
         "49",
         "474",
         "When someone says “I’m against settlements,” what they’re really saying is “I’m for ethnic cleansing of Jews in areas I don’t want them.” Jews cannot live outside of settlements in those areas w/o possibly fatal consequences. The PA regards sale of land to a Jew as a cap crime.",
         "0",
         "Jews",
         "False",
         "The text criticizes those who oppose Israeli settlements by arguing they support ethnic cleansing of Jews, and mentions Palestinian Authority policies regarding land sales to Jews. While the text discusses Jews and Israeli policy, it does not contain antisemitic stereotypes, conspiracy theories, or other manifestations outlined in the IHRA definition - rather it appears to defend Jewish presence in certain areas.",
         "anthropic/claude-sonnet-4",
         "800",
         "0.0",
         "{'prompt_tokens': 3832, 'completion_tokens': 96, 'total_tokens': 3928}"
        ]
       ],
       "shape": {
        "columns": 10,
        "rows": 500
       }
      },
      "text/html": [
       "<div>\n",
       "<style scoped>\n",
       "    .dataframe tbody tr th:only-of-type {\n",
       "        vertical-align: middle;\n",
       "    }\n",
       "\n",
       "    .dataframe tbody tr th {\n",
       "        vertical-align: top;\n",
       "    }\n",
       "\n",
       "    .dataframe thead th {\n",
       "        text-align: right;\n",
       "    }\n",
       "</style>\n",
       "<table border=\"1\" class=\"dataframe\">\n",
       "  <thead>\n",
       "    <tr style=\"text-align: right;\">\n",
       "      <th></th>\n",
       "      <th>original_index</th>\n",
       "      <th>text</th>\n",
       "      <th>is_antisemitic</th>\n",
       "      <th>keyword</th>\n",
       "      <th>prediction</th>\n",
       "      <th>description</th>\n",
       "      <th>model</th>\n",
       "      <th>max_tokens</th>\n",
       "      <th>temperature</th>\n",
       "      <th>usage</th>\n",
       "    </tr>\n",
       "  </thead>\n",
       "  <tbody>\n",
       "    <tr>\n",
       "      <th>0</th>\n",
       "      <td>113</td>\n",
       "      <td>Following  query, The Prime Minister’s Office ...</td>\n",
       "      <td>0</td>\n",
       "      <td>Israel</td>\n",
       "      <td>False</td>\n",
       "      <td>This text is a factual report about Israel's o...</td>\n",
       "      <td>anthropic/claude-sonnet-4</td>\n",
       "      <td>800</td>\n",
       "      <td>0.0</td>\n",
       "      <td>{'prompt_tokens': 3812, 'completion_tokens': 7...</td>\n",
       "    </tr>\n",
       "    <tr>\n",
       "      <th>1</th>\n",
       "      <td>848</td>\n",
       "      <td>To the Jews, crucifixion is a stumbling block....</td>\n",
       "      <td>0</td>\n",
       "      <td>Jews</td>\n",
       "      <td>False</td>\n",
       "      <td>This text appears to be a religious commentary...</td>\n",
       "      <td>anthropic/claude-sonnet-4</td>\n",
       "      <td>800</td>\n",
       "      <td>0.0</td>\n",
       "      <td>{'prompt_tokens': 3821, 'completion_tokens': 9...</td>\n",
       "    </tr>\n",
       "    <tr>\n",
       "      <th>2</th>\n",
       "      <td>346</td>\n",
       "      <td>Lots of American Jews feeling no Love for Righ...</td>\n",
       "      <td>0</td>\n",
       "      <td>Jews</td>\n",
       "      <td>False</td>\n",
       "      <td>The text criticizes the Israeli government as ...</td>\n",
       "      <td>anthropic/claude-sonnet-4</td>\n",
       "      <td>800</td>\n",
       "      <td>0.0</td>\n",
       "      <td>{'prompt_tokens': 3793, 'completion_tokens': 1...</td>\n",
       "    </tr>\n",
       "    <tr>\n",
       "      <th>3</th>\n",
       "      <td>121</td>\n",
       "      <td>On a 1 to 10 scale, how important is the Israe...</td>\n",
       "      <td>0</td>\n",
       "      <td>Israel</td>\n",
       "      <td>False</td>\n",
       "      <td>This text is a neutral question asking for an ...</td>\n",
       "      <td>anthropic/claude-sonnet-4</td>\n",
       "      <td>800</td>\n",
       "      <td>0.0</td>\n",
       "      <td>{'prompt_tokens': 3799, 'completion_tokens': 7...</td>\n",
       "    </tr>\n",
       "    <tr>\n",
       "      <th>4</th>\n",
       "      <td>734</td>\n",
       "      <td>Hang on, is it NOT common knowledge amongst pp...</td>\n",
       "      <td>0</td>\n",
       "      <td>Jews</td>\n",
       "      <td>False</td>\n",
       "      <td>This text discusses theological similarities b...</td>\n",
       "      <td>anthropic/claude-sonnet-4</td>\n",
       "      <td>800</td>\n",
       "      <td>0.0</td>\n",
       "      <td>{'prompt_tokens': 3796, 'completion_tokens': 6...</td>\n",
       "    </tr>\n",
       "    <tr>\n",
       "      <th>...</th>\n",
       "      <td>...</td>\n",
       "      <td>...</td>\n",
       "      <td>...</td>\n",
       "      <td>...</td>\n",
       "      <td>...</td>\n",
       "      <td>...</td>\n",
       "      <td>...</td>\n",
       "      <td>...</td>\n",
       "      <td>...</td>\n",
       "      <td>...</td>\n",
       "    </tr>\n",
       "    <tr>\n",
       "      <th>495</th>\n",
       "      <td>636</td>\n",
       "      <td>A lot of y’all ladies  be talkin cash shit but...</td>\n",
       "      <td>1</td>\n",
       "      <td>Jews</td>\n",
       "      <td>True</td>\n",
       "      <td>The text uses 'jews' as a derogatory term or i...</td>\n",
       "      <td>anthropic/claude-sonnet-4</td>\n",
       "      <td>800</td>\n",
       "      <td>0.0</td>\n",
       "      <td>{'prompt_tokens': 3784, 'completion_tokens': 9...</td>\n",
       "    </tr>\n",
       "    <tr>\n",
       "      <th>496</th>\n",
       "      <td>1375</td>\n",
       "      <td>the WHAT now??? do you not know that there are...</td>\n",
       "      <td>1</td>\n",
       "      <td>Jews</td>\n",
       "      <td>False</td>\n",
       "      <td>The text expresses support for Palestinian fre...</td>\n",
       "      <td>anthropic/claude-sonnet-4</td>\n",
       "      <td>800</td>\n",
       "      <td>0.0</td>\n",
       "      <td>{'prompt_tokens': 3812, 'completion_tokens': 8...</td>\n",
       "    </tr>\n",
       "    <tr>\n",
       "      <th>497</th>\n",
       "      <td>606</td>\n",
       "      <td>He said Adelson, not Jews. Adelson has given $...</td>\n",
       "      <td>1</td>\n",
       "      <td>Jews</td>\n",
       "      <td>False</td>\n",
       "      <td>The text refers specifically to Adelson as an ...</td>\n",
       "      <td>anthropic/claude-sonnet-4</td>\n",
       "      <td>800</td>\n",
       "      <td>0.0</td>\n",
       "      <td>{'prompt_tokens': 3809, 'completion_tokens': 6...</td>\n",
       "    </tr>\n",
       "    <tr>\n",
       "      <th>498</th>\n",
       "      <td>408</td>\n",
       "      <td>respected his God and father John 20:17? Far t...</td>\n",
       "      <td>1</td>\n",
       "      <td>Jews</td>\n",
       "      <td>True</td>\n",
       "      <td>The text makes stereotypical allegations about...</td>\n",
       "      <td>anthropic/claude-sonnet-4</td>\n",
       "      <td>800</td>\n",
       "      <td>0.0</td>\n",
       "      <td>{'prompt_tokens': 3826, 'completion_tokens': 1...</td>\n",
       "    </tr>\n",
       "    <tr>\n",
       "      <th>499</th>\n",
       "      <td>136</td>\n",
       "      <td>Israel is a cancerous tumor that must be eradi...</td>\n",
       "      <td>1</td>\n",
       "      <td>Israel</td>\n",
       "      <td>True</td>\n",
       "      <td>The text describes Israel as 'a cancerous tumo...</td>\n",
       "      <td>anthropic/claude-sonnet-4</td>\n",
       "      <td>800</td>\n",
       "      <td>0.0</td>\n",
       "      <td>{'prompt_tokens': 3854, 'completion_tokens': 1...</td>\n",
       "    </tr>\n",
       "  </tbody>\n",
       "</table>\n",
       "<p>500 rows × 10 columns</p>\n",
       "</div>"
      ],
      "text/plain": [
       "     original_index                                               text  \\\n",
       "0               113  Following  query, The Prime Minister’s Office ...   \n",
       "1               848  To the Jews, crucifixion is a stumbling block....   \n",
       "2               346  Lots of American Jews feeling no Love for Righ...   \n",
       "3               121  On a 1 to 10 scale, how important is the Israe...   \n",
       "4               734  Hang on, is it NOT common knowledge amongst pp...   \n",
       "..              ...                                                ...   \n",
       "495             636  A lot of y’all ladies  be talkin cash shit but...   \n",
       "496            1375  the WHAT now??? do you not know that there are...   \n",
       "497             606  He said Adelson, not Jews. Adelson has given $...   \n",
       "498             408  respected his God and father John 20:17? Far t...   \n",
       "499             136  Israel is a cancerous tumor that must be eradi...   \n",
       "\n",
       "     is_antisemitic keyword prediction  \\\n",
       "0                 0  Israel      False   \n",
       "1                 0    Jews      False   \n",
       "2                 0    Jews      False   \n",
       "3                 0  Israel      False   \n",
       "4                 0    Jews      False   \n",
       "..              ...     ...        ...   \n",
       "495               1    Jews       True   \n",
       "496               1    Jews      False   \n",
       "497               1    Jews      False   \n",
       "498               1    Jews       True   \n",
       "499               1  Israel       True   \n",
       "\n",
       "                                           description  \\\n",
       "0    This text is a factual report about Israel's o...   \n",
       "1    This text appears to be a religious commentary...   \n",
       "2    The text criticizes the Israeli government as ...   \n",
       "3    This text is a neutral question asking for an ...   \n",
       "4    This text discusses theological similarities b...   \n",
       "..                                                 ...   \n",
       "495  The text uses 'jews' as a derogatory term or i...   \n",
       "496  The text expresses support for Palestinian fre...   \n",
       "497  The text refers specifically to Adelson as an ...   \n",
       "498  The text makes stereotypical allegations about...   \n",
       "499  The text describes Israel as 'a cancerous tumo...   \n",
       "\n",
       "                         model  max_tokens  temperature  \\\n",
       "0    anthropic/claude-sonnet-4         800          0.0   \n",
       "1    anthropic/claude-sonnet-4         800          0.0   \n",
       "2    anthropic/claude-sonnet-4         800          0.0   \n",
       "3    anthropic/claude-sonnet-4         800          0.0   \n",
       "4    anthropic/claude-sonnet-4         800          0.0   \n",
       "..                         ...         ...          ...   \n",
       "495  anthropic/claude-sonnet-4         800          0.0   \n",
       "496  anthropic/claude-sonnet-4         800          0.0   \n",
       "497  anthropic/claude-sonnet-4         800          0.0   \n",
       "498  anthropic/claude-sonnet-4         800          0.0   \n",
       "499  anthropic/claude-sonnet-4         800          0.0   \n",
       "\n",
       "                                                 usage  \n",
       "0    {'prompt_tokens': 3812, 'completion_tokens': 7...  \n",
       "1    {'prompt_tokens': 3821, 'completion_tokens': 9...  \n",
       "2    {'prompt_tokens': 3793, 'completion_tokens': 1...  \n",
       "3    {'prompt_tokens': 3799, 'completion_tokens': 7...  \n",
       "4    {'prompt_tokens': 3796, 'completion_tokens': 6...  \n",
       "..                                                 ...  \n",
       "495  {'prompt_tokens': 3784, 'completion_tokens': 9...  \n",
       "496  {'prompt_tokens': 3812, 'completion_tokens': 8...  \n",
       "497  {'prompt_tokens': 3809, 'completion_tokens': 6...  \n",
       "498  {'prompt_tokens': 3826, 'completion_tokens': 1...  \n",
       "499  {'prompt_tokens': 3854, 'completion_tokens': 1...  \n",
       "\n",
       "[500 rows x 10 columns]"
      ]
     },
     "execution_count": 79,
     "metadata": {},
     "output_type": "execute_result"
    }
   ],
   "source": [
    "import pandas as pd\n",
    "from constants import PROJECT_ROOT\n",
    "\n",
    "# created by: uv run python src/classify_twitter_posts.py --model anthropic/claude-sonnet-4 --temperature 0.1 --n-samples 750 --min-chars 50 --results_filename twitter_posts_classified\n",
    "path = f\"{PROJECT_ROOT}/outputs/500_samples_ihra_half_antisemitic_no_urls/twitter_posts_classified_IHRA_2025-09-11-H:11-M:24.csv\"\n",
    "\n",
    "df = pd.read_csv(path)\n",
    "df = df.rename(columns={\"biased\": \"is_antisemitic\"})\n",
    "df"
   ]
  },
  {
   "cell_type": "markdown",
   "id": "89dde8c6-424b-4dcd-aaf5-d9679abab7ac",
   "metadata": {},
   "source": [
    "# Cost"
   ]
  },
  {
   "cell_type": "code",
   "execution_count": 80,
   "id": "df262615-a7c0-4223-a914-6f61d26b5f13",
   "metadata": {},
   "outputs": [
    {
     "name": "stdout",
     "output_type": "stream",
     "text": [
      "Failed to parse: 2 rows out of 500\n",
      "Total Prompt Tokens: 1,901,120\n",
      "Total Completion Tokens: 44,005\n",
      "Total Tokens: 1,945,125\n",
      "\n",
      "Cost Breakdown:\n",
      "Input Cost: $5.7034\n",
      "Output Cost: $0.6601\n",
      "Total Cost: $6.3634\n",
      "\n",
      "\n"
     ]
    }
   ],
   "source": [
    "import json\n",
    "import pandas as pd\n",
    "import ast\n",
    "\n",
    "\n",
    "# Try different parsing methods\n",
    "def safe_parse_usage(usage_str):\n",
    "    try:\n",
    "        # Try JSON first\n",
    "        return json.loads(usage_str)\n",
    "    except Exception:\n",
    "        try:\n",
    "            # Try ast.literal_eval for Python dict strings\n",
    "            return ast.literal_eval(usage_str)\n",
    "        except Exception:\n",
    "            try:\n",
    "                # Try eval as last resort (if it's a Python dict)\n",
    "                return eval(usage_str)\n",
    "            except Exception:\n",
    "                return None\n",
    "\n",
    "\n",
    "def print_costs(df_origin):\n",
    "    df = df_origin.copy()\n",
    "    # Parse the usage column\n",
    "    df[\"usage_parsed\"] = df[\"usage\"].apply(safe_parse_usage)\n",
    "\n",
    "    # Check how many failed to parse\n",
    "    failed_count = df[\"usage_parsed\"].isnull().sum()\n",
    "    print(f\"Failed to parse: {failed_count} rows out of {len(df)}\")\n",
    "\n",
    "    # Extract token counts (handle None values)\n",
    "    df[\"prompt_tokens\"] = df[\"usage_parsed\"].apply(\n",
    "        lambda x: x[\"prompt_tokens\"] if x else 0\n",
    "    )\n",
    "    df[\"completion_tokens\"] = df[\"usage_parsed\"].apply(\n",
    "        lambda x: x[\"completion_tokens\"] if x else 0\n",
    "    )\n",
    "    df[\"total_tokens\"] = df[\"usage_parsed\"].apply(\n",
    "        lambda x: x[\"total_tokens\"] if x else 0\n",
    "    )\n",
    "\n",
    "    # Calculate totals\n",
    "    total_prompt_tokens = df[\"prompt_tokens\"].sum()\n",
    "    total_completion_tokens = df[\"completion_tokens\"].sum()\n",
    "    total_tokens = df[\"total_tokens\"].sum()\n",
    "\n",
    "    # Claude Sonnet 4 pricing: $3/M input, $15/M output\n",
    "    input_cost = (total_prompt_tokens / 1_000_000) * 3\n",
    "    output_cost = (total_completion_tokens / 1_000_000) * 15\n",
    "    total_cost = input_cost + output_cost\n",
    "\n",
    "    print(f\"Total Prompt Tokens: {total_prompt_tokens:,}\")\n",
    "    print(f\"Total Completion Tokens: {total_completion_tokens:,}\")\n",
    "    print(f\"Total Tokens: {total_tokens:,}\")\n",
    "    print(\"\\nCost Breakdown:\")\n",
    "    print(f\"Input Cost: ${input_cost:.4f}\")\n",
    "    print(f\"Output Cost: ${output_cost:.4f}\")\n",
    "    print(f\"Total Cost: ${total_cost:.4f}\")\n",
    "\n",
    "\n",
    "print_costs(df)\n",
    "print(\"\\n\")"
   ]
  },
  {
   "cell_type": "markdown",
   "id": "f31ad913-bafe-4fa9-9b5d-73c6f93632ba",
   "metadata": {},
   "source": [
    "# EDA"
   ]
  },
  {
   "cell_type": "code",
   "execution_count": 81,
   "id": "b1002172",
   "metadata": {},
   "outputs": [
    {
     "name": "stdout",
     "output_type": "stream",
     "text": [
      "<class 'pandas.core.frame.DataFrame'>\n",
      "RangeIndex: 500 entries, 0 to 499\n",
      "Data columns (total 10 columns):\n",
      " #   Column          Non-Null Count  Dtype  \n",
      "---  ------          --------------  -----  \n",
      " 0   original_index  500 non-null    int64  \n",
      " 1   text            500 non-null    object \n",
      " 2   is_antisemitic  500 non-null    int64  \n",
      " 3   keyword         500 non-null    object \n",
      " 4   prediction      500 non-null    object \n",
      " 5   description     500 non-null    object \n",
      " 6   model           500 non-null    object \n",
      " 7   max_tokens      500 non-null    int64  \n",
      " 8   temperature     500 non-null    float64\n",
      " 9   usage           498 non-null    object \n",
      "dtypes: float64(1), int64(3), object(6)\n",
      "memory usage: 39.2+ KB\n"
     ]
    }
   ],
   "source": [
    "df.info()"
   ]
  },
  {
   "cell_type": "code",
   "execution_count": 82,
   "id": "cb3a5ca4",
   "metadata": {},
   "outputs": [
    {
     "data": {
      "application/vnd.microsoft.datawrangler.viewer.v0+json": {
       "columns": [
        {
         "name": "prediction",
         "rawType": "object",
         "type": "string"
        },
        {
         "name": "count",
         "rawType": "int64",
         "type": "integer"
        }
       ],
       "ref": "8385777b-7b77-4928-9d7c-05403272ed5f",
       "rows": [
        [
         "True",
         "255"
        ],
        [
         "False",
         "243"
        ],
        [
         "LLM_ERROR",
         "2"
        ]
       ],
       "shape": {
        "columns": 1,
        "rows": 3
       }
      },
      "text/plain": [
       "prediction\n",
       "True         255\n",
       "False        243\n",
       "LLM_ERROR      2\n",
       "Name: count, dtype: int64"
      ]
     },
     "execution_count": 82,
     "metadata": {},
     "output_type": "execute_result"
    }
   ],
   "source": [
    "df[\"prediction\"].value_counts()"
   ]
  },
  {
   "cell_type": "code",
   "execution_count": 83,
   "id": "da0fb33d",
   "metadata": {},
   "outputs": [
    {
     "name": "stderr",
     "output_type": "stream",
     "text": [
      "/var/folders/yc/2ky7xhns66nbhnjkcrs4p1nw0000gp/T/ipykernel_29899/2660278532.py:4: SettingWithCopyWarning: \n",
      "A value is trying to be set on a copy of a slice from a DataFrame.\n",
      "Try using .loc[row_indexer,col_indexer] = value instead\n",
      "\n",
      "See the caveats in the documentation: https://pandas.pydata.org/pandas-docs/stable/user_guide/indexing.html#returning-a-view-versus-a-copy\n",
      "  df[\"prediction\"] = df[\"prediction\"].map({\"True\": 1, \"False\": 0})\n"
     ]
    }
   ],
   "source": [
    "df = df[df[\"prediction\"].isin([\"True\", \"False\"])]\n",
    "\n",
    "# convert prediction to int:\n",
    "df[\"prediction\"] = df[\"prediction\"].map({\"True\": 1, \"False\": 0})"
   ]
  },
  {
   "cell_type": "code",
   "execution_count": 84,
   "id": "62e6e213",
   "metadata": {},
   "outputs": [
    {
     "name": "stderr",
     "output_type": "stream",
     "text": [
      "/var/folders/yc/2ky7xhns66nbhnjkcrs4p1nw0000gp/T/ipykernel_29899/1362021139.py:19: SettingWithCopyWarning: \n",
      "A value is trying to be set on a copy of a slice from a DataFrame.\n",
      "Try using .loc[row_indexer,col_indexer] = value instead\n",
      "\n",
      "See the caveats in the documentation: https://pandas.pydata.org/pandas-docs/stable/user_guide/indexing.html#returning-a-view-versus-a-copy\n",
      "  df[\"text_clean\"] = df[\"text\"].apply(clean_text)\n"
     ]
    },
    {
     "data": {
      "image/png": "[encoded data removed]",
      "text/plain": [
       "<Figure size 1200x1000 with 2 Axes>"
      ]
     },
     "metadata": {},
     "output_type": "display_data"
    }
   ],
   "source": [
    "import matplotlib.pyplot as plt\n",
    "import seaborn as sns\n",
    "import re\n",
    "from sklearn.feature_extraction.text import CountVectorizer\n",
    "\n",
    "\n",
    "# Clean and prepare text data\n",
    "def clean_text(text):\n",
    "    # Convert to lowercase, remove URLs, mentions, and special characters\n",
    "    text = str(text).lower()\n",
    "    text = re.sub(r\"http\\S+|www\\S+|https\\S+\", \"\", text)  # Remove URLs\n",
    "    text = re.sub(r\"@\\w+\", \"\", text)  # Remove mentions\n",
    "    text = re.sub(r\"[^\\w\\s]\", \"\", text)  # Remove punctuation\n",
    "    text = re.sub(r\"\\s+\", \" \", text)  # Remove extra spaces\n",
    "    return text.strip()\n",
    "\n",
    "\n",
    "# Clean all text\n",
    "df[\"text_clean\"] = df[\"text\"].apply(clean_text)\n",
    "\n",
    "# Get most frequent words (unigrams)\n",
    "vectorizer_unigrams = CountVectorizer(\n",
    "    stop_words=\"english\", max_features=20, ngram_range=(1, 1)\n",
    ")\n",
    "unigram_matrix = vectorizer_unigrams.fit_transform(df[\"text_clean\"])\n",
    "unigram_counts = unigram_matrix.sum(axis=0).A1\n",
    "unigram_freq = [\n",
    "    (word, count)\n",
    "    for word, count in zip(vectorizer_unigrams.get_feature_names_out(), unigram_counts)\n",
    "]\n",
    "unigram_freq = sorted(unigram_freq, key=lambda x: x[1], reverse=True)\n",
    "\n",
    "# Get most frequent bigrams\n",
    "vectorizer_bigrams = CountVectorizer(\n",
    "    stop_words=\"english\", max_features=20, ngram_range=(2, 2)\n",
    ")\n",
    "bigram_matrix = vectorizer_bigrams.fit_transform(df[\"text_clean\"])\n",
    "bigram_counts = bigram_matrix.sum(axis=0).A1\n",
    "bigram_freq = [\n",
    "    (word, count)\n",
    "    for word, count in zip(vectorizer_bigrams.get_feature_names_out(), bigram_counts)\n",
    "]\n",
    "bigram_freq = sorted(bigram_freq, key=lambda x: x[1], reverse=True)\n",
    "\n",
    "# Create plots\n",
    "fig, (ax1, ax2) = plt.subplots(2, 1, figsize=(12, 10))\n",
    "\n",
    "# Plot unigrams\n",
    "words, counts = zip(*unigram_freq)\n",
    "ax1.barh(range(len(words)), counts)\n",
    "ax1.set_yticks(range(len(words)))\n",
    "ax1.set_yticklabels(words)\n",
    "ax1.set_xlabel(\"Frequency\")\n",
    "ax1.set_title(\"Top 20 Most Frequent Words (Unigrams)\")\n",
    "ax1.invert_yaxis()\n",
    "\n",
    "# Plot bigrams\n",
    "bigrams, bigram_counts = zip(*bigram_freq)\n",
    "ax2.barh(range(len(bigrams)), bigram_counts)\n",
    "ax2.set_yticks(range(len(bigrams)))\n",
    "ax2.set_yticklabels(bigrams)\n",
    "ax2.set_xlabel(\"Frequency\")\n",
    "ax2.set_title(\"Top 20 Most Frequent Bigrams\")\n",
    "ax2.invert_yaxis()\n",
    "\n",
    "plt.tight_layout()\n",
    "plt.show()"
   ]
  },
  {
   "cell_type": "markdown",
   "id": "dd8a600c",
   "metadata": {},
   "source": [
    "# Prediction stats\n"
   ]
  },
  {
   "cell_type": "code",
   "execution_count": 85,
   "id": "3562916b",
   "metadata": {},
   "outputs": [
    {
     "name": "stdout",
     "output_type": "stream",
     "text": [
      "len(y_true_all)=498, len(y_pred_all)=498\n",
      "len(y_true)=498, len(y_pred)=498\n"
     ]
    },
    {
     "data": {
      "image/png": "[encoded data removed]",
      "text/plain": [
       "<Figure size 800x600 with 1 Axes>"
      ]
     },
     "metadata": {},
     "output_type": "display_data"
    },
    {
     "name": "stdout",
     "output_type": "stream",
     "text": [
      "Confusion Matrix Results:\n",
      "Accuracy: 0.8514\n",
      "Precision: 0.8431\n",
      "Recall: 0.8635\n",
      "Samples: 498\n"
     ]
    }
   ],
   "source": [
    "import numpy as np\n",
    "import pandas as pd\n",
    "import matplotlib.pyplot as plt\n",
    "import seaborn as sns\n",
    "from sklearn.metrics import (\n",
    "    confusion_matrix,\n",
    "    precision_score,\n",
    "    recall_score,\n",
    "    accuracy_score,\n",
    ")\n",
    "\n",
    "PRED_COL = \"prediction\"  # Single prediction column\n",
    "TRUTH_COL = \"is_antisemitic\"\n",
    "\n",
    "\n",
    "def coerce_to_binary(s: pd.Series) -> pd.Series:\n",
    "    \"\"\"\n",
    "    Convert common truthy/falsey values to {0,1}, keep unknowns as NaN.\n",
    "    Handles bools, 0/1, and strings like 'true','false','yes','no'.\n",
    "    \"\"\"\n",
    "    if s.dtype == bool:\n",
    "        return s.astype(int)\n",
    "    if pd.api.types.is_numeric_dtype(s):\n",
    "        return pd.to_numeric(s, errors=\"coerce\").round().clip(0, 1).astype(\"Int64\")\n",
    "    # strings\n",
    "    true_vals = {\"true\", \"1\", \"yes\", \"y\", \"t\", \"antisemitic\"}\n",
    "    false_vals = {\"false\", \"0\", \"no\", \"n\", \"f\", \"non-antisemitic\", \"not antisemitic\"}\n",
    "    ss = s.astype(str).str.strip().str.lower()\n",
    "    mapped = ss.map(\n",
    "        lambda x: 1 if x in true_vals else (0 if x in false_vals else np.nan)\n",
    "    )\n",
    "    return pd.Series(mapped, index=s.index, dtype=\"float\")\n",
    "\n",
    "\n",
    "def calculate_metrics(y_true, y_pred):\n",
    "    cm = confusion_matrix(y_true, y_pred, labels=[0, 1])\n",
    "    precision = precision_score(y_true, y_pred, zero_division=0)\n",
    "    recall = recall_score(y_true, y_pred, zero_division=0)\n",
    "    accuracy = accuracy_score(y_true, y_pred)\n",
    "    return cm, precision, recall, accuracy\n",
    "\n",
    "\n",
    "# Prepare truth and prediction\n",
    "y_true_all = coerce_to_binary(df[TRUTH_COL])\n",
    "y_pred_all = coerce_to_binary(df[PRED_COL])\n",
    "\n",
    "print(f\"{len(y_true_all)=}, {len(y_pred_all)=}\")\n",
    "# Align and drop rows with NaNs in either\n",
    "mask = (~pd.isna(y_true_all)) & (~pd.isna(y_pred_all))\n",
    "y_true = y_true_all[mask].astype(int)\n",
    "y_pred = y_pred_all[mask].astype(int)\n",
    "\n",
    "print(f\"{len(y_true)=}, {len(y_pred)=}\")\n",
    "\n",
    "cm, precision, recall, accuracy = calculate_metrics(y_true, y_pred)\n",
    "\n",
    "# Get model name if available\n",
    "model_name = None\n",
    "if \"model\" in df.columns and df[\"model\"].notna().any():\n",
    "    try:\n",
    "        model_name = df[\"model\"].dropna().iloc[0].split(\"/\")[-1]\n",
    "    except Exception:\n",
    "        model_name = df[\"model\"].dropna().iloc[0]\n",
    "\n",
    "# Plot confusion matrix\n",
    "fig, ax = plt.subplots(1, 1, figsize=(8, 6))\n",
    "sns.heatmap(\n",
    "    cm,\n",
    "    annot=True,\n",
    "    fmt=\"d\",\n",
    "    cmap=\"Blues\",\n",
    "    cbar=False,\n",
    "    xticklabels=[\"Predicted Non-antisemitic\", \"Predicted Antisemitic\"],\n",
    "    yticklabels=[\"Actual Non-antisemitic\", \"Actual Antisemitic\"],\n",
    "    ax=ax,\n",
    ")\n",
    "\n",
    "title_bits = [\n",
    "    f\"Accuracy: {accuracy:.3f}\",\n",
    "    f\"Precision: {precision:.3f}\",\n",
    "    f\"Recall: {recall:.3f}\",\n",
    "    f\"N: {int(mask.sum())}\",\n",
    "]\n",
    "ax.set_title(\" | \".join(title_bits), fontsize=14)\n",
    "ax.set_xlabel(\"Predicted\", fontsize=12)\n",
    "ax.set_ylabel(\"Actual\", fontsize=12)\n",
    "\n",
    "if model_name:\n",
    "    fig.suptitle(f\"Confusion Matrix - {model_name}\", y=1.02, fontsize=16)\n",
    "\n",
    "plt.tight_layout()\n",
    "plt.show()\n",
    "\n",
    "# Print metrics\n",
    "print(f\"Confusion Matrix Results:\")\n",
    "print(f\"Accuracy: {accuracy:.4f}\")\n",
    "print(f\"Precision: {precision:.4f}\")\n",
    "print(f\"Recall: {recall:.4f}\")\n",
    "print(f\"Samples: {int(mask.sum())}\")"
   ]
  },
  {
   "cell_type": "code",
   "execution_count": 86,
   "id": "06aedd71",
   "metadata": {},
   "outputs": [
    {
     "name": "stderr",
     "output_type": "stream",
     "text": [
      "/var/folders/yc/2ky7xhns66nbhnjkcrs4p1nw0000gp/T/ipykernel_29899/2289298042.py:17: SettingWithCopyWarning: \n",
      "A value is trying to be set on a copy of a slice from a DataFrame.\n",
      "Try using .loc[row_indexer,col_indexer] = value instead\n",
      "\n",
      "See the caveats in the documentation: https://pandas.pydata.org/pandas-docs/stable/user_guide/indexing.html#returning-a-view-versus-a-copy\n",
      "  df[\"error_type\"] = df.apply(classify_error, axis=1)\n"
     ]
    },
    {
     "data": {
      "application/vnd.microsoft.datawrangler.viewer.v0+json": {
       "columns": [
        {
         "name": "error_type",
         "rawType": "object",
         "type": "string"
        },
        {
         "name": "count",
         "rawType": "int64",
         "type": "integer"
        }
       ],
       "ref": "d8f5df92-a258-4ef9-b486-4b10ffa64b1e",
       "rows": [
        [
         "true_positive",
         "215"
        ],
        [
         "true_negative",
         "209"
        ],
        [
         "false_positive",
         "40"
        ],
        [
         "false_negative",
         "34"
        ]
       ],
       "shape": {
        "columns": 1,
        "rows": 4
       }
      },
      "text/plain": [
       "error_type\n",
       "true_positive     215\n",
       "true_negative     209\n",
       "false_positive     40\n",
       "false_negative     34\n",
       "Name: count, dtype: int64"
      ]
     },
     "execution_count": 86,
     "metadata": {},
     "output_type": "execute_result"
    }
   ],
   "source": [
    "# create a column error type:\n",
    "def classify_error(row):\n",
    "    if pd.isna(row[TRUTH_COL]) or pd.isna(row[PRED_COL]):\n",
    "        return \"unknown\"\n",
    "    elif row[TRUTH_COL] == 1 and row[PRED_COL] == 1:\n",
    "        return \"true_positive\"\n",
    "    elif row[TRUTH_COL] == 0 and row[PRED_COL] == 0:\n",
    "        return \"true_negative\"\n",
    "    elif row[TRUTH_COL] == 0 and row[PRED_COL] == 1:\n",
    "        return \"false_positive\"\n",
    "    elif row[TRUTH_COL] == 1 and row[PRED_COL] == 0:\n",
    "        return \"false_negative\"\n",
    "    else:\n",
    "        return \"unknown\"\n",
    "\n",
    "\n",
    "df[\"error_type\"] = df.apply(classify_error, axis=1)\n",
    "df[\"error_type\"].value_counts()"
   ]
  },
  {
   "cell_type": "code",
   "execution_count": 98,
   "id": "75967dcf",
   "metadata": {},
   "outputs": [],
   "source": [
    "from utils import load_trainset\n",
    "\n",
    "\n",
    "def load_trainset() -> pd.DataFrame:\n",
    "    \"\"\"Load the original training dataset from CSV.\"\"\"\n",
    "    train_path = f\"{PROJECT_ROOT}/datasets/train_test_datasets/train.csv\"\n",
    "    return pd.read_csv(train_path)\n",
    "\n",
    "\n",
    "original_train = load_trainset()\n",
    "original_train[\"original_index\"] = original_train.index\n",
    "\n",
    "df_full = pd.merge(\n",
    "    df,\n",
    "    original_train[[\"original_index\", \"ID\", \"CreateDate\", \"Username\", \"Text\"]].rename(\n",
    "        columns={\"Text\": \"original_text\"}\n",
    "    ),\n",
    "    how=\"left\",\n",
    "    on=\"original_index\",\n",
    ")"
   ]
  },
  {
   "cell_type": "code",
   "execution_count": 104,
   "id": "6e0e8da2",
   "metadata": {},
   "outputs": [],
   "source": [
    "relevant_cols = [\n",
    "    \"text\",\n",
    "    TRUTH_COL,\n",
    "    PRED_COL,\n",
    "    \"original_index\",\n",
    "    \"ID\",\n",
    "    \"CreateDate\",\n",
    "    \"Username\",\n",
    "    \"description\",\n",
    "    \"keyword\",\n",
    "    \"original_text\",\n",
    "    \"error_type\",\n",
    "]\n",
    "df_full[relevant_cols].sample(df_full.shape[0], random_state=42).to_csv(\n",
    "    f\"{PROJECT_ROOT}/outputs/500_samples_ihra_half_antisemitic_no_urls/error_analysis.csv\",\n",
    "    index=False,\n",
    ")"
   ]
  },
  {
   "cell_type": "code",
   "execution_count": null,
   "id": "fc318fc9",
   "metadata": {},
   "outputs": [],
   "source": [
    "# Get error counts by keyword\n",
    "error_counts = (\n",
    "    df[df[\"error_type\"].isin([\"False Negative\", \"False Positive\"])]\n",
    "    .groupby(\"keyword\")[\"error_type\"]\n",
    "    .value_counts()\n",
    ")\n",
    "\n",
    "# Get total keyword counts\n",
    "keyword_totals = df[\"keyword\"].value_counts()\n",
    "\n",
    "# Normalize error counts by keyword totals\n",
    "error_rates = error_counts / keyword_totals\n",
    "\n",
    "print(\"Error rates (normalized by keyword frequency):\")\n",
    "print(error_rates)\n",
    "print()\n",
    "print(\"Error counts (absolute):\")\n",
    "print(error_counts)\n",
    "print()\n",
    "print(\"Keyword totals:\")\n",
    "print(keyword_totals)"
   ]
  },
  {
   "cell_type": "code",
   "execution_count": 67,
   "id": "3a44abdf",
   "metadata": {},
   "outputs": [
    {
     "data": {
      "application/vnd.microsoft.datawrangler.viewer.v0+json": {
       "columns": [
        {
         "name": "keyword",
         "rawType": "object",
         "type": "string"
        },
        {
         "name": "count",
         "rawType": "int64",
         "type": "integer"
        }
       ],
       "ref": "c5bb52da-351d-45b5-9307-0557957802c3",
       "rows": [
        [
         "Jews",
         "294"
        ],
        [
         "Israel",
         "90"
        ],
        [
         "ZioNazi",
         "64"
        ],
        [
         "Kikes",
         "50"
        ]
       ],
       "shape": {
        "columns": 1,
        "rows": 4
       }
      },
      "text/plain": [
       "keyword\n",
       "Jews       294\n",
       "Israel      90\n",
       "ZioNazi     64\n",
       "Kikes       50\n",
       "Name: count, dtype: int64"
      ]
     },
     "execution_count": 67,
     "metadata": {},
     "output_type": "execute_result"
    }
   ],
   "source": [
    "# Get total keyword counts\n",
    "keyword_totals = df[\"keyword\"].value_counts()\n",
    "\n",
    "# Normalize error counts by keyword totals\n",
    "error_rates = error_counts / keyword_totals\n",
    "\n",
    "print(\"Error rates (normalized by keyword frequency):\")\n",
    "print(error_rates)\n",
    "print()\n",
    "print(\"Error counts (absolute):\")\n",
    "print(error_counts)\n",
    "print()\n",
    "print(\"Keyword totals:\")\n",
    "print(keyword_totals)"
   ]
  },
  {
   "cell_type": "code",
   "execution_count": null,
   "id": "8f80bf9d",
   "metadata": {},
   "outputs": [],
   "source": []
  }
 ],
 "metadata": {
  "kernelspec": {
   "display_name": "meaningful-transparency (3.12.11)",
   "language": "python",
   "name": "python3"
  },
  "language_info": {
   "codemirror_mode": {
    "name": "ipython",
    "version": 3
   },
   "file_extension": ".py",
   "mimetype": "text/x-python",
   "name": "python",
   "nbconvert_exporter": "python",
   "pygments_lexer": "ipython3",
   "version": "3.12.11"
  }
 },
 "nbformat": 4,
 "nbformat_minor": 5
}
